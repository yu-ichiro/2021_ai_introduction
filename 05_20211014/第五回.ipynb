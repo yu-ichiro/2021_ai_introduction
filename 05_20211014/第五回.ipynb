{
 "cells": [
  {
   "cell_type": "code",
   "execution_count": 3,
   "metadata": {
    "collapsed": true,
    "pycharm": {
     "name": "#%%\n"
    }
   },
   "outputs": [],
   "source": [
    "import matplotlib.pyplot as plt"
   ]
  },
  {
   "cell_type": "code",
   "execution_count": 9,
   "outputs": [
    {
     "data": {
      "text/plain": "<matplotlib.image.AxesImage at 0x10e957070>"
     },
     "execution_count": 9,
     "metadata": {},
     "output_type": "execute_result"
    },
    {
     "data": {
      "text/plain": "<Figure size 432x288 with 1 Axes>",
      "image/png": "[encoded data removed]"
     },
     "metadata": {
      "needs_background": "light"
     },
     "output_type": "display_data"
    }
   ],
   "source": [
    "\n",
    "cluster_age = [\n",
    "    [0, 0, 3, 11, 12, 6, 0, 0],\n",
    "    [0, 0, 0, 0, 0, 1, 13, 8],\n",
    "    [9, 9, 5, 0, 0, 0, 0, 0],\n",
    "    [9, 8, 4, 0, 0, 0, 0, 0],\n",
    "    [0, 0, 0, 0, 7, 13, 7, 2],\n",
    "    [2, 3, 8, 9, 1, 0, 0, 0],\n",
    "]\n",
    "\n",
    "plt.imshow(cluster_age, cmap=\"Reds\")"
   ],
   "metadata": {
    "collapsed": false,
    "pycharm": {
     "name": "#%%\n"
    }
   }
  },
  {
   "cell_type": "code",
   "execution_count": 35,
   "outputs": [],
   "source": [
    "\n",
    "from typing import cast, Type\n",
    "from decimal import Decimal\n",
    "\n",
    "\n",
    "class Si:\n",
    "    unit_num = []\n",
    "    unit_den = []\n",
    "\n",
    "    def __init__(self, i, e=0):\n",
    "        self.i = Decimal(i)\n",
    "        self._e = e\n",
    "\n",
    "    @property\n",
    "    def unit(self):\n",
    "        unit = \"\".join(self.unit_num)\n",
    "        unit += \"/\"\n",
    "        unit += \"\".join(self.unit_den)\n",
    "        return unit\n",
    "\n",
    "    @property\n",
    "    def e(self):\n",
    "        return self._e\n",
    "\n",
    "    @e.setter\n",
    "    def e(self, e):\n",
    "        self.i *= Decimal(10)**(self.e - e)\n",
    "        self._e = e\n",
    "\n",
    "    @property\n",
    "    def prefix(self):\n",
    "        return {\n",
    "            -6: \"m\",\n",
    "            -3: \"m\",\n",
    "            -2: \"c\",\n",
    "            -1: \"d\",\n",
    "            0: \"\",\n",
    "            3: \"k\",\n",
    "            6: \"M\",\n",
    "            9: \"G\",\n",
    "            12: \"T\",\n",
    "        }.get(self.e, f\"e{self.e}\")\n",
    "\n",
    "    def __repr__(self):\n",
    "        return f\"{self.i}{self.prefix}{self.unit}\"\n",
    "\n",
    "    def __add__(self, other):\n",
    "        cls = type(self)\n",
    "        if not isinstance(other, Si):\n",
    "            other = cls(other, self.e)\n",
    "        if self.unit != other.unit:\n",
    "            raise ArithmeticError(\"units differ\")\n",
    "        other.e = self.e\n",
    "        return cls(self.i + other.i, self.e)\n",
    "\n",
    "    def __sub__(self, other):\n",
    "        cls = type(self)\n",
    "        if not isinstance(other, Si):\n",
    "            other = cls(other, self.e)\n",
    "        if self.unit != other.unit:\n",
    "            raise ArithmeticError(\"units differ\")\n",
    "        other.e = self.e\n",
    "        return cls(self.i + other.i, self.e)\n",
    "\n",
    "    def __div__(self, other):\n",
    "        cls = type(self)\n",
    "        if not isinstance(other, Si):\n",
    "            other = cls(other, self.e)\n",
    "        if self.unit != other.unit:\n",
    "            other.e = 0\n",
    "            cls_name = f\"{cls.__name__}Per{type(other).__class__}\"\n",
    "            new_cls = cast(Type[Si], type(cls_name, Si))  # type: Type[Si]\n",
    "            new_cls.unit_num = self.unit_num + other.unit_den\n",
    "            new_cls.unit_den = self.unit_den + other.unit_num\n",
    "            return new_cls(self.i / other.i, self.e)\n",
    "        other.e = self.e\n",
    "        return cls(self.i + other.i, self.e)\n",
    "\n",
    "    def __mul__(self, other):\n",
    "        cls = type(self)\n",
    "        if not isinstance(other, Si):\n",
    "            other = cls(other, self.e)\n",
    "        if self.unit != other.unit:\n",
    "            other.e = 0\n",
    "            cls_name = f\"{cls.__name__}Per{type(other).__class__}\"\n",
    "            new_cls = cast(Type[Si], type(cls_name, Si))  # type: Type[Si]\n",
    "            new_cls.unit_num = self.unit_num + other.unit_den\n",
    "            new_cls.unit_den = self.unit_den + other.unit_num\n",
    "            return new_cls(self.i / other.i, self.e)\n",
    "        other.e = self.e\n",
    "        return cls(self.i + other.i, self.e)\n"
   ],
   "metadata": {
    "collapsed": false,
    "pycharm": {
     "name": "#%%\n"
    }
   }
  },
  {
   "cell_type": "code",
   "execution_count": 41,
   "outputs": [
    {
     "data": {
      "text/plain": "2.000km"
     },
     "execution_count": 41,
     "metadata": {},
     "output_type": "execute_result"
    }
   ],
   "source": [
    "class Meter(Si):\n",
    "    unit = 'm'\n",
    "\n",
    "\n",
    "km = Meter(1000)\n",
    "km.e = 3\n",
    "km + km"
   ],
   "metadata": {
    "collapsed": false,
    "pycharm": {
     "name": "#%%\n"
    }
   }
  },
  {
   "cell_type": "code",
   "execution_count": null,
   "outputs": [],
   "source": [
    "def free_fall(t, G=9.80665):\n",
    "    return (-G * t ** 2) / 2\n",
    "\n"
   ],
   "metadata": {
    "collapsed": false,
    "pycharm": {
     "name": "#%%\n"
    }
   }
  },
  {
   "cell_type": "code",
   "execution_count": null,
   "outputs": [],
   "source": [],
   "metadata": {
    "collapsed": false,
    "pycharm": {
     "name": "#%%\n"
    }
   }
  }
 ],
 "metadata": {
  "kernelspec": {
   "display_name": "Python 3",
   "language": "python",
   "name": "python3"
  },
  "language_info": {
   "codemirror_mode": {
    "name": "ipython",
    "version": 2
   },
   "file_extension": ".py",
   "mimetype": "text/x-python",
   "name": "python",
   "nbconvert_exporter": "python",
   "pygments_lexer": "ipython2",
   "version": "2.7.6"
  }
 },
 "nbformat": 4,
 "nbformat_minor": 0
}