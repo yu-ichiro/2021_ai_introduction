{
 "cells": [
  {
   "cell_type": "markdown",
   "source": [
    "※ 一つ前の週の課題をやり忘れていたので、今回一緒に添付します"
   ],
   "metadata": {
    "collapsed": false
   }
  },
  {
   "cell_type": "markdown",
   "source": [
    "# 練習19 ニュートン・ラフソン法"
   ],
   "metadata": {
    "collapsed": false,
    "pycharm": {
     "name": "#%% md\n"
    }
   }
  },
  {
   "cell_type": "code",
   "execution_count": 12,
   "outputs": [
    {
     "data": {
      "text/plain": "1.4142135623730951"
     },
     "execution_count": 12,
     "metadata": {},
     "output_type": "execute_result"
    }
   ],
   "source": [
    "def newton_raphson_sqrt(n, delta=10**-15):\n",
    "    x = n / 2\n",
    "    while abs(diff := ((x**2 - n) / (n*x))) > delta:\n",
    "        x -= diff\n",
    "    return x\n",
    "root = newton_raphson_sqrt\n",
    "root(2)"
   ],
   "metadata": {
    "collapsed": false,
    "pycharm": {
     "name": "#%%\n"
    }
   }
  },
  {
   "cell_type": "markdown",
   "source": [
    "# 練習20 make15"
   ],
   "metadata": {
    "collapsed": false,
    "pycharm": {
     "name": "#%% md\n"
    }
   }
  },
  {
   "cell_type": "code",
   "execution_count": 13,
   "outputs": [
    {
     "name": "stdout",
     "output_type": "stream",
     "text": [
      "5 [0, 2, 3, 4, 6, 7, 8]\n",
      "7 [0, 3, 4, 8]\n",
      "None [0, 3, 4, 8]\n"
     ]
    }
   ],
   "source": [
    "def make15(a, b, l: list):\n",
    "    rest = set(l)\n",
    "    target = 15 - a - b\n",
    "    if {a, b, target} - rest:\n",
    "        return None\n",
    "    else:\n",
    "        l.clear()\n",
    "        l.extend(rest - {a, b, target})\n",
    "        l.sort()\n",
    "        return target\n",
    "\n",
    "data = list(range(10))\n",
    "print(make15(1, 9, data), data)\n",
    "print(make15(2, 6, data), data)\n",
    "print(make15(3, 6, data), data)"
   ],
   "metadata": {
    "collapsed": false,
    "pycharm": {
     "name": "#%%\n"
    }
   }
  },
  {
   "cell_type": "markdown",
   "source": [
    "# 練習21 誕生日"
   ],
   "metadata": {
    "collapsed": false,
    "pycharm": {
     "name": "#%% md\n"
    }
   }
  },
  {
   "cell_type": "code",
   "execution_count": 14,
   "outputs": [
    {
     "data": {
      "text/plain": "12"
     },
     "execution_count": 14,
     "metadata": {},
     "output_type": "execute_result"
    }
   ],
   "source": [
    "import random\n",
    "\n",
    "def birthcheck():\n",
    "    birthdays = random.choices(range(365), k=100)\n",
    "    grouped = {d: 0 for d in range(365)}\n",
    "\n",
    "    for d in birthdays:\n",
    "        grouped[d] += 1\n",
    "\n",
    "    return len([_ for c in grouped.values() if c > 1])\n",
    "\n",
    "birthcheck()\n"
   ],
   "metadata": {
    "collapsed": false,
    "pycharm": {
     "name": "#%%\n"
    }
   }
  },
  {
   "cell_type": "markdown",
   "source": [
    "# 練習22 おつり"
   ],
   "metadata": {
    "collapsed": false
   }
  },
  {
   "cell_type": "code",
   "execution_count": 15,
   "outputs": [],
   "source": [
    "def change(amount, payment=1000, coins=(1, 5, 10, 50, 100, 500)):\n",
    "    return_amount = payment - amount\n",
    "    if return_amount < 0:\n",
    "        raise AssertionError(\"Payment not enough!\")\n",
    "    changes = {c: 0 for c in coins}\n",
    "    coins = sorted(coins)\n",
    "    while return_amount > 0:\n",
    "        coin = coins.pop()\n",
    "        while coin <= return_amount:\n",
    "            return_amount -= coin\n",
    "            changes[coin] += 1\n",
    "    return changes"
   ],
   "metadata": {
    "collapsed": false,
    "pycharm": {
     "name": "#%%\n"
    }
   }
  },
  {
   "cell_type": "code",
   "execution_count": 16,
   "outputs": [
    {
     "name": "stdout",
     "output_type": "stream",
     "text": [
      "4\n",
      "15\n"
     ]
    }
   ],
   "source": [
    "while (x := int(input())) != 0:\n",
    "    print(sum(change(x).values()))"
   ],
   "metadata": {
    "collapsed": false,
    "pycharm": {
     "name": "#%%\n"
    }
   }
  },
  {
   "cell_type": "code",
   "execution_count": 16,
   "outputs": [],
   "source": [],
   "metadata": {
    "collapsed": false,
    "pycharm": {
     "name": "#%%\n"
    }
   }
  }
 ],
 "metadata": {
  "kernelspec": {
   "display_name": "Python 3",
   "language": "python",
   "name": "python3"
  },
  "language_info": {
   "codemirror_mode": {
    "name": "ipython",
    "version": 2
   },
   "file_extension": ".py",
   "mimetype": "text/x-python",
   "name": "python",
   "nbconvert_exporter": "python",
   "pygments_lexer": "ipython2",
   "version": "2.7.6"
  }
 },
 "nbformat": 4,
 "nbformat_minor": 0
}