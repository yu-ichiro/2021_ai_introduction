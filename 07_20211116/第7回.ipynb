{
 "cells": [
  {
   "cell_type": "code",
   "execution_count": 100,
   "outputs": [
    {
     "data": {
      "text/plain": "datetime.datetime(2021, 2, 3, 0, 0)"
     },
     "execution_count": 100,
     "metadata": {},
     "output_type": "execute_result"
    }
   ],
   "source": [
    "from datetime import datetime, timedelta\n",
    "from eacal import EACal\n",
    "\n",
    "risshun = datetime(2021, 2, 3)\n",
    "risshun"
   ],
   "metadata": {
    "collapsed": false,
    "pycharm": {
     "name": "#%%\n"
    }
   }
  },
  {
   "cell_type": "code",
   "execution_count": 99,
   "outputs": [
    {
     "data": {
      "text/plain": "datetime.datetime(2021, 5, 1, 0, 0)"
     },
     "execution_count": 99,
     "metadata": {},
     "output_type": "execute_result"
    }
   ],
   "source": [
    "eighty_eight = risshun + timedelta(days=87)\n",
    "eighty_eight"
   ],
   "metadata": {
    "collapsed": false,
    "pycharm": {
     "name": "#%%\n"
    }
   }
  },
  {
   "cell_type": "code",
   "execution_count": 102,
   "outputs": [
    {
     "data": {
      "text/plain": "<eacal.EACal at 0x1034fc370>"
     },
     "execution_count": 102,
     "metadata": {},
     "output_type": "execute_result"
    }
   ],
   "source": [
    "cal = EACal(ja=True)\n",
    "cal"
   ],
   "metadata": {
    "collapsed": false,
    "pycharm": {
     "name": "#%%\n"
    }
   }
  },
  {
   "cell_type": "code",
   "execution_count": 108,
   "outputs": [
    {
     "data": {
      "text/plain": "datetime.datetime(2021, 2, 3, 23, 58, 38, 99697, tzinfo=<DstTzInfo 'Asia/Tokyo' JST+9:00:00 STD>)"
     },
     "execution_count": 108,
     "metadata": {},
     "output_type": "execute_result"
    }
   ],
   "source": [
    "risshun = cal.get_annual_solar_terms(2021)[2][2]\n",
    "risshun"
   ],
   "metadata": {
    "collapsed": false,
    "pycharm": {
     "name": "#%%\n"
    }
   }
  },
  {
   "cell_type": "code",
   "execution_count": 109,
   "outputs": [],
   "source": [
    "def f(x):\n",
    "    return x**2 - 2"
   ],
   "metadata": {
    "collapsed": false,
    "pycharm": {
     "name": "#%%\n"
    }
   }
  },
  {
   "cell_type": "code",
   "execution_count": 141,
   "outputs": [],
   "source": [
    "def approx(g, start, end, target=0, delta=10**-15):\n",
    "    while end - start > delta:\n",
    "        res = (start + end) / 2\n",
    "        if g(res) < target:\n",
    "            start = res\n",
    "        else:\n",
    "            end = res\n",
    "        print(res)\n",
    "    return start"
   ],
   "metadata": {
    "collapsed": false,
    "pycharm": {
     "name": "#%%\n"
    }
   }
  },
  {
   "cell_type": "code",
   "execution_count": 142,
   "outputs": [
    {
     "name": "stdout",
     "output_type": "stream",
     "text": [
      "1.0\n",
      "1.5\n",
      "1.25\n",
      "1.375\n",
      "1.4375\n",
      "1.40625\n",
      "1.421875\n",
      "1.4140625\n",
      "1.41796875\n",
      "1.416015625\n",
      "1.4150390625\n",
      "1.41455078125\n",
      "1.414306640625\n",
      "1.4141845703125\n",
      "1.41424560546875\n",
      "1.414215087890625\n",
      "1.4141998291015625\n",
      "1.4142074584960938\n",
      "1.4142112731933594\n",
      "1.4142131805419922\n",
      "1.4142141342163086\n",
      "1.4142136573791504\n",
      "1.4142134189605713\n",
      "1.4142135381698608\n",
      "1.4142135977745056\n",
      "1.4142135679721832\n",
      "1.414213553071022\n",
      "1.4142135605216026\n",
      "1.414213564246893\n",
      "1.4142135623842478\n",
      "1.4142135614529252\n",
      "1.4142135619185865\n",
      "1.4142135621514171\n",
      "1.4142135622678325\n",
      "1.4142135623260401\n",
      "1.414213562355144\n",
      "1.4142135623696959\n",
      "1.4142135623769718\n",
      "1.4142135623733338\n",
      "1.4142135623715149\n",
      "1.4142135623724243\n",
      "1.414213562372879\n",
      "1.4142135623731065\n",
      "1.4142135623729928\n",
      "1.4142135623730496\n",
      "1.414213562373078\n",
      "1.4142135623730923\n",
      "1.4142135623730994\n",
      "1.4142135623730958\n",
      "1.414213562373094\n",
      "1.414213562373095\n"
     ]
    },
    {
     "data": {
      "text/plain": "1.414213562373095"
     },
     "execution_count": 142,
     "metadata": {},
     "output_type": "execute_result"
    }
   ],
   "source": [
    "approx(f, 0, 2)\n"
   ],
   "metadata": {
    "collapsed": false,
    "pycharm": {
     "name": "#%%\n"
    }
   }
  },
  {
   "cell_type": "code",
   "execution_count": 143,
   "outputs": [],
   "source": [
    "import math"
   ],
   "metadata": {
    "collapsed": false,
    "pycharm": {
     "name": "#%%\n"
    }
   }
  },
  {
   "cell_type": "code",
   "execution_count": 144,
   "outputs": [
    {
     "data": {
      "text/plain": "1.4142135623730951"
     },
     "execution_count": 144,
     "metadata": {},
     "output_type": "execute_result"
    }
   ],
   "source": [
    "math.sqrt(2)"
   ],
   "metadata": {
    "collapsed": false,
    "pycharm": {
     "name": "#%%\n"
    }
   }
  },
  {
   "cell_type": "code",
   "execution_count": 166,
   "outputs": [],
   "source": [
    "def newton_raphson_sqrt(n, delta=10**-15):\n",
    "    x = n / 2\n",
    "    while abs(diff := ((x**2 - n) / (n*x))) > delta:\n",
    "        x -= diff\n",
    "    return x"
   ],
   "metadata": {
    "collapsed": false,
    "pycharm": {
     "name": "#%%\n"
    }
   }
  },
  {
   "cell_type": "code",
   "execution_count": 172,
   "outputs": [
    {
     "data": {
      "text/plain": "2.6457513110645934"
     },
     "execution_count": 172,
     "metadata": {},
     "output_type": "execute_result"
    }
   ],
   "source": [
    "newton_raphson_sqrt(7)"
   ],
   "metadata": {
    "collapsed": false,
    "pycharm": {
     "name": "#%%\n"
    }
   }
  },
  {
   "cell_type": "code",
   "execution_count": 173,
   "outputs": [],
   "source": [
    "def make15(a, b, rest):\n",
    "    rest = set(rest)\n",
    "    target = 15 - a - b\n",
    "    if {a, b, target} - rest:\n",
    "        return None, rest\n",
    "    else:\n",
    "        return target, rest - {a, b, target}"
   ],
   "metadata": {
    "collapsed": false,
    "pycharm": {
     "name": "#%%\n"
    }
   }
  },
  {
   "cell_type": "code",
   "execution_count": 177,
   "outputs": [
    {
     "data": {
      "text/plain": "5"
     },
     "execution_count": 177,
     "metadata": {},
     "output_type": "execute_result"
    }
   ],
   "source": [
    "res, left = make15(1, 9, range(16))\n",
    "res"
   ],
   "metadata": {
    "collapsed": false,
    "pycharm": {
     "name": "#%%\n"
    }
   }
  },
  {
   "cell_type": "code",
   "execution_count": 180,
   "outputs": [
    {
     "data": {
      "text/plain": "6"
     },
     "execution_count": 180,
     "metadata": {},
     "output_type": "execute_result"
    }
   ],
   "source": [
    "res, left = make15(2, 7, left)\n",
    "res"
   ],
   "metadata": {
    "collapsed": false,
    "pycharm": {
     "name": "#%%\n"
    }
   }
  },
  {
   "cell_type": "code",
   "execution_count": 181,
   "outputs": [
    {
     "data": {
      "text/plain": "{0, 3, 4, 8, 10, 11, 12, 13, 14, 15}"
     },
     "execution_count": 181,
     "metadata": {},
     "output_type": "execute_result"
    }
   ],
   "source": [
    "left"
   ],
   "metadata": {
    "collapsed": false,
    "pycharm": {
     "name": "#%%\n"
    }
   }
  },
  {
   "cell_type": "code",
   "execution_count": 193,
   "outputs": [],
   "source": [
    "import random\n",
    "\n",
    "birthdays = random.choices(range(365), k=100)\n",
    "grouped = {d: 0 for d in range(365)}\n",
    "\n",
    "for d in birthdays:\n",
    "    grouped[d] += 1\n"
   ],
   "metadata": {
    "collapsed": false,
    "pycharm": {
     "name": "#%%\n"
    }
   }
  },
  {
   "cell_type": "code",
   "execution_count": 194,
   "outputs": [
    {
     "name": "stdout",
     "output_type": "stream",
     "text": [
      "40 3\n",
      "48 2\n",
      "56 2\n",
      "64 2\n",
      "65 2\n",
      "95 2\n",
      "204 2\n",
      "242 2\n",
      "262 2\n",
      "357 2\n"
     ]
    }
   ],
   "source": [
    "for d, count in grouped.items():\n",
    "    if count > 1:\n",
    "        print(d, count)"
   ],
   "metadata": {
    "collapsed": false,
    "pycharm": {
     "name": "#%%\n"
    }
   }
  },
  {
   "cell_type": "code",
   "execution_count": 197,
   "outputs": [],
   "source": [
    "def change(amount, payment=1000, coins=(1, 5, 10, 50, 100, 500)):\n",
    "    return_amount = payment - amount\n",
    "    if return_amount < 0:\n",
    "        raise AssertionError(\"Payment not enough!\")\n",
    "    changes = {c: 0 for c in coins}\n",
    "    coins = sorted(coins)\n",
    "    while return_amount > 0:\n",
    "        coin = coins.pop()\n",
    "        while coin <= return_amount:\n",
    "            return_amount -= coin\n",
    "            changes[coin] += 1\n",
    "    return changes"
   ],
   "metadata": {
    "collapsed": false,
    "pycharm": {
     "name": "#%%\n"
    }
   }
  },
  {
   "cell_type": "code",
   "execution_count": 199,
   "outputs": [
    {
     "data": {
      "text/plain": "{1: 4, 5: 1, 10: 4, 50: 1, 100: 4, 500: 1}"
     },
     "execution_count": 199,
     "metadata": {},
     "output_type": "execute_result"
    }
   ],
   "source": [
    "change(1)"
   ],
   "metadata": {
    "collapsed": false,
    "pycharm": {
     "name": "#%%\n"
    }
   }
  },
  {
   "cell_type": "code",
   "execution_count": 200,
   "outputs": [
    {
     "name": "stdout",
     "output_type": "stream",
     "text": [
      "10\n"
     ]
    }
   ],
   "source": [
    "while (x := int(input())) != 0:\n",
    "    print(sum(change(x).values()))"
   ],
   "metadata": {
    "collapsed": false,
    "pycharm": {
     "name": "#%%\n"
    }
   }
  },
  {
   "cell_type": "code",
   "execution_count": null,
   "outputs": [],
   "source": [],
   "metadata": {
    "collapsed": false,
    "pycharm": {
     "name": "#%%\n"
    }
   }
  }
 ],
 "metadata": {
  "kernelspec": {
   "display_name": "Python 3",
   "language": "python",
   "name": "python3"
  },
  "language_info": {
   "codemirror_mode": {
    "name": "ipython",
    "version": 2
   },
   "file_extension": ".py",
   "mimetype": "text/x-python",
   "name": "python",
   "nbconvert_exporter": "python",
   "pygments_lexer": "ipython2",
   "version": "2.7.6"
  }
 },
 "nbformat": 4,
 "nbformat_minor": 0
}