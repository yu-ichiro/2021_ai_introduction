{
 "cells": [
  {
   "cell_type": "markdown",
   "metadata": {
    "collapsed": true,
    "pycharm": {
     "name": "#%% md\n"
    }
   },
   "source": [
    "# 最終課題\n",
    "\n",
    "Kaggle Username: ysmith1hitu"
   ]
  },
  {
   "cell_type": "code",
   "execution_count": 1,
   "outputs": [],
   "source": [
    "import pandas as pd\n",
    "import seaborn as sns"
   ],
   "metadata": {
    "collapsed": false,
    "pycharm": {
     "name": "#%%\n"
    }
   }
  },
  {
   "cell_type": "code",
   "execution_count": 5,
   "outputs": [
    {
     "data": {
      "text/plain": "      Education  JoiningYear       City  PaymentTier  Age  Gender EverBenched  \\\nID                                                                              \n3401  Bachelors         2018  Bangalore            3   41    Male          No   \n1463  Bachelors         2012  Bangalore            3   27    Male          No   \n4644  Bachelors         2013  Bangalore            3   31  Female          No   \n3303  Bachelors         2016  Bangalore            1   39    Male          No   \n1260  Bachelors         2014       Pune            3   26    Male          No   \n...         ...          ...        ...          ...  ...     ...         ...   \n1149  Bachelors         2013  New Delhi            2   25  Female          No   \n3579    Masters         2015  New Delhi            3   39  Female          No   \n3600  Bachelors         2015       Pune            2   32  Female          No   \n2308  Bachelors         2015  Bangalore            3   27    Male          No   \n2438  Bachelors         2014  Bangalore            3   27    Male          No   \n\n      ExperienceInCurrentDomain  LeaveOrNot  \nID                                           \n3401                          4           1  \n1463                          5           0  \n4644                          5           0  \n3303                          2           0  \n1260                          4           0  \n...                         ...         ...  \n1149                          3           1  \n3579                          2           0  \n3600                          3           1  \n2308                          5           0  \n2438                          5           0  \n\n[2800 rows x 9 columns]",
      "text/html": "<div>\n<style scoped>\n    .dataframe tbody tr th:only-of-type {\n        vertical-align: middle;\n    }\n\n    .dataframe tbody tr th {\n        vertical-align: top;\n    }\n\n    .dataframe thead th {\n        text-align: right;\n    }\n</style>\n<table border=\"1\" class=\"dataframe\">\n  <thead>\n    <tr style=\"text-align: right;\">\n      <th></th>\n      <th>Education</th>\n      <th>JoiningYear</th>\n      <th>City</th>\n      <th>PaymentTier</th>\n      <th>Age</th>\n      <th>Gender</th>\n      <th>EverBenched</th>\n      <th>ExperienceInCurrentDomain</th>\n      <th>LeaveOrNot</th>\n    </tr>\n    <tr>\n      <th>ID</th>\n      <th></th>\n      <th></th>\n      <th></th>\n      <th></th>\n      <th></th>\n      <th></th>\n      <th></th>\n      <th></th>\n      <th></th>\n    </tr>\n  </thead>\n  <tbody>\n    <tr>\n      <th>3401</th>\n      <td>Bachelors</td>\n      <td>2018</td>\n      <td>Bangalore</td>\n      <td>3</td>\n      <td>41</td>\n      <td>Male</td>\n      <td>No</td>\n      <td>4</td>\n      <td>1</td>\n    </tr>\n    <tr>\n      <th>1463</th>\n      <td>Bachelors</td>\n      <td>2012</td>\n      <td>Bangalore</td>\n      <td>3</td>\n      <td>27</td>\n      <td>Male</td>\n      <td>No</td>\n      <td>5</td>\n      <td>0</td>\n    </tr>\n    <tr>\n      <th>4644</th>\n      <td>Bachelors</td>\n      <td>2013</td>\n      <td>Bangalore</td>\n      <td>3</td>\n      <td>31</td>\n      <td>Female</td>\n      <td>No</td>\n      <td>5</td>\n      <td>0</td>\n    </tr>\n    <tr>\n      <th>3303</th>\n      <td>Bachelors</td>\n      <td>2016</td>\n      <td>Bangalore</td>\n      <td>1</td>\n      <td>39</td>\n      <td>Male</td>\n      <td>No</td>\n      <td>2</td>\n      <td>0</td>\n    </tr>\n    <tr>\n      <th>1260</th>\n      <td>Bachelors</td>\n      <td>2014</td>\n      <td>Pune</td>\n      <td>3</td>\n      <td>26</td>\n      <td>Male</td>\n      <td>No</td>\n      <td>4</td>\n      <td>0</td>\n    </tr>\n    <tr>\n      <th>...</th>\n      <td>...</td>\n      <td>...</td>\n      <td>...</td>\n      <td>...</td>\n      <td>...</td>\n      <td>...</td>\n      <td>...</td>\n      <td>...</td>\n      <td>...</td>\n    </tr>\n    <tr>\n      <th>1149</th>\n      <td>Bachelors</td>\n      <td>2013</td>\n      <td>New Delhi</td>\n      <td>2</td>\n      <td>25</td>\n      <td>Female</td>\n      <td>No</td>\n      <td>3</td>\n      <td>1</td>\n    </tr>\n    <tr>\n      <th>3579</th>\n      <td>Masters</td>\n      <td>2015</td>\n      <td>New Delhi</td>\n      <td>3</td>\n      <td>39</td>\n      <td>Female</td>\n      <td>No</td>\n      <td>2</td>\n      <td>0</td>\n    </tr>\n    <tr>\n      <th>3600</th>\n      <td>Bachelors</td>\n      <td>2015</td>\n      <td>Pune</td>\n      <td>2</td>\n      <td>32</td>\n      <td>Female</td>\n      <td>No</td>\n      <td>3</td>\n      <td>1</td>\n    </tr>\n    <tr>\n      <th>2308</th>\n      <td>Bachelors</td>\n      <td>2015</td>\n      <td>Bangalore</td>\n      <td>3</td>\n      <td>27</td>\n      <td>Male</td>\n      <td>No</td>\n      <td>5</td>\n      <td>0</td>\n    </tr>\n    <tr>\n      <th>2438</th>\n      <td>Bachelors</td>\n      <td>2014</td>\n      <td>Bangalore</td>\n      <td>3</td>\n      <td>27</td>\n      <td>Male</td>\n      <td>No</td>\n      <td>5</td>\n      <td>0</td>\n    </tr>\n  </tbody>\n</table>\n<p>2800 rows × 9 columns</p>\n</div>"
     },
     "execution_count": 5,
     "metadata": {},
     "output_type": "execute_result"
    }
   ],
   "source": [
    "df = pd.read_csv(\"ainyuumon2021winter/train.csv\", index_col=0)\n",
    "df"
   ],
   "metadata": {
    "collapsed": false,
    "pycharm": {
     "name": "#%%\n"
    }
   }
  },
  {
   "cell_type": "code",
   "execution_count": 40,
   "outputs": [],
   "source": [
    "def preprocess(_df):\n",
    "    x = _df[[\"PaymentTier\", \"Age\", \"ExperienceInCurrentDomain\"]]\n",
    "    education = pd.get_dummies(_df[\"Education\"], drop_first=True, prefix=\"Education\")\n",
    "    city = pd.get_dummies(_df[\"City\"], drop_first=True, prefix=\"City\")\n",
    "    gender = pd.get_dummies(_df[\"Gender\"], drop_first=True, prefix=\"Gender\")\n",
    "    elapsed = (_df[\"JoiningYear\"] - _df[\"JoiningYear\"].max()) * -1\n",
    "    elapsed.name = \"ElapsedYears\"\n",
    "    x = pd.concat([x, education, city, gender, elapsed], axis=1)\n",
    "    return x"
   ],
   "metadata": {
    "collapsed": false,
    "pycharm": {
     "name": "#%%\n"
    }
   }
  },
  {
   "cell_type": "code",
   "execution_count": 41,
   "outputs": [
    {
     "data": {
      "text/plain": "      PaymentTier  Age  ExperienceInCurrentDomain  Education_Masters  \\\nID                                                                     \n3401            3   41                          4                  0   \n1463            3   27                          5                  0   \n4644            3   31                          5                  0   \n3303            1   39                          2                  0   \n1260            3   26                          4                  0   \n...           ...  ...                        ...                ...   \n1149            2   25                          3                  0   \n3579            3   39                          2                  1   \n3600            2   32                          3                  0   \n2308            3   27                          5                  0   \n2438            3   27                          5                  0   \n\n      Education_PHD  City_New Delhi  City_Pune  Gender_Male  ElapsedYears  \nID                                                                         \n3401              0               0          0            1             0  \n1463              0               0          0            1             6  \n4644              0               0          0            0             5  \n3303              0               0          0            1             2  \n1260              0               0          1            1             4  \n...             ...             ...        ...          ...           ...  \n1149              0               1          0            0             5  \n3579              0               1          0            0             3  \n3600              0               0          1            0             3  \n2308              0               0          0            1             3  \n2438              0               0          0            1             4  \n\n[2800 rows x 9 columns]",
      "text/html": "<div>\n<style scoped>\n    .dataframe tbody tr th:only-of-type {\n        vertical-align: middle;\n    }\n\n    .dataframe tbody tr th {\n        vertical-align: top;\n    }\n\n    .dataframe thead th {\n        text-align: right;\n    }\n</style>\n<table border=\"1\" class=\"dataframe\">\n  <thead>\n    <tr style=\"text-align: right;\">\n      <th></th>\n      <th>PaymentTier</th>\n      <th>Age</th>\n      <th>ExperienceInCurrentDomain</th>\n      <th>Education_Masters</th>\n      <th>Education_PHD</th>\n      <th>City_New Delhi</th>\n      <th>City_Pune</th>\n      <th>Gender_Male</th>\n      <th>ElapsedYears</th>\n    </tr>\n    <tr>\n      <th>ID</th>\n      <th></th>\n      <th></th>\n      <th></th>\n      <th></th>\n      <th></th>\n      <th></th>\n      <th></th>\n      <th></th>\n      <th></th>\n    </tr>\n  </thead>\n  <tbody>\n    <tr>\n      <th>3401</th>\n      <td>3</td>\n      <td>41</td>\n      <td>4</td>\n      <td>0</td>\n      <td>0</td>\n      <td>0</td>\n      <td>0</td>\n      <td>1</td>\n      <td>0</td>\n    </tr>\n    <tr>\n      <th>1463</th>\n      <td>3</td>\n      <td>27</td>\n      <td>5</td>\n      <td>0</td>\n      <td>0</td>\n      <td>0</td>\n      <td>0</td>\n      <td>1</td>\n      <td>6</td>\n    </tr>\n    <tr>\n      <th>4644</th>\n      <td>3</td>\n      <td>31</td>\n      <td>5</td>\n      <td>0</td>\n      <td>0</td>\n      <td>0</td>\n      <td>0</td>\n      <td>0</td>\n      <td>5</td>\n    </tr>\n    <tr>\n      <th>3303</th>\n      <td>1</td>\n      <td>39</td>\n      <td>2</td>\n      <td>0</td>\n      <td>0</td>\n      <td>0</td>\n      <td>0</td>\n      <td>1</td>\n      <td>2</td>\n    </tr>\n    <tr>\n      <th>1260</th>\n      <td>3</td>\n      <td>26</td>\n      <td>4</td>\n      <td>0</td>\n      <td>0</td>\n      <td>0</td>\n      <td>1</td>\n      <td>1</td>\n      <td>4</td>\n    </tr>\n    <tr>\n      <th>...</th>\n      <td>...</td>\n      <td>...</td>\n      <td>...</td>\n      <td>...</td>\n      <td>...</td>\n      <td>...</td>\n      <td>...</td>\n      <td>...</td>\n      <td>...</td>\n    </tr>\n    <tr>\n      <th>1149</th>\n      <td>2</td>\n      <td>25</td>\n      <td>3</td>\n      <td>0</td>\n      <td>0</td>\n      <td>1</td>\n      <td>0</td>\n      <td>0</td>\n      <td>5</td>\n    </tr>\n    <tr>\n      <th>3579</th>\n      <td>3</td>\n      <td>39</td>\n      <td>2</td>\n      <td>1</td>\n      <td>0</td>\n      <td>1</td>\n      <td>0</td>\n      <td>0</td>\n      <td>3</td>\n    </tr>\n    <tr>\n      <th>3600</th>\n      <td>2</td>\n      <td>32</td>\n      <td>3</td>\n      <td>0</td>\n      <td>0</td>\n      <td>0</td>\n      <td>1</td>\n      <td>0</td>\n      <td>3</td>\n    </tr>\n    <tr>\n      <th>2308</th>\n      <td>3</td>\n      <td>27</td>\n      <td>5</td>\n      <td>0</td>\n      <td>0</td>\n      <td>0</td>\n      <td>0</td>\n      <td>1</td>\n      <td>3</td>\n    </tr>\n    <tr>\n      <th>2438</th>\n      <td>3</td>\n      <td>27</td>\n      <td>5</td>\n      <td>0</td>\n      <td>0</td>\n      <td>0</td>\n      <td>0</td>\n      <td>1</td>\n      <td>4</td>\n    </tr>\n  </tbody>\n</table>\n<p>2800 rows × 9 columns</p>\n</div>"
     },
     "execution_count": 41,
     "metadata": {},
     "output_type": "execute_result"
    }
   ],
   "source": [
    "Y = df[\"LeaveOrNot\"]\n",
    "X = preprocess(df)\n",
    "X"
   ],
   "metadata": {
    "collapsed": false,
    "pycharm": {
     "name": "#%%\n"
    }
   }
  },
  {
   "cell_type": "code",
   "execution_count": 43,
   "outputs": [],
   "source": [
    "from sklearn.model_selection import GridSearchCV, train_test_split\n",
    "from sklearn.linear_model import LogisticRegression\n",
    "from sklearn.preprocessing import PowerTransformer\n",
    "from sklearn.svm import SVR"
   ],
   "metadata": {
    "collapsed": false,
    "pycharm": {
     "name": "#%%\n"
    }
   }
  },
  {
   "cell_type": "code",
   "execution_count": 59,
   "outputs": [
    {
     "name": "stdout",
     "output_type": "stream",
     "text": [
      "0.40206149138978614\n",
      "{'C': 1, 'gamma': 0.1}\n",
      "0.4218568180487645\n",
      "train: 0.7395238095238095\n",
      "test: 0.7585714285714286\n"
     ]
    }
   ],
   "source": [
    "X_train, X_test, Y_train, Y_test = train_test_split(X, Y)\n",
    "\n",
    "trans = PowerTransformer()\n",
    "trans.fit(X_train)\n",
    "\n",
    "# gs = GridSearchCV(\n",
    "#     estimator=SVR(),\n",
    "#     param_grid={\n",
    "#         \"C\": [0.001, 0.01, 0.1, 1, 10, 100],\n",
    "#         \"gamma\": [0.001, 0.01, 0.1, 1, 10, 100],\n",
    "#     },\n",
    "#     cv=5\n",
    "# )\n",
    "# gs.fit(trans.transform(X_train), Y_train)\n",
    "#\n",
    "# print(gs.best_score_)\n",
    "# print(gs.best_params_)\n",
    "# print(gs.score(trans.transform(X_test), Y_test))\n",
    "\n",
    "model = LogisticRegression()\n",
    "model.fit(trans.transform(X_train), Y_train)\n",
    "\n",
    "print(f\"train: {model.score(trans.transform(X_train), Y_train)}\")\n",
    "print(f\"test: {model.score(trans.transform(X_test), Y_test)}\")"
   ],
   "metadata": {
    "collapsed": false,
    "pycharm": {
     "name": "#%%\n"
    }
   }
  },
  {
   "cell_type": "code",
   "execution_count": 52,
   "outputs": [
    {
     "data": {
      "text/plain": "        ID  Education  JoiningYear       City  PaymentTier  Age  Gender  \\\n0     3189  Bachelors         2015  New Delhi            3   40    Male   \n1     4016        PHD         2018  New Delhi            3   34    Male   \n2     2830  Bachelors         2014  Bangalore            3   27    Male   \n3     2239  Bachelors         2013  New Delhi            3   27    Male   \n4     1047  Bachelors         2012  Bangalore            3   28    Male   \n...    ...        ...          ...        ...          ...  ...     ...   \n1848  2241    Masters         2017  New Delhi            2   28    Male   \n1849  2769    Masters         2013  New Delhi            2   26    Male   \n1850  3753    Masters         2017       Pune            2   39    Male   \n1851  4233  Bachelors         2015  New Delhi            3   33  Female   \n1852  2333    Masters         2017  New Delhi            2   28    Male   \n\n     EverBenched  ExperienceInCurrentDomain  \n0             No                          2  \n1             No                          0  \n2            Yes                          5  \n3             No                          5  \n4             No                          1  \n...          ...                        ...  \n1848          No                          1  \n1849          No                          4  \n1850          No                          2  \n1851          No                          5  \n1852          No                          2  \n\n[1853 rows x 9 columns]",
      "text/html": "<div>\n<style scoped>\n    .dataframe tbody tr th:only-of-type {\n        vertical-align: middle;\n    }\n\n    .dataframe tbody tr th {\n        vertical-align: top;\n    }\n\n    .dataframe thead th {\n        text-align: right;\n    }\n</style>\n<table border=\"1\" class=\"dataframe\">\n  <thead>\n    <tr style=\"text-align: right;\">\n      <th></th>\n      <th>ID</th>\n      <th>Education</th>\n      <th>JoiningYear</th>\n      <th>City</th>\n      <th>PaymentTier</th>\n      <th>Age</th>\n      <th>Gender</th>\n      <th>EverBenched</th>\n      <th>ExperienceInCurrentDomain</th>\n    </tr>\n  </thead>\n  <tbody>\n    <tr>\n      <th>0</th>\n      <td>3189</td>\n      <td>Bachelors</td>\n      <td>2015</td>\n      <td>New Delhi</td>\n      <td>3</td>\n      <td>40</td>\n      <td>Male</td>\n      <td>No</td>\n      <td>2</td>\n    </tr>\n    <tr>\n      <th>1</th>\n      <td>4016</td>\n      <td>PHD</td>\n      <td>2018</td>\n      <td>New Delhi</td>\n      <td>3</td>\n      <td>34</td>\n      <td>Male</td>\n      <td>No</td>\n      <td>0</td>\n    </tr>\n    <tr>\n      <th>2</th>\n      <td>2830</td>\n      <td>Bachelors</td>\n      <td>2014</td>\n      <td>Bangalore</td>\n      <td>3</td>\n      <td>27</td>\n      <td>Male</td>\n      <td>Yes</td>\n      <td>5</td>\n    </tr>\n    <tr>\n      <th>3</th>\n      <td>2239</td>\n      <td>Bachelors</td>\n      <td>2013</td>\n      <td>New Delhi</td>\n      <td>3</td>\n      <td>27</td>\n      <td>Male</td>\n      <td>No</td>\n      <td>5</td>\n    </tr>\n    <tr>\n      <th>4</th>\n      <td>1047</td>\n      <td>Bachelors</td>\n      <td>2012</td>\n      <td>Bangalore</td>\n      <td>3</td>\n      <td>28</td>\n      <td>Male</td>\n      <td>No</td>\n      <td>1</td>\n    </tr>\n    <tr>\n      <th>...</th>\n      <td>...</td>\n      <td>...</td>\n      <td>...</td>\n      <td>...</td>\n      <td>...</td>\n      <td>...</td>\n      <td>...</td>\n      <td>...</td>\n      <td>...</td>\n    </tr>\n    <tr>\n      <th>1848</th>\n      <td>2241</td>\n      <td>Masters</td>\n      <td>2017</td>\n      <td>New Delhi</td>\n      <td>2</td>\n      <td>28</td>\n      <td>Male</td>\n      <td>No</td>\n      <td>1</td>\n    </tr>\n    <tr>\n      <th>1849</th>\n      <td>2769</td>\n      <td>Masters</td>\n      <td>2013</td>\n      <td>New Delhi</td>\n      <td>2</td>\n      <td>26</td>\n      <td>Male</td>\n      <td>No</td>\n      <td>4</td>\n    </tr>\n    <tr>\n      <th>1850</th>\n      <td>3753</td>\n      <td>Masters</td>\n      <td>2017</td>\n      <td>Pune</td>\n      <td>2</td>\n      <td>39</td>\n      <td>Male</td>\n      <td>No</td>\n      <td>2</td>\n    </tr>\n    <tr>\n      <th>1851</th>\n      <td>4233</td>\n      <td>Bachelors</td>\n      <td>2015</td>\n      <td>New Delhi</td>\n      <td>3</td>\n      <td>33</td>\n      <td>Female</td>\n      <td>No</td>\n      <td>5</td>\n    </tr>\n    <tr>\n      <th>1852</th>\n      <td>2333</td>\n      <td>Masters</td>\n      <td>2017</td>\n      <td>New Delhi</td>\n      <td>2</td>\n      <td>28</td>\n      <td>Male</td>\n      <td>No</td>\n      <td>2</td>\n    </tr>\n  </tbody>\n</table>\n<p>1853 rows × 9 columns</p>\n</div>"
     },
     "execution_count": 52,
     "metadata": {},
     "output_type": "execute_result"
    }
   ],
   "source": [
    "df_test = pd.read_csv(\"ainyuumon2021winter/test.csv\")\n",
    "df_test"
   ],
   "metadata": {
    "collapsed": false,
    "pycharm": {
     "name": "#%%\n"
    }
   }
  },
  {
   "cell_type": "code",
   "execution_count": 53,
   "outputs": [
    {
     "data": {
      "text/plain": "      PaymentTier  Age  ExperienceInCurrentDomain  Education_Masters  \\\n0               3   40                          2                  0   \n1               3   34                          0                  0   \n2               3   27                          5                  0   \n3               3   27                          5                  0   \n4               3   28                          1                  0   \n...           ...  ...                        ...                ...   \n1848            2   28                          1                  1   \n1849            2   26                          4                  1   \n1850            2   39                          2                  1   \n1851            3   33                          5                  0   \n1852            2   28                          2                  1   \n\n      Education_PHD  City_New Delhi  City_Pune  Gender_Male  ElapsedYears  \n0                 0               1          0            1             3  \n1                 1               1          0            1             0  \n2                 0               0          0            1             4  \n3                 0               1          0            1             5  \n4                 0               0          0            1             6  \n...             ...             ...        ...          ...           ...  \n1848              0               1          0            1             1  \n1849              0               1          0            1             5  \n1850              0               0          1            1             1  \n1851              0               1          0            0             3  \n1852              0               1          0            1             1  \n\n[1853 rows x 9 columns]",
      "text/html": "<div>\n<style scoped>\n    .dataframe tbody tr th:only-of-type {\n        vertical-align: middle;\n    }\n\n    .dataframe tbody tr th {\n        vertical-align: top;\n    }\n\n    .dataframe thead th {\n        text-align: right;\n    }\n</style>\n<table border=\"1\" class=\"dataframe\">\n  <thead>\n    <tr style=\"text-align: right;\">\n      <th></th>\n      <th>PaymentTier</th>\n      <th>Age</th>\n      <th>ExperienceInCurrentDomain</th>\n      <th>Education_Masters</th>\n      <th>Education_PHD</th>\n      <th>City_New Delhi</th>\n      <th>City_Pune</th>\n      <th>Gender_Male</th>\n      <th>ElapsedYears</th>\n    </tr>\n  </thead>\n  <tbody>\n    <tr>\n      <th>0</th>\n      <td>3</td>\n      <td>40</td>\n      <td>2</td>\n      <td>0</td>\n      <td>0</td>\n      <td>1</td>\n      <td>0</td>\n      <td>1</td>\n      <td>3</td>\n    </tr>\n    <tr>\n      <th>1</th>\n      <td>3</td>\n      <td>34</td>\n      <td>0</td>\n      <td>0</td>\n      <td>1</td>\n      <td>1</td>\n      <td>0</td>\n      <td>1</td>\n      <td>0</td>\n    </tr>\n    <tr>\n      <th>2</th>\n      <td>3</td>\n      <td>27</td>\n      <td>5</td>\n      <td>0</td>\n      <td>0</td>\n      <td>0</td>\n      <td>0</td>\n      <td>1</td>\n      <td>4</td>\n    </tr>\n    <tr>\n      <th>3</th>\n      <td>3</td>\n      <td>27</td>\n      <td>5</td>\n      <td>0</td>\n      <td>0</td>\n      <td>1</td>\n      <td>0</td>\n      <td>1</td>\n      <td>5</td>\n    </tr>\n    <tr>\n      <th>4</th>\n      <td>3</td>\n      <td>28</td>\n      <td>1</td>\n      <td>0</td>\n      <td>0</td>\n      <td>0</td>\n      <td>0</td>\n      <td>1</td>\n      <td>6</td>\n    </tr>\n    <tr>\n      <th>...</th>\n      <td>...</td>\n      <td>...</td>\n      <td>...</td>\n      <td>...</td>\n      <td>...</td>\n      <td>...</td>\n      <td>...</td>\n      <td>...</td>\n      <td>...</td>\n    </tr>\n    <tr>\n      <th>1848</th>\n      <td>2</td>\n      <td>28</td>\n      <td>1</td>\n      <td>1</td>\n      <td>0</td>\n      <td>1</td>\n      <td>0</td>\n      <td>1</td>\n      <td>1</td>\n    </tr>\n    <tr>\n      <th>1849</th>\n      <td>2</td>\n      <td>26</td>\n      <td>4</td>\n      <td>1</td>\n      <td>0</td>\n      <td>1</td>\n      <td>0</td>\n      <td>1</td>\n      <td>5</td>\n    </tr>\n    <tr>\n      <th>1850</th>\n      <td>2</td>\n      <td>39</td>\n      <td>2</td>\n      <td>1</td>\n      <td>0</td>\n      <td>0</td>\n      <td>1</td>\n      <td>1</td>\n      <td>1</td>\n    </tr>\n    <tr>\n      <th>1851</th>\n      <td>3</td>\n      <td>33</td>\n      <td>5</td>\n      <td>0</td>\n      <td>0</td>\n      <td>1</td>\n      <td>0</td>\n      <td>0</td>\n      <td>3</td>\n    </tr>\n    <tr>\n      <th>1852</th>\n      <td>2</td>\n      <td>28</td>\n      <td>2</td>\n      <td>1</td>\n      <td>0</td>\n      <td>1</td>\n      <td>0</td>\n      <td>1</td>\n      <td>1</td>\n    </tr>\n  </tbody>\n</table>\n<p>1853 rows × 9 columns</p>\n</div>"
     },
     "execution_count": 53,
     "metadata": {},
     "output_type": "execute_result"
    }
   ],
   "source": [
    "X_test = preprocess(df_test)\n",
    "X_test"
   ],
   "metadata": {
    "collapsed": false,
    "pycharm": {
     "name": "#%%\n"
    }
   }
  },
  {
   "cell_type": "code",
   "execution_count": 55,
   "outputs": [],
   "source": [
    "Y_pred = model.predict(trans.transform(X_test))"
   ],
   "metadata": {
    "collapsed": false,
    "pycharm": {
     "name": "#%%\n"
    }
   }
  },
  {
   "cell_type": "code",
   "execution_count": 56,
   "outputs": [
    {
     "data": {
      "text/plain": "        ID  Pred\n0     3189     0\n1     4016     0\n2     2830     0\n3     2239     0\n4     1047     0\n...    ...   ...\n1848  2241     0\n1849  2769     0\n1850  3753     1\n1851  4233     0\n1852  2333     0\n\n[1853 rows x 2 columns]",
      "text/html": "<div>\n<style scoped>\n    .dataframe tbody tr th:only-of-type {\n        vertical-align: middle;\n    }\n\n    .dataframe tbody tr th {\n        vertical-align: top;\n    }\n\n    .dataframe thead th {\n        text-align: right;\n    }\n</style>\n<table border=\"1\" class=\"dataframe\">\n  <thead>\n    <tr style=\"text-align: right;\">\n      <th></th>\n      <th>ID</th>\n      <th>Pred</th>\n    </tr>\n  </thead>\n  <tbody>\n    <tr>\n      <th>0</th>\n      <td>3189</td>\n      <td>0</td>\n    </tr>\n    <tr>\n      <th>1</th>\n      <td>4016</td>\n      <td>0</td>\n    </tr>\n    <tr>\n      <th>2</th>\n      <td>2830</td>\n      <td>0</td>\n    </tr>\n    <tr>\n      <th>3</th>\n      <td>2239</td>\n      <td>0</td>\n    </tr>\n    <tr>\n      <th>4</th>\n      <td>1047</td>\n      <td>0</td>\n    </tr>\n    <tr>\n      <th>...</th>\n      <td>...</td>\n      <td>...</td>\n    </tr>\n    <tr>\n      <th>1848</th>\n      <td>2241</td>\n      <td>0</td>\n    </tr>\n    <tr>\n      <th>1849</th>\n      <td>2769</td>\n      <td>0</td>\n    </tr>\n    <tr>\n      <th>1850</th>\n      <td>3753</td>\n      <td>1</td>\n    </tr>\n    <tr>\n      <th>1851</th>\n      <td>4233</td>\n      <td>0</td>\n    </tr>\n    <tr>\n      <th>1852</th>\n      <td>2333</td>\n      <td>0</td>\n    </tr>\n  </tbody>\n</table>\n<p>1853 rows × 2 columns</p>\n</div>"
     },
     "execution_count": 56,
     "metadata": {},
     "output_type": "execute_result"
    }
   ],
   "source": [
    "submission = pd.concat([df_test[\"ID\"], pd.DataFrame(Y_pred, columns=[\"Pred\"])], axis=1)\n",
    "submission"
   ],
   "metadata": {
    "collapsed": false,
    "pycharm": {
     "name": "#%%\n"
    }
   }
  },
  {
   "cell_type": "code",
   "execution_count": 58,
   "outputs": [],
   "source": [
    "submission.to_csv(\"submission.csv\", index=False)"
   ],
   "metadata": {
    "collapsed": false,
    "pycharm": {
     "name": "#%%\n"
    }
   }
  },
  {
   "cell_type": "code",
   "execution_count": null,
   "outputs": [],
   "source": [],
   "metadata": {
    "collapsed": false,
    "pycharm": {
     "name": "#%%\n"
    }
   }
  }
 ],
 "metadata": {
  "kernelspec": {
   "display_name": "Python 3",
   "language": "python",
   "name": "python3"
  },
  "language_info": {
   "codemirror_mode": {
    "name": "ipython",
    "version": 2
   },
   "file_extension": ".py",
   "mimetype": "text/x-python",
   "name": "python",
   "nbconvert_exporter": "python",
   "pygments_lexer": "ipython2",
   "version": "2.7.6"
  }
 },
 "nbformat": 4,
 "nbformat_minor": 0
}