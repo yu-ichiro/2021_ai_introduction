{
 "cells": [
  {
   "cell_type": "markdown",
   "metadata": {
    "collapsed": true,
    "pycharm": {
     "name": "#%% md\n"
    }
   },
   "source": [
    "# 最終課題\n",
    "\n",
    "Kaggle Username: ysmith1hitu"
   ]
  },
  {
   "cell_type": "code",
   "execution_count": 1,
   "outputs": [],
   "source": [
    "import pandas as pd\n",
    "import seaborn as sns"
   ],
   "metadata": {
    "collapsed": false,
    "pycharm": {
     "name": "#%%\n"
    }
   }
  },
  {
   "cell_type": "code",
   "execution_count": 5,
   "outputs": [
    {
     "data": {
      "text/plain": "      Education  JoiningYear       City  PaymentTier  Age  Gender EverBenched  \\\nID                                                                              \n3401  Bachelors         2018  Bangalore            3   41    Male          No   \n1463  Bachelors         2012  Bangalore            3   27    Male          No   \n4644  Bachelors         2013  Bangalore            3   31  Female          No   \n3303  Bachelors         2016  Bangalore            1   39    Male          No   \n1260  Bachelors         2014       Pune            3   26    Male          No   \n...         ...          ...        ...          ...  ...     ...         ...   \n1149  Bachelors         2013  New Delhi            2   25  Female          No   \n3579    Masters         2015  New Delhi            3   39  Female          No   \n3600  Bachelors         2015       Pune            2   32  Female          No   \n2308  Bachelors         2015  Bangalore            3   27    Male          No   \n2438  Bachelors         2014  Bangalore            3   27    Male          No   \n\n      ExperienceInCurrentDomain  LeaveOrNot  \nID                                           \n3401                          4           1  \n1463                          5           0  \n4644                          5           0  \n3303                          2           0  \n1260                          4           0  \n...                         ...         ...  \n1149                          3           1  \n3579                          2           0  \n3600                          3           1  \n2308                          5           0  \n2438                          5           0  \n\n[2800 rows x 9 columns]",
      "text/html": "<div>\n<style scoped>\n    .dataframe tbody tr th:only-of-type {\n        vertical-align: middle;\n    }\n\n    .dataframe tbody tr th {\n        vertical-align: top;\n    }\n\n    .dataframe thead th {\n        text-align: right;\n    }\n</style>\n<table border=\"1\" class=\"dataframe\">\n  <thead>\n    <tr style=\"text-align: right;\">\n      <th></th>\n      <th>Education</th>\n      <th>JoiningYear</th>\n      <th>City</th>\n      <th>PaymentTier</th>\n      <th>Age</th>\n      <th>Gender</th>\n      <th>EverBenched</th>\n      <th>ExperienceInCurrentDomain</th>\n      <th>LeaveOrNot</th>\n    </tr>\n    <tr>\n      <th>ID</th>\n      <th></th>\n      <th></th>\n      <th></th>\n      <th></th>\n      <th></th>\n      <th></th>\n      <th></th>\n      <th></th>\n      <th></th>\n    </tr>\n  </thead>\n  <tbody>\n    <tr>\n      <th>3401</th>\n      <td>Bachelors</td>\n      <td>2018</td>\n      <td>Bangalore</td>\n      <td>3</td>\n      <td>41</td>\n      <td>Male</td>\n      <td>No</td>\n      <td>4</td>\n      <td>1</td>\n    </tr>\n    <tr>\n      <th>1463</th>\n      <td>Bachelors</td>\n      <td>2012</td>\n      <td>Bangalore</td>\n      <td>3</td>\n      <td>27</td>\n      <td>Male</td>\n      <td>No</td>\n      <td>5</td>\n      <td>0</td>\n    </tr>\n    <tr>\n      <th>4644</th>\n      <td>Bachelors</td>\n      <td>2013</td>\n      <td>Bangalore</td>\n      <td>3</td>\n      <td>31</td>\n      <td>Female</td>\n      <td>No</td>\n      <td>5</td>\n      <td>0</td>\n    </tr>\n    <tr>\n      <th>3303</th>\n      <td>Bachelors</td>\n      <td>2016</td>\n      <td>Bangalore</td>\n      <td>1</td>\n      <td>39</td>\n      <td>Male</td>\n      <td>No</td>\n      <td>2</td>\n      <td>0</td>\n    </tr>\n    <tr>\n      <th>1260</th>\n      <td>Bachelors</td>\n      <td>2014</td>\n      <td>Pune</td>\n      <td>3</td>\n      <td>26</td>\n      <td>Male</td>\n      <td>No</td>\n      <td>4</td>\n      <td>0</td>\n    </tr>\n    <tr>\n      <th>...</th>\n      <td>...</td>\n      <td>...</td>\n      <td>...</td>\n      <td>...</td>\n      <td>...</td>\n      <td>...</td>\n      <td>...</td>\n      <td>...</td>\n      <td>...</td>\n    </tr>\n    <tr>\n      <th>1149</th>\n      <td>Bachelors</td>\n      <td>2013</td>\n      <td>New Delhi</td>\n      <td>2</td>\n      <td>25</td>\n      <td>Female</td>\n      <td>No</td>\n      <td>3</td>\n      <td>1</td>\n    </tr>\n    <tr>\n      <th>3579</th>\n      <td>Masters</td>\n      <td>2015</td>\n      <td>New Delhi</td>\n      <td>3</td>\n      <td>39</td>\n      <td>Female</td>\n      <td>No</td>\n      <td>2</td>\n      <td>0</td>\n    </tr>\n    <tr>\n      <th>3600</th>\n      <td>Bachelors</td>\n      <td>2015</td>\n      <td>Pune</td>\n      <td>2</td>\n      <td>32</td>\n      <td>Female</td>\n      <td>No</td>\n      <td>3</td>\n      <td>1</td>\n    </tr>\n    <tr>\n      <th>2308</th>\n      <td>Bachelors</td>\n      <td>2015</td>\n      <td>Bangalore</td>\n      <td>3</td>\n      <td>27</td>\n      <td>Male</td>\n      <td>No</td>\n      <td>5</td>\n      <td>0</td>\n    </tr>\n    <tr>\n      <th>2438</th>\n      <td>Bachelors</td>\n      <td>2014</td>\n      <td>Bangalore</td>\n      <td>3</td>\n      <td>27</td>\n      <td>Male</td>\n      <td>No</td>\n      <td>5</td>\n      <td>0</td>\n    </tr>\n  </tbody>\n</table>\n<p>2800 rows × 9 columns</p>\n</div>"
     },
     "execution_count": 5,
     "metadata": {},
     "output_type": "execute_result"
    }
   ],
   "source": [
    "df = pd.read_csv(\"ainyuumon2021winter/train.csv\", index_col=0)\n",
    "df"
   ],
   "metadata": {
    "collapsed": false,
    "pycharm": {
     "name": "#%%\n"
    }
   }
  },
  {
   "cell_type": "code",
   "execution_count": 40,
   "outputs": [],
   "source": [
    "def preprocess(_df):\n",
    "    x = _df[[\"PaymentTier\", \"Age\", \"ExperienceInCurrentDomain\"]]\n",
    "    education = pd.get_dummies(_df[\"Education\"], drop_first=True, prefix=\"Education\")\n",
    "    city = pd.get_dummies(_df[\"City\"], drop_first=True, prefix=\"City\")\n",
    "    gender = pd.get_dummies(_df[\"Gender\"], drop_first=True, prefix=\"Gender\")\n",
    "    elapsed = (_df[\"JoiningYear\"] - _df[\"JoiningYear\"].max()) * -1\n",
    "    elapsed.name = \"ElapsedYears\"\n",
    "    x = pd.concat([x, education, city, gender, elapsed], axis=1)\n",
    "    return x"
   ],
   "metadata": {
    "collapsed": false,
    "pycharm": {
     "name": "#%%\n"
    }
   }
  },
  {
   "cell_type": "code",
   "execution_count": 41,
   "outputs": [
    {
     "data": {
      "text/plain": "      PaymentTier  Age  ExperienceInCurrentDomain  Education_Masters  \\\nID                                                                     \n3401            3   41                          4                  0   \n1463            3   27                          5                  0   \n4644            3   31                          5                  0   \n3303            1   39                          2                  0   \n1260            3   26                          4                  0   \n...           ...  ...                        ...                ...   \n1149            2   25                          3                  0   \n3579            3   39                          2                  1   \n3600            2   32                          3                  0   \n2308            3   27                          5                  0   \n2438            3   27                          5                  0   \n\n      Education_PHD  City_New Delhi  City_Pune  Gender_Male  ElapsedYears  \nID                                                                         \n3401              0               0          0            1             0  \n1463              0               0          0            1             6  \n4644              0               0          0            0             5  \n3303              0               0          0            1             2  \n1260              0               0          1            1             4  \n...             ...             ...        ...          ...           ...  \n1149              0               1          0            0             5  \n3579              0               1          0            0             3  \n3600              0               0          1            0             3  \n2308              0               0          0            1             3  \n2438              0               0          0            1             4  \n\n[2800 rows x 9 columns]",
      "text/html": "<div>\n<style scoped>\n    .dataframe tbody tr th:only-of-type {\n        vertical-align: middle;\n    }\n\n    .dataframe tbody tr th {\n        vertical-align: top;\n    }\n\n    .dataframe thead th {\n        text-align: right;\n    }\n</style>\n<table border=\"1\" class=\"dataframe\">\n  <thead>\n    <tr style=\"text-align: right;\">\n      <th></th>\n      <th>PaymentTier</th>\n      <th>Age</th>\n      <th>ExperienceInCurrentDomain</th>\n      <th>Education_Masters</th>\n      <th>Education_PHD</th>\n      <th>City_New Delhi</th>\n      <th>City_Pune</th>\n      <th>Gender_Male</th>\n      <th>ElapsedYears</th>\n    </tr>\n    <tr>\n      <th>ID</th>\n      <th></th>\n      <th></th>\n      <th></th>\n      <th></th>\n      <th></th>\n      <th></th>\n      <th></th>\n      <th></th>\n      <th></th>\n    </tr>\n  </thead>\n  <tbody>\n    <tr>\n      <th>3401</th>\n      <td>3</td>\n      <td>41</td>\n      <td>4</td>\n      <td>0</td>\n      <td>0</td>\n      <td>0</td>\n      <td>0</td>\n      <td>1</td>\n      <td>0</td>\n    </tr>\n    <tr>\n      <th>1463</th>\n      <td>3</td>\n      <td>27</td>\n      <td>5</td>\n      <td>0</td>\n      <td>0</td>\n      <td>0</td>\n      <td>0</td>\n      <td>1</td>\n      <td>6</td>\n    </tr>\n    <tr>\n      <th>4644</th>\n      <td>3</td>\n      <td>31</td>\n      <td>5</td>\n      <td>0</td>\n      <td>0</td>\n      <td>0</td>\n      <td>0</td>\n      <td>0</td>\n      <td>5</td>\n    </tr>\n    <tr>\n      <th>3303</th>\n      <td>1</td>\n      <td>39</td>\n      <td>2</td>\n      <td>0</td>\n      <td>0</td>\n      <td>0</td>\n      <td>0</td>\n      <td>1</td>\n      <td>2</td>\n    </tr>\n    <tr>\n      <th>1260</th>\n      <td>3</td>\n      <td>26</td>\n      <td>4</td>\n      <td>0</td>\n      <td>0</td>\n      <td>0</td>\n      <td>1</td>\n      <td>1</td>\n      <td>4</td>\n    </tr>\n    <tr>\n      <th>...</th>\n      <td>...</td>\n      <td>...</td>\n      <td>...</td>\n      <td>...</td>\n      <td>...</td>\n      <td>...</td>\n      <td>...</td>\n      <td>...</td>\n      <td>...</td>\n    </tr>\n    <tr>\n      <th>1149</th>\n      <td>2</td>\n      <td>25</td>\n      <td>3</td>\n      <td>0</td>\n      <td>0</td>\n      <td>1</td>\n      <td>0</td>\n      <td>0</td>\n      <td>5</td>\n    </tr>\n    <tr>\n      <th>3579</th>\n      <td>3</td>\n      <td>39</td>\n      <td>2</td>\n      <td>1</td>\n      <td>0</td>\n      <td>1</td>\n      <td>0</td>\n      <td>0</td>\n      <td>3</td>\n    </tr>\n    <tr>\n      <th>3600</th>\n      <td>2</td>\n      <td>32</td>\n      <td>3</td>\n      <td>0</td>\n      <td>0</td>\n      <td>0</td>\n      <td>1</td>\n      <td>0</td>\n      <td>3</td>\n    </tr>\n    <tr>\n      <th>2308</th>\n      <td>3</td>\n      <td>27</td>\n      <td>5</td>\n      <td>0</td>\n      <td>0</td>\n      <td>0</td>\n      <td>0</td>\n      <td>1</td>\n      <td>3</td>\n    </tr>\n    <tr>\n      <th>2438</th>\n      <td>3</td>\n      <td>27</td>\n      <td>5</td>\n      <td>0</td>\n      <td>0</td>\n      <td>0</td>\n      <td>0</td>\n      <td>1</td>\n      <td>4</td>\n    </tr>\n  </tbody>\n</table>\n<p>2800 rows × 9 columns</p>\n</div>"
     },
     "execution_count": 41,
     "metadata": {},
     "output_type": "execute_result"
    }
   ],
   "source": [
    "Y = df[\"LeaveOrNot\"]\n",
    "X = preprocess(df)\n",
    "X"
   ],
   "metadata": {
    "collapsed": false,
    "pycharm": {
     "name": "#%%\n"
    }
   }
  },
  {
   "cell_type": "code",
   "execution_count": 72,
   "outputs": [],
   "source": [
    "from sklearn.model_selection import GridSearchCV, train_test_split\n",
    "from sklearn.tree import DecisionTreeClassifier\n",
    "from sklearn.ensemble import RandomForestClassifier\n",
    "from sklearn.linear_model import LogisticRegression\n",
    "from sklearn.preprocessing import PowerTransformer\n",
    "from sklearn.svm import SVR"
   ],
   "metadata": {
    "collapsed": false,
    "pycharm": {
     "name": "#%%\n"
    }
   }
  },
  {
   "cell_type": "code",
   "execution_count": 136,
   "outputs": [],
   "source": [
    "models = []"
   ],
   "metadata": {
    "collapsed": false,
    "pycharm": {
     "name": "#%%\n"
    }
   }
  },
  {
   "cell_type": "code",
   "execution_count": 137,
   "outputs": [
    {
     "name": "stdout",
     "output_type": "stream",
     "text": [
      "-------------\n",
      "model: 0\n",
      "train: 0.9438775510204082\n",
      "test: 0.8321428571428572\n",
      "-------------\n",
      "model: 1\n",
      "train: 0.9438775510204082\n",
      "test: 0.830952380952381\n",
      "-------------\n",
      "model: 2\n",
      "train: 0.9448979591836735\n",
      "test: 0.8261904761904761\n",
      "-------------\n",
      "model: 3\n",
      "train: 0.9413265306122449\n",
      "test: 0.8297619047619048\n",
      "-------------\n",
      "model: 4\n",
      "train: 0.9387755102040817\n",
      "test: 0.8357142857142857\n",
      "-------------\n",
      "model: 5\n",
      "train: 0.9377551020408164\n",
      "test: 0.8476190476190476\n",
      "-------------\n",
      "model: 6\n",
      "train: 0.9418367346938775\n",
      "test: 0.8261904761904761\n",
      "-------------\n",
      "model: 7\n",
      "train: 0.935204081632653\n",
      "test: 0.8476190476190476\n",
      "-------------\n",
      "model: 8\n",
      "train: 0.9423469387755102\n",
      "test: 0.8142857142857143\n",
      "-------------\n",
      "model: 9\n",
      "train: 0.9403061224489796\n",
      "test: 0.8214285714285714\n",
      "-------------\n",
      "model: 10\n",
      "train: 0.9403061224489796\n",
      "test: 0.8321428571428572\n",
      "-------------\n",
      "model: 11\n",
      "train: 0.9443877551020409\n",
      "test: 0.8416666666666667\n",
      "-------------\n",
      "model: 12\n",
      "train: 0.9413265306122449\n",
      "test: 0.8369047619047619\n",
      "-------------\n",
      "model: 13\n",
      "train: 0.936734693877551\n",
      "test: 0.8297619047619048\n",
      "-------------\n",
      "model: 14\n",
      "train: 0.9413265306122449\n",
      "test: 0.8476190476190476\n",
      "-------------\n",
      "model: 15\n",
      "train: 0.9418367346938775\n",
      "test: 0.844047619047619\n",
      "-------------\n",
      "model: 16\n",
      "train: 0.9469387755102041\n",
      "test: 0.8273809523809523\n",
      "-------------\n",
      "model: 17\n",
      "train: 0.9433673469387756\n",
      "test: 0.8321428571428572\n",
      "-------------\n",
      "model: 18\n",
      "train: 0.9372448979591836\n",
      "test: 0.8452380952380952\n",
      "-------------\n",
      "model: 19\n",
      "train: 0.9474489795918367\n",
      "test: 0.830952380952381\n",
      "-------------\n",
      "model: 20\n",
      "train: 0.9418367346938775\n",
      "test: 0.8404761904761905\n",
      "-------------\n",
      "model: 21\n",
      "train: 0.9403061224489796\n",
      "test: 0.8226190476190476\n",
      "-------------\n",
      "model: 22\n",
      "train: 0.9403061224489796\n",
      "test: 0.8321428571428572\n",
      "-------------\n",
      "model: 23\n",
      "train: 0.9454081632653061\n",
      "test: 0.8261904761904761\n",
      "-------------\n",
      "model: 24\n",
      "train: 0.9474489795918367\n",
      "test: 0.8428571428571429\n",
      "-------------\n",
      "model: 25\n",
      "train: 0.9423469387755102\n",
      "test: 0.8345238095238096\n",
      "-------------\n",
      "model: 26\n",
      "train: 0.9408163265306122\n",
      "test: 0.8452380952380952\n",
      "-------------\n",
      "model: 27\n",
      "train: 0.9341836734693878\n",
      "test: 0.844047619047619\n",
      "-------------\n",
      "model: 28\n",
      "train: 0.9433673469387756\n",
      "test: 0.819047619047619\n",
      "-------------\n",
      "model: 29\n",
      "train: 0.9428571428571428\n",
      "test: 0.8333333333333334\n",
      "-------------\n",
      "model: 30\n",
      "train: 0.9403061224489796\n",
      "test: 0.8333333333333334\n",
      "-------------\n",
      "model: 31\n",
      "train: 0.9438775510204082\n",
      "test: 0.8261904761904761\n",
      "-------------\n",
      "model: 32\n",
      "train: 0.9423469387755102\n",
      "test: 0.844047619047619\n",
      "-------------\n",
      "model: 33\n",
      "train: 0.938265306122449\n",
      "test: 0.8380952380952381\n",
      "-------------\n",
      "model: 34\n",
      "train: 0.9454081632653061\n",
      "test: 0.8297619047619048\n",
      "-------------\n",
      "model: 35\n",
      "train: 0.938265306122449\n",
      "test: 0.8452380952380952\n",
      "-------------\n",
      "model: 36\n",
      "train: 0.9423469387755102\n",
      "test: 0.8285714285714286\n",
      "-------------\n",
      "model: 37\n",
      "train: 0.9413265306122449\n",
      "test: 0.8285714285714286\n",
      "-------------\n",
      "model: 38\n",
      "train: 0.9443877551020409\n",
      "test: 0.8369047619047619\n",
      "-------------\n",
      "model: 39\n",
      "train: 0.9443877551020409\n",
      "test: 0.8130952380952381\n",
      "-------------\n",
      "model: 40\n",
      "train: 0.9459183673469388\n",
      "test: 0.8369047619047619\n",
      "-------------\n",
      "model: 41\n",
      "train: 0.9443877551020409\n",
      "test: 0.8380952380952381\n",
      "-------------\n",
      "model: 42\n",
      "train: 0.9408163265306122\n",
      "test: 0.8380952380952381\n",
      "-------------\n",
      "model: 43\n",
      "train: 0.939795918367347\n",
      "test: 0.8333333333333334\n",
      "-------------\n",
      "model: 44\n",
      "train: 0.938265306122449\n",
      "test: 0.8261904761904761\n",
      "-------------\n",
      "model: 45\n",
      "train: 0.9459183673469388\n",
      "test: 0.8107142857142857\n",
      "-------------\n",
      "model: 46\n",
      "train: 0.939795918367347\n",
      "test: 0.830952380952381\n",
      "-------------\n",
      "model: 47\n",
      "train: 0.9448979591836735\n",
      "test: 0.830952380952381\n",
      "-------------\n",
      "model: 48\n",
      "train: 0.936734693877551\n",
      "test: 0.8357142857142857\n",
      "-------------\n",
      "model: 49\n",
      "train: 0.9403061224489796\n",
      "test: 0.8464285714285714\n",
      "-------------\n",
      "model: 50\n",
      "train: 0.9454081632653061\n",
      "test: 0.8321428571428572\n",
      "-------------\n",
      "model: 51\n",
      "train: 0.9336734693877551\n",
      "test: 0.85\n",
      "-------------\n",
      "model: 52\n",
      "train: 0.939795918367347\n",
      "test: 0.8452380952380952\n",
      "-------------\n",
      "model: 53\n",
      "train: 0.9489795918367347\n",
      "test: 0.8238095238095238\n",
      "-------------\n",
      "model: 54\n",
      "train: 0.939795918367347\n",
      "test: 0.844047619047619\n",
      "-------------\n",
      "model: 55\n",
      "train: 0.9392857142857143\n",
      "test: 0.8464285714285714\n",
      "-------------\n",
      "model: 56\n",
      "train: 0.9448979591836735\n",
      "test: 0.8178571428571428\n",
      "-------------\n",
      "model: 57\n",
      "train: 0.9403061224489796\n",
      "test: 0.8238095238095238\n",
      "-------------\n",
      "model: 58\n",
      "train: 0.9372448979591836\n",
      "test: 0.8416666666666667\n",
      "-------------\n",
      "model: 59\n",
      "train: 0.9387755102040817\n",
      "test: 0.8357142857142857\n",
      "-------------\n",
      "model: 60\n",
      "train: 0.9346938775510204\n",
      "test: 0.8571428571428571\n",
      "-------------\n",
      "model: 61\n",
      "train: 0.9433673469387756\n",
      "test: 0.8321428571428572\n",
      "-------------\n",
      "model: 62\n",
      "train: 0.9433673469387756\n",
      "test: 0.8273809523809523\n",
      "-------------\n",
      "model: 63\n",
      "train: 0.9387755102040817\n",
      "test: 0.8226190476190476\n",
      "-------------\n",
      "model: 64\n",
      "train: 0.9433673469387756\n",
      "test: 0.8321428571428572\n",
      "-------------\n",
      "model: 65\n",
      "train: 0.9423469387755102\n",
      "test: 0.8369047619047619\n",
      "-------------\n",
      "model: 66\n",
      "train: 0.9413265306122449\n",
      "test: 0.819047619047619\n",
      "-------------\n",
      "model: 67\n",
      "train: 0.9418367346938775\n",
      "test: 0.8357142857142857\n",
      "-------------\n",
      "model: 68\n",
      "train: 0.9423469387755102\n",
      "test: 0.8297619047619048\n",
      "-------------\n",
      "model: 69\n",
      "train: 0.9459183673469388\n",
      "test: 0.830952380952381\n",
      "-------------\n",
      "model: 70\n",
      "train: 0.9423469387755102\n",
      "test: 0.8273809523809523\n",
      "-------------\n",
      "model: 71\n",
      "train: 0.9423469387755102\n",
      "test: 0.8273809523809523\n",
      "-------------\n",
      "model: 72\n",
      "train: 0.938265306122449\n",
      "test: 0.8488095238095238\n",
      "-------------\n",
      "model: 73\n",
      "train: 0.9438775510204082\n",
      "test: 0.8261904761904761\n",
      "-------------\n",
      "model: 74\n",
      "train: 0.938265306122449\n",
      "test: 0.825\n",
      "-------------\n",
      "model: 75\n",
      "train: 0.938265306122449\n",
      "test: 0.861904761904762\n",
      "-------------\n",
      "model: 76\n",
      "train: 0.9387755102040817\n",
      "test: 0.8369047619047619\n",
      "-------------\n",
      "model: 77\n",
      "train: 0.9377551020408164\n",
      "test: 0.8607142857142858\n",
      "-------------\n",
      "model: 78\n",
      "train: 0.9408163265306122\n",
      "test: 0.8273809523809523\n",
      "-------------\n",
      "model: 79\n",
      "train: 0.9377551020408164\n",
      "test: 0.8583333333333333\n",
      "-------------\n",
      "model: 80\n",
      "train: 0.9423469387755102\n",
      "test: 0.8166666666666667\n",
      "-------------\n",
      "model: 81\n",
      "train: 0.9443877551020409\n",
      "test: 0.830952380952381\n",
      "-------------\n",
      "model: 82\n",
      "train: 0.9403061224489796\n",
      "test: 0.8428571428571429\n",
      "-------------\n",
      "model: 83\n",
      "train: 0.9408163265306122\n",
      "test: 0.8321428571428572\n",
      "-------------\n",
      "model: 84\n",
      "train: 0.935204081632653\n",
      "test: 0.8392857142857143\n",
      "-------------\n",
      "model: 85\n",
      "train: 0.9372448979591836\n",
      "test: 0.8285714285714286\n",
      "-------------\n",
      "model: 86\n",
      "train: 0.9433673469387756\n",
      "test: 0.8285714285714286\n",
      "-------------\n",
      "model: 87\n",
      "train: 0.9423469387755102\n",
      "test: 0.8238095238095238\n",
      "-------------\n",
      "model: 88\n",
      "train: 0.9387755102040817\n",
      "test: 0.8452380952380952\n",
      "-------------\n",
      "model: 89\n",
      "train: 0.9408163265306122\n",
      "test: 0.8178571428571428\n",
      "-------------\n",
      "model: 90\n",
      "train: 0.9392857142857143\n",
      "test: 0.8392857142857143\n",
      "-------------\n",
      "model: 91\n",
      "train: 0.9408163265306122\n",
      "test: 0.8428571428571429\n",
      "-------------\n",
      "model: 92\n",
      "train: 0.9408163265306122\n",
      "test: 0.8416666666666667\n",
      "-------------\n",
      "model: 93\n",
      "train: 0.9433673469387756\n",
      "test: 0.8297619047619048\n",
      "-------------\n",
      "model: 94\n",
      "train: 0.9418367346938775\n",
      "test: 0.819047619047619\n",
      "-------------\n",
      "model: 95\n",
      "train: 0.9408163265306122\n",
      "test: 0.830952380952381\n",
      "-------------\n",
      "model: 96\n",
      "train: 0.9433673469387756\n",
      "test: 0.8357142857142857\n",
      "-------------\n",
      "model: 97\n",
      "train: 0.9423469387755102\n",
      "test: 0.8428571428571429\n",
      "-------------\n",
      "model: 98\n",
      "train: 0.9469387755102041\n",
      "test: 0.8297619047619048\n",
      "-------------\n",
      "model: 99\n",
      "train: 0.9433673469387756\n",
      "test: 0.8130952380952381\n"
     ]
    }
   ],
   "source": [
    "# X_train, X_test, Y_train, Y_test = train_test_split(X, Y)\n",
    "#\n",
    "# trans = PowerTransformer()\n",
    "# trans.fit(X_train)\n",
    "\n",
    "\n",
    "# 1回目: GridSearch でモデル作成\n",
    "# gs = GridSearchCV(\n",
    "#     estimator=SVR(),\n",
    "#     param_grid={\n",
    "#         \"C\": [0.001, 0.01, 0.1, 1, 10, 100],\n",
    "#         \"gamma\": [0.001, 0.01, 0.1, 1, 10, 100],\n",
    "#     },\n",
    "#     cv=5\n",
    "# )\n",
    "# gs.fit(trans.transform(X_train), Y_train)\n",
    "#\n",
    "# print(gs.best_score_)\n",
    "# print(gs.best_params_)\n",
    "# print(gs.score(trans.transform(X_test), Y_test))\n",
    "\n",
    "# 2回目: ロジスティック回帰でモデル作成 → 期限内に提出\n",
    "# model = LogisticRegression()\n",
    "# model.fit(trans.transform(X_train), Y_train)\n",
    "\n",
    "# 以降 締め切り後提出\n",
    "# 3回目: 決定木分析\n",
    "# model = DecisionTreeClassifier(criterion=\"entropy\", max_depth=15)\n",
    "# model.fit(trans.transform(X_train), Y_train)\n",
    "\n",
    "# 4~6回目: ランダムフォレスト * 100\n",
    "for i in range(100):\n",
    "    X_train, X_test, Y_train, Y_test = train_test_split(X, Y, test_size=0.3)\n",
    "\n",
    "    trans = PowerTransformer()\n",
    "    trans.fit(X_train)\n",
    "    model = RandomForestClassifier()\n",
    "    model.fit(trans.transform(X_train), Y_train)\n",
    "\n",
    "    print(f\"-------------\")\n",
    "    print(f\"model: {i}\")\n",
    "    print(f\"train: {model.score(trans.transform(X_train), Y_train)}\")\n",
    "    print(f\"test: {model.score(trans.transform(X_test), Y_test)}\")\n",
    "    models.append((model, model.score(trans.transform(X), Y), trans))\n"
   ],
   "metadata": {
    "collapsed": false,
    "pycharm": {
     "name": "#%%\n"
    }
   }
  },
  {
   "cell_type": "code",
   "execution_count": 138,
   "outputs": [
    {
     "name": "stdout",
     "output_type": "stream",
     "text": [
      "model: 24\n",
      "score: 0.9160714285714285\n"
     ]
    }
   ],
   "source": [
    "i, (best_model, score, trans) = max(enumerate(models), key=lambda pair: pair[1][1])\n",
    "print(f\"model: {i}\")\n",
    "print(f\"score: {score}\")\n",
    "model = best_model\n"
   ],
   "metadata": {
    "collapsed": false,
    "pycharm": {
     "name": "#%%\n"
    }
   }
  },
  {
   "cell_type": "code",
   "execution_count": 139,
   "outputs": [
    {
     "data": {
      "text/plain": "        ID  Education  JoiningYear       City  PaymentTier  Age  Gender  \\\n0     3189  Bachelors         2015  New Delhi            3   40    Male   \n1     4016        PHD         2018  New Delhi            3   34    Male   \n2     2830  Bachelors         2014  Bangalore            3   27    Male   \n3     2239  Bachelors         2013  New Delhi            3   27    Male   \n4     1047  Bachelors         2012  Bangalore            3   28    Male   \n...    ...        ...          ...        ...          ...  ...     ...   \n1848  2241    Masters         2017  New Delhi            2   28    Male   \n1849  2769    Masters         2013  New Delhi            2   26    Male   \n1850  3753    Masters         2017       Pune            2   39    Male   \n1851  4233  Bachelors         2015  New Delhi            3   33  Female   \n1852  2333    Masters         2017  New Delhi            2   28    Male   \n\n     EverBenched  ExperienceInCurrentDomain  \n0             No                          2  \n1             No                          0  \n2            Yes                          5  \n3             No                          5  \n4             No                          1  \n...          ...                        ...  \n1848          No                          1  \n1849          No                          4  \n1850          No                          2  \n1851          No                          5  \n1852          No                          2  \n\n[1853 rows x 9 columns]",
      "text/html": "<div>\n<style scoped>\n    .dataframe tbody tr th:only-of-type {\n        vertical-align: middle;\n    }\n\n    .dataframe tbody tr th {\n        vertical-align: top;\n    }\n\n    .dataframe thead th {\n        text-align: right;\n    }\n</style>\n<table border=\"1\" class=\"dataframe\">\n  <thead>\n    <tr style=\"text-align: right;\">\n      <th></th>\n      <th>ID</th>\n      <th>Education</th>\n      <th>JoiningYear</th>\n      <th>City</th>\n      <th>PaymentTier</th>\n      <th>Age</th>\n      <th>Gender</th>\n      <th>EverBenched</th>\n      <th>ExperienceInCurrentDomain</th>\n    </tr>\n  </thead>\n  <tbody>\n    <tr>\n      <th>0</th>\n      <td>3189</td>\n      <td>Bachelors</td>\n      <td>2015</td>\n      <td>New Delhi</td>\n      <td>3</td>\n      <td>40</td>\n      <td>Male</td>\n      <td>No</td>\n      <td>2</td>\n    </tr>\n    <tr>\n      <th>1</th>\n      <td>4016</td>\n      <td>PHD</td>\n      <td>2018</td>\n      <td>New Delhi</td>\n      <td>3</td>\n      <td>34</td>\n      <td>Male</td>\n      <td>No</td>\n      <td>0</td>\n    </tr>\n    <tr>\n      <th>2</th>\n      <td>2830</td>\n      <td>Bachelors</td>\n      <td>2014</td>\n      <td>Bangalore</td>\n      <td>3</td>\n      <td>27</td>\n      <td>Male</td>\n      <td>Yes</td>\n      <td>5</td>\n    </tr>\n    <tr>\n      <th>3</th>\n      <td>2239</td>\n      <td>Bachelors</td>\n      <td>2013</td>\n      <td>New Delhi</td>\n      <td>3</td>\n      <td>27</td>\n      <td>Male</td>\n      <td>No</td>\n      <td>5</td>\n    </tr>\n    <tr>\n      <th>4</th>\n      <td>1047</td>\n      <td>Bachelors</td>\n      <td>2012</td>\n      <td>Bangalore</td>\n      <td>3</td>\n      <td>28</td>\n      <td>Male</td>\n      <td>No</td>\n      <td>1</td>\n    </tr>\n    <tr>\n      <th>...</th>\n      <td>...</td>\n      <td>...</td>\n      <td>...</td>\n      <td>...</td>\n      <td>...</td>\n      <td>...</td>\n      <td>...</td>\n      <td>...</td>\n      <td>...</td>\n    </tr>\n    <tr>\n      <th>1848</th>\n      <td>2241</td>\n      <td>Masters</td>\n      <td>2017</td>\n      <td>New Delhi</td>\n      <td>2</td>\n      <td>28</td>\n      <td>Male</td>\n      <td>No</td>\n      <td>1</td>\n    </tr>\n    <tr>\n      <th>1849</th>\n      <td>2769</td>\n      <td>Masters</td>\n      <td>2013</td>\n      <td>New Delhi</td>\n      <td>2</td>\n      <td>26</td>\n      <td>Male</td>\n      <td>No</td>\n      <td>4</td>\n    </tr>\n    <tr>\n      <th>1850</th>\n      <td>3753</td>\n      <td>Masters</td>\n      <td>2017</td>\n      <td>Pune</td>\n      <td>2</td>\n      <td>39</td>\n      <td>Male</td>\n      <td>No</td>\n      <td>2</td>\n    </tr>\n    <tr>\n      <th>1851</th>\n      <td>4233</td>\n      <td>Bachelors</td>\n      <td>2015</td>\n      <td>New Delhi</td>\n      <td>3</td>\n      <td>33</td>\n      <td>Female</td>\n      <td>No</td>\n      <td>5</td>\n    </tr>\n    <tr>\n      <th>1852</th>\n      <td>2333</td>\n      <td>Masters</td>\n      <td>2017</td>\n      <td>New Delhi</td>\n      <td>2</td>\n      <td>28</td>\n      <td>Male</td>\n      <td>No</td>\n      <td>2</td>\n    </tr>\n  </tbody>\n</table>\n<p>1853 rows × 9 columns</p>\n</div>"
     },
     "execution_count": 139,
     "metadata": {},
     "output_type": "execute_result"
    }
   ],
   "source": [
    "df_test = pd.read_csv(\"ainyuumon2021winter/test.csv\")\n",
    "df_test"
   ],
   "metadata": {
    "collapsed": false,
    "pycharm": {
     "name": "#%%\n"
    }
   }
  },
  {
   "cell_type": "code",
   "execution_count": 140,
   "outputs": [
    {
     "data": {
      "text/plain": "      PaymentTier  Age  ExperienceInCurrentDomain  Education_Masters  \\\n0               3   40                          2                  0   \n1               3   34                          0                  0   \n2               3   27                          5                  0   \n3               3   27                          5                  0   \n4               3   28                          1                  0   \n...           ...  ...                        ...                ...   \n1848            2   28                          1                  1   \n1849            2   26                          4                  1   \n1850            2   39                          2                  1   \n1851            3   33                          5                  0   \n1852            2   28                          2                  1   \n\n      Education_PHD  City_New Delhi  City_Pune  Gender_Male  ElapsedYears  \n0                 0               1          0            1             3  \n1                 1               1          0            1             0  \n2                 0               0          0            1             4  \n3                 0               1          0            1             5  \n4                 0               0          0            1             6  \n...             ...             ...        ...          ...           ...  \n1848              0               1          0            1             1  \n1849              0               1          0            1             5  \n1850              0               0          1            1             1  \n1851              0               1          0            0             3  \n1852              0               1          0            1             1  \n\n[1853 rows x 9 columns]",
      "text/html": "<div>\n<style scoped>\n    .dataframe tbody tr th:only-of-type {\n        vertical-align: middle;\n    }\n\n    .dataframe tbody tr th {\n        vertical-align: top;\n    }\n\n    .dataframe thead th {\n        text-align: right;\n    }\n</style>\n<table border=\"1\" class=\"dataframe\">\n  <thead>\n    <tr style=\"text-align: right;\">\n      <th></th>\n      <th>PaymentTier</th>\n      <th>Age</th>\n      <th>ExperienceInCurrentDomain</th>\n      <th>Education_Masters</th>\n      <th>Education_PHD</th>\n      <th>City_New Delhi</th>\n      <th>City_Pune</th>\n      <th>Gender_Male</th>\n      <th>ElapsedYears</th>\n    </tr>\n  </thead>\n  <tbody>\n    <tr>\n      <th>0</th>\n      <td>3</td>\n      <td>40</td>\n      <td>2</td>\n      <td>0</td>\n      <td>0</td>\n      <td>1</td>\n      <td>0</td>\n      <td>1</td>\n      <td>3</td>\n    </tr>\n    <tr>\n      <th>1</th>\n      <td>3</td>\n      <td>34</td>\n      <td>0</td>\n      <td>0</td>\n      <td>1</td>\n      <td>1</td>\n      <td>0</td>\n      <td>1</td>\n      <td>0</td>\n    </tr>\n    <tr>\n      <th>2</th>\n      <td>3</td>\n      <td>27</td>\n      <td>5</td>\n      <td>0</td>\n      <td>0</td>\n      <td>0</td>\n      <td>0</td>\n      <td>1</td>\n      <td>4</td>\n    </tr>\n    <tr>\n      <th>3</th>\n      <td>3</td>\n      <td>27</td>\n      <td>5</td>\n      <td>0</td>\n      <td>0</td>\n      <td>1</td>\n      <td>0</td>\n      <td>1</td>\n      <td>5</td>\n    </tr>\n    <tr>\n      <th>4</th>\n      <td>3</td>\n      <td>28</td>\n      <td>1</td>\n      <td>0</td>\n      <td>0</td>\n      <td>0</td>\n      <td>0</td>\n      <td>1</td>\n      <td>6</td>\n    </tr>\n    <tr>\n      <th>...</th>\n      <td>...</td>\n      <td>...</td>\n      <td>...</td>\n      <td>...</td>\n      <td>...</td>\n      <td>...</td>\n      <td>...</td>\n      <td>...</td>\n      <td>...</td>\n    </tr>\n    <tr>\n      <th>1848</th>\n      <td>2</td>\n      <td>28</td>\n      <td>1</td>\n      <td>1</td>\n      <td>0</td>\n      <td>1</td>\n      <td>0</td>\n      <td>1</td>\n      <td>1</td>\n    </tr>\n    <tr>\n      <th>1849</th>\n      <td>2</td>\n      <td>26</td>\n      <td>4</td>\n      <td>1</td>\n      <td>0</td>\n      <td>1</td>\n      <td>0</td>\n      <td>1</td>\n      <td>5</td>\n    </tr>\n    <tr>\n      <th>1850</th>\n      <td>2</td>\n      <td>39</td>\n      <td>2</td>\n      <td>1</td>\n      <td>0</td>\n      <td>0</td>\n      <td>1</td>\n      <td>1</td>\n      <td>1</td>\n    </tr>\n    <tr>\n      <th>1851</th>\n      <td>3</td>\n      <td>33</td>\n      <td>5</td>\n      <td>0</td>\n      <td>0</td>\n      <td>1</td>\n      <td>0</td>\n      <td>0</td>\n      <td>3</td>\n    </tr>\n    <tr>\n      <th>1852</th>\n      <td>2</td>\n      <td>28</td>\n      <td>2</td>\n      <td>1</td>\n      <td>0</td>\n      <td>1</td>\n      <td>0</td>\n      <td>1</td>\n      <td>1</td>\n    </tr>\n  </tbody>\n</table>\n<p>1853 rows × 9 columns</p>\n</div>"
     },
     "execution_count": 140,
     "metadata": {},
     "output_type": "execute_result"
    }
   ],
   "source": [
    "X_test = preprocess(df_test)\n",
    "X_test"
   ],
   "metadata": {
    "collapsed": false,
    "pycharm": {
     "name": "#%%\n"
    }
   }
  },
  {
   "cell_type": "code",
   "execution_count": 141,
   "outputs": [],
   "source": [
    "Y_pred = model.predict(trans.transform(X_test))"
   ],
   "metadata": {
    "collapsed": false,
    "pycharm": {
     "name": "#%%\n"
    }
   }
  },
  {
   "cell_type": "code",
   "execution_count": 142,
   "outputs": [
    {
     "data": {
      "text/plain": "        ID  Pred\n0     3189     0\n1     4016     1\n2     2830     0\n3     2239     0\n4     1047     0\n...    ...   ...\n1848  2241     0\n1849  2769     1\n1850  3753     0\n1851  4233     0\n1852  2333     0\n\n[1853 rows x 2 columns]",
      "text/html": "<div>\n<style scoped>\n    .dataframe tbody tr th:only-of-type {\n        vertical-align: middle;\n    }\n\n    .dataframe tbody tr th {\n        vertical-align: top;\n    }\n\n    .dataframe thead th {\n        text-align: right;\n    }\n</style>\n<table border=\"1\" class=\"dataframe\">\n  <thead>\n    <tr style=\"text-align: right;\">\n      <th></th>\n      <th>ID</th>\n      <th>Pred</th>\n    </tr>\n  </thead>\n  <tbody>\n    <tr>\n      <th>0</th>\n      <td>3189</td>\n      <td>0</td>\n    </tr>\n    <tr>\n      <th>1</th>\n      <td>4016</td>\n      <td>1</td>\n    </tr>\n    <tr>\n      <th>2</th>\n      <td>2830</td>\n      <td>0</td>\n    </tr>\n    <tr>\n      <th>3</th>\n      <td>2239</td>\n      <td>0</td>\n    </tr>\n    <tr>\n      <th>4</th>\n      <td>1047</td>\n      <td>0</td>\n    </tr>\n    <tr>\n      <th>...</th>\n      <td>...</td>\n      <td>...</td>\n    </tr>\n    <tr>\n      <th>1848</th>\n      <td>2241</td>\n      <td>0</td>\n    </tr>\n    <tr>\n      <th>1849</th>\n      <td>2769</td>\n      <td>1</td>\n    </tr>\n    <tr>\n      <th>1850</th>\n      <td>3753</td>\n      <td>0</td>\n    </tr>\n    <tr>\n      <th>1851</th>\n      <td>4233</td>\n      <td>0</td>\n    </tr>\n    <tr>\n      <th>1852</th>\n      <td>2333</td>\n      <td>0</td>\n    </tr>\n  </tbody>\n</table>\n<p>1853 rows × 2 columns</p>\n</div>"
     },
     "execution_count": 142,
     "metadata": {},
     "output_type": "execute_result"
    }
   ],
   "source": [
    "submission = pd.concat([df_test[\"ID\"], pd.DataFrame(Y_pred, columns=[\"Pred\"])], axis=1)\n",
    "submission"
   ],
   "metadata": {
    "collapsed": false,
    "pycharm": {
     "name": "#%%\n"
    }
   }
  },
  {
   "cell_type": "code",
   "execution_count": 143,
   "outputs": [],
   "source": [
    "submission.to_csv(\"submission.csv\", index=False)"
   ],
   "metadata": {
    "collapsed": false,
    "pycharm": {
     "name": "#%%\n"
    }
   }
  },
  {
   "cell_type": "code",
   "execution_count": null,
   "outputs": [],
   "source": [],
   "metadata": {
    "collapsed": false,
    "pycharm": {
     "name": "#%%\n"
    }
   }
  }
 ],
 "metadata": {
  "kernelspec": {
   "display_name": "Python 3",
   "language": "python",
   "name": "python3"
  },
  "language_info": {
   "codemirror_mode": {
    "name": "ipython",
    "version": 2
   },
   "file_extension": ".py",
   "mimetype": "text/x-python",
   "name": "python",
   "nbconvert_exporter": "python",
   "pygments_lexer": "ipython2",
   "version": "2.7.6"
  }
 },
 "nbformat": 4,
 "nbformat_minor": 0
}