{
 "cells": [
  {
   "cell_type": "markdown",
   "source": [
    "# 第10回"
   ],
   "metadata": {
    "collapsed": false
   }
  },
  {
   "cell_type": "code",
   "execution_count": 47,
   "metadata": {
    "collapsed": true
   },
   "outputs": [],
   "source": [
    "import numpy as np\n",
    "import pandas as pd\n",
    "import matplotlib.pyplot as plt"
   ]
  },
  {
   "cell_type": "code",
   "execution_count": 12,
   "outputs": [],
   "source": [
    "df = pd.read_csv(\"./baseball2019.csv\", index_col=0)"
   ],
   "metadata": {
    "collapsed": false,
    "pycharm": {
     "name": "#%%\n"
    }
   }
  },
  {
   "cell_type": "code",
   "execution_count": 13,
   "outputs": [
    {
     "data": {
      "text/plain": "      チーム      打率   打席  安打数  ホームラン  打点   三振  盗塁  年齢  勤続年数  推定年俸(万円)\n選手名                                                                \n鈴木 誠也  広島  0.3350  612  167     28  87   81  25  25     8     28000\nビシエド   中日  0.3150  594  168     18  93   88   2  30     5     30000\n糸井 嘉男  阪神  0.3140  444  120      5  42   63   9  38    17     40000\n大島 洋平  中日  0.3118  623  174      3  45   78  30  33    11     25000\n坂本 勇人  巨人  0.3117  639  173     40  94  123   5  30    14     50000",
      "text/html": "<div>\n<style scoped>\n    .dataframe tbody tr th:only-of-type {\n        vertical-align: middle;\n    }\n\n    .dataframe tbody tr th {\n        vertical-align: top;\n    }\n\n    .dataframe thead th {\n        text-align: right;\n    }\n</style>\n<table border=\"1\" class=\"dataframe\">\n  <thead>\n    <tr style=\"text-align: right;\">\n      <th></th>\n      <th>チーム</th>\n      <th>打率</th>\n      <th>打席</th>\n      <th>安打数</th>\n      <th>ホームラン</th>\n      <th>打点</th>\n      <th>三振</th>\n      <th>盗塁</th>\n      <th>年齢</th>\n      <th>勤続年数</th>\n      <th>推定年俸(万円)</th>\n    </tr>\n    <tr>\n      <th>選手名</th>\n      <th></th>\n      <th></th>\n      <th></th>\n      <th></th>\n      <th></th>\n      <th></th>\n      <th></th>\n      <th></th>\n      <th></th>\n      <th></th>\n      <th></th>\n    </tr>\n  </thead>\n  <tbody>\n    <tr>\n      <th>鈴木 誠也</th>\n      <td>広島</td>\n      <td>0.3350</td>\n      <td>612</td>\n      <td>167</td>\n      <td>28</td>\n      <td>87</td>\n      <td>81</td>\n      <td>25</td>\n      <td>25</td>\n      <td>8</td>\n      <td>28000</td>\n    </tr>\n    <tr>\n      <th>ビシエド</th>\n      <td>中日</td>\n      <td>0.3150</td>\n      <td>594</td>\n      <td>168</td>\n      <td>18</td>\n      <td>93</td>\n      <td>88</td>\n      <td>2</td>\n      <td>30</td>\n      <td>5</td>\n      <td>30000</td>\n    </tr>\n    <tr>\n      <th>糸井 嘉男</th>\n      <td>阪神</td>\n      <td>0.3140</td>\n      <td>444</td>\n      <td>120</td>\n      <td>5</td>\n      <td>42</td>\n      <td>63</td>\n      <td>9</td>\n      <td>38</td>\n      <td>17</td>\n      <td>40000</td>\n    </tr>\n    <tr>\n      <th>大島 洋平</th>\n      <td>中日</td>\n      <td>0.3118</td>\n      <td>623</td>\n      <td>174</td>\n      <td>3</td>\n      <td>45</td>\n      <td>78</td>\n      <td>30</td>\n      <td>33</td>\n      <td>11</td>\n      <td>25000</td>\n    </tr>\n    <tr>\n      <th>坂本 勇人</th>\n      <td>巨人</td>\n      <td>0.3117</td>\n      <td>639</td>\n      <td>173</td>\n      <td>40</td>\n      <td>94</td>\n      <td>123</td>\n      <td>5</td>\n      <td>30</td>\n      <td>14</td>\n      <td>50000</td>\n    </tr>\n  </tbody>\n</table>\n</div>"
     },
     "execution_count": 13,
     "metadata": {},
     "output_type": "execute_result"
    }
   ],
   "source": [
    "df.head()"
   ],
   "metadata": {
    "collapsed": false,
    "pycharm": {
     "name": "#%%\n"
    }
   }
  },
  {
   "cell_type": "code",
   "execution_count": 5,
   "outputs": [],
   "source": [
    "df2 = pd.read_excel(\"./estate.xlsx\", sheet_name=\"物件データ\", skiprows=2)"
   ],
   "metadata": {
    "collapsed": false,
    "pycharm": {
     "name": "#%%\n"
    }
   }
  },
  {
   "cell_type": "code",
   "execution_count": 6,
   "outputs": [
    {
     "data": {
      "text/plain": "   No.  駅歩   築  階   間取り     面積    家賃\n0    1   7  19  2  2LDK  38.35  14.9\n1    2   3  22  2    1K  22.85   7.4\n2    3   3  22  4    1K  21.96   8.0\n3    4   3  22  6    1K  21.96   8.0\n4    5   3  34  7    1R  18.03   5.0",
      "text/html": "<div>\n<style scoped>\n    .dataframe tbody tr th:only-of-type {\n        vertical-align: middle;\n    }\n\n    .dataframe tbody tr th {\n        vertical-align: top;\n    }\n\n    .dataframe thead th {\n        text-align: right;\n    }\n</style>\n<table border=\"1\" class=\"dataframe\">\n  <thead>\n    <tr style=\"text-align: right;\">\n      <th></th>\n      <th>No.</th>\n      <th>駅歩</th>\n      <th>築</th>\n      <th>階</th>\n      <th>間取り</th>\n      <th>面積</th>\n      <th>家賃</th>\n    </tr>\n  </thead>\n  <tbody>\n    <tr>\n      <th>0</th>\n      <td>1</td>\n      <td>7</td>\n      <td>19</td>\n      <td>2</td>\n      <td>2LDK</td>\n      <td>38.35</td>\n      <td>14.9</td>\n    </tr>\n    <tr>\n      <th>1</th>\n      <td>2</td>\n      <td>3</td>\n      <td>22</td>\n      <td>2</td>\n      <td>1K</td>\n      <td>22.85</td>\n      <td>7.4</td>\n    </tr>\n    <tr>\n      <th>2</th>\n      <td>3</td>\n      <td>3</td>\n      <td>22</td>\n      <td>4</td>\n      <td>1K</td>\n      <td>21.96</td>\n      <td>8.0</td>\n    </tr>\n    <tr>\n      <th>3</th>\n      <td>4</td>\n      <td>3</td>\n      <td>22</td>\n      <td>6</td>\n      <td>1K</td>\n      <td>21.96</td>\n      <td>8.0</td>\n    </tr>\n    <tr>\n      <th>4</th>\n      <td>5</td>\n      <td>3</td>\n      <td>34</td>\n      <td>7</td>\n      <td>1R</td>\n      <td>18.03</td>\n      <td>5.0</td>\n    </tr>\n  </tbody>\n</table>\n</div>"
     },
     "execution_count": 6,
     "metadata": {},
     "output_type": "execute_result"
    }
   ],
   "source": [
    "df2.head()"
   ],
   "metadata": {
    "collapsed": false,
    "pycharm": {
     "name": "#%%\n"
    }
   }
  },
  {
   "cell_type": "code",
   "execution_count": 20,
   "outputs": [
    {
     "data": {
      "text/plain": "チーム            広島\n打率          0.335\n打席            612\n安打数           167\nホームラン          28\n打点             87\n三振             81\n盗塁             25\n年齢             25\n勤続年数            8\n推定年俸(万円)    28000\nName: 鈴木 誠也, dtype: object"
     },
     "execution_count": 20,
     "metadata": {},
     "output_type": "execute_result"
    }
   ],
   "source": [
    "df.loc[\"鈴木 誠也\"]"
   ],
   "metadata": {
    "collapsed": false,
    "pycharm": {
     "name": "#%%\n"
    }
   }
  },
  {
   "cell_type": "code",
   "execution_count": 25,
   "outputs": [],
   "source": [
    "s1 = (df[\"ホームラン\"] + 100 * df[\"打率\"])"
   ],
   "metadata": {
    "collapsed": false,
    "pycharm": {
     "name": "#%%\n"
    }
   }
  },
  {
   "cell_type": "code",
   "execution_count": 30,
   "outputs": [
    {
     "data": {
      "text/plain": "         チーム      打率   打席  安打数  ホームラン  打点   三振  盗塁  年齢  勤続年数  推定年俸(万円)\n選手名                                                                   \n鈴木 誠也     広島  0.3350  612  167     28  87   81  25  25     8     28000\n西川 龍馬     広島  0.2971  585  159     16  64   81   6  24     5      6800\n高橋 周平     中日  0.2930  471  126      7  59   70   3  25     9      6000\n阿部 寿樹     中日  0.2910  484  130      7  59   82   1  29     5      3000\n神里 和毅   DeNA  0.2790  458  119      6  35  121  15  25     3      4800\n近本 光司     阪神  0.2713  640  159      9  42  110  36  24     2      4500\n山田 哲人   ヤクルト  0.2711  641  141     35  98  121  33  27    10     50000\n中村 悠平   ヤクルト  0.2688  450  100      5  36   64   1  29    12      9000\n糸原 健斗     阪神  0.2670  572  131      2  45   70   6  26     4      6000\n梅野 隆太郎    阪神  0.2660  492  115      9  59   83  14  28     7     10000\n岡本 和真     巨人  0.2650  628  147     31  94  132   3  23     6     14000\n菊池 涼介     広島  0.2610  619  143     13  48  102  14  29     9     30000\n大山 悠輔     阪神  0.2580  587  139     14  76   98   3  24     4      4700\n京田 陽太     中日  0.2490  574  126      3  40   91  17  25     4      6400",
      "text/html": "<div>\n<style scoped>\n    .dataframe tbody tr th:only-of-type {\n        vertical-align: middle;\n    }\n\n    .dataframe tbody tr th {\n        vertical-align: top;\n    }\n\n    .dataframe thead th {\n        text-align: right;\n    }\n</style>\n<table border=\"1\" class=\"dataframe\">\n  <thead>\n    <tr style=\"text-align: right;\">\n      <th></th>\n      <th>チーム</th>\n      <th>打率</th>\n      <th>打席</th>\n      <th>安打数</th>\n      <th>ホームラン</th>\n      <th>打点</th>\n      <th>三振</th>\n      <th>盗塁</th>\n      <th>年齢</th>\n      <th>勤続年数</th>\n      <th>推定年俸(万円)</th>\n    </tr>\n    <tr>\n      <th>選手名</th>\n      <th></th>\n      <th></th>\n      <th></th>\n      <th></th>\n      <th></th>\n      <th></th>\n      <th></th>\n      <th></th>\n      <th></th>\n      <th></th>\n      <th></th>\n    </tr>\n  </thead>\n  <tbody>\n    <tr>\n      <th>鈴木 誠也</th>\n      <td>広島</td>\n      <td>0.3350</td>\n      <td>612</td>\n      <td>167</td>\n      <td>28</td>\n      <td>87</td>\n      <td>81</td>\n      <td>25</td>\n      <td>25</td>\n      <td>8</td>\n      <td>28000</td>\n    </tr>\n    <tr>\n      <th>西川 龍馬</th>\n      <td>広島</td>\n      <td>0.2971</td>\n      <td>585</td>\n      <td>159</td>\n      <td>16</td>\n      <td>64</td>\n      <td>81</td>\n      <td>6</td>\n      <td>24</td>\n      <td>5</td>\n      <td>6800</td>\n    </tr>\n    <tr>\n      <th>高橋 周平</th>\n      <td>中日</td>\n      <td>0.2930</td>\n      <td>471</td>\n      <td>126</td>\n      <td>7</td>\n      <td>59</td>\n      <td>70</td>\n      <td>3</td>\n      <td>25</td>\n      <td>9</td>\n      <td>6000</td>\n    </tr>\n    <tr>\n      <th>阿部 寿樹</th>\n      <td>中日</td>\n      <td>0.2910</td>\n      <td>484</td>\n      <td>130</td>\n      <td>7</td>\n      <td>59</td>\n      <td>82</td>\n      <td>1</td>\n      <td>29</td>\n      <td>5</td>\n      <td>3000</td>\n    </tr>\n    <tr>\n      <th>神里 和毅</th>\n      <td>DeNA</td>\n      <td>0.2790</td>\n      <td>458</td>\n      <td>119</td>\n      <td>6</td>\n      <td>35</td>\n      <td>121</td>\n      <td>15</td>\n      <td>25</td>\n      <td>3</td>\n      <td>4800</td>\n    </tr>\n    <tr>\n      <th>近本 光司</th>\n      <td>阪神</td>\n      <td>0.2713</td>\n      <td>640</td>\n      <td>159</td>\n      <td>9</td>\n      <td>42</td>\n      <td>110</td>\n      <td>36</td>\n      <td>24</td>\n      <td>2</td>\n      <td>4500</td>\n    </tr>\n    <tr>\n      <th>山田 哲人</th>\n      <td>ヤクルト</td>\n      <td>0.2711</td>\n      <td>641</td>\n      <td>141</td>\n      <td>35</td>\n      <td>98</td>\n      <td>121</td>\n      <td>33</td>\n      <td>27</td>\n      <td>10</td>\n      <td>50000</td>\n    </tr>\n    <tr>\n      <th>中村 悠平</th>\n      <td>ヤクルト</td>\n      <td>0.2688</td>\n      <td>450</td>\n      <td>100</td>\n      <td>5</td>\n      <td>36</td>\n      <td>64</td>\n      <td>1</td>\n      <td>29</td>\n      <td>12</td>\n      <td>9000</td>\n    </tr>\n    <tr>\n      <th>糸原 健斗</th>\n      <td>阪神</td>\n      <td>0.2670</td>\n      <td>572</td>\n      <td>131</td>\n      <td>2</td>\n      <td>45</td>\n      <td>70</td>\n      <td>6</td>\n      <td>26</td>\n      <td>4</td>\n      <td>6000</td>\n    </tr>\n    <tr>\n      <th>梅野 隆太郎</th>\n      <td>阪神</td>\n      <td>0.2660</td>\n      <td>492</td>\n      <td>115</td>\n      <td>9</td>\n      <td>59</td>\n      <td>83</td>\n      <td>14</td>\n      <td>28</td>\n      <td>7</td>\n      <td>10000</td>\n    </tr>\n    <tr>\n      <th>岡本 和真</th>\n      <td>巨人</td>\n      <td>0.2650</td>\n      <td>628</td>\n      <td>147</td>\n      <td>31</td>\n      <td>94</td>\n      <td>132</td>\n      <td>3</td>\n      <td>23</td>\n      <td>6</td>\n      <td>14000</td>\n    </tr>\n    <tr>\n      <th>菊池 涼介</th>\n      <td>広島</td>\n      <td>0.2610</td>\n      <td>619</td>\n      <td>143</td>\n      <td>13</td>\n      <td>48</td>\n      <td>102</td>\n      <td>14</td>\n      <td>29</td>\n      <td>9</td>\n      <td>30000</td>\n    </tr>\n    <tr>\n      <th>大山 悠輔</th>\n      <td>阪神</td>\n      <td>0.2580</td>\n      <td>587</td>\n      <td>139</td>\n      <td>14</td>\n      <td>76</td>\n      <td>98</td>\n      <td>3</td>\n      <td>24</td>\n      <td>4</td>\n      <td>4700</td>\n    </tr>\n    <tr>\n      <th>京田 陽太</th>\n      <td>中日</td>\n      <td>0.2490</td>\n      <td>574</td>\n      <td>126</td>\n      <td>3</td>\n      <td>40</td>\n      <td>91</td>\n      <td>17</td>\n      <td>25</td>\n      <td>4</td>\n      <td>6400</td>\n    </tr>\n  </tbody>\n</table>\n</div>"
     },
     "execution_count": 30,
     "metadata": {},
     "output_type": "execute_result"
    }
   ],
   "source": [
    "df.query(\"20 <= 年齢 < 30\")"
   ],
   "metadata": {
    "collapsed": false,
    "pycharm": {
     "name": "#%%\n"
    }
   }
  },
  {
   "cell_type": "code",
   "execution_count": 31,
   "outputs": [
    {
     "data": {
      "text/plain": "        チーム     打率   打席  安打数  ホームラン  打点   三振  盗塁  年齢  勤続年数  推定年俸(万円)\n選手名                                                                 \n村上 宗隆  ヤクルト  0.231  593  118     36  96  184   5  19     3      4500",
      "text/html": "<div>\n<style scoped>\n    .dataframe tbody tr th:only-of-type {\n        vertical-align: middle;\n    }\n\n    .dataframe tbody tr th {\n        vertical-align: top;\n    }\n\n    .dataframe thead th {\n        text-align: right;\n    }\n</style>\n<table border=\"1\" class=\"dataframe\">\n  <thead>\n    <tr style=\"text-align: right;\">\n      <th></th>\n      <th>チーム</th>\n      <th>打率</th>\n      <th>打席</th>\n      <th>安打数</th>\n      <th>ホームラン</th>\n      <th>打点</th>\n      <th>三振</th>\n      <th>盗塁</th>\n      <th>年齢</th>\n      <th>勤続年数</th>\n      <th>推定年俸(万円)</th>\n    </tr>\n    <tr>\n      <th>選手名</th>\n      <th></th>\n      <th></th>\n      <th></th>\n      <th></th>\n      <th></th>\n      <th></th>\n      <th></th>\n      <th></th>\n      <th></th>\n      <th></th>\n      <th></th>\n    </tr>\n  </thead>\n  <tbody>\n    <tr>\n      <th>村上 宗隆</th>\n      <td>ヤクルト</td>\n      <td>0.231</td>\n      <td>593</td>\n      <td>118</td>\n      <td>36</td>\n      <td>96</td>\n      <td>184</td>\n      <td>5</td>\n      <td>19</td>\n      <td>3</td>\n      <td>4500</td>\n    </tr>\n  </tbody>\n</table>\n</div>"
     },
     "execution_count": 31,
     "metadata": {},
     "output_type": "execute_result"
    }
   ],
   "source": [
    "df.query(f\"三振 == {df['三振'].max()}\")"
   ],
   "metadata": {
    "collapsed": false,
    "pycharm": {
     "name": "#%%\n"
    }
   }
  },
  {
   "cell_type": "markdown",
   "source": [
    "# 練習30"
   ],
   "metadata": {
    "collapsed": false
   }
  },
  {
   "cell_type": "code",
   "execution_count": 35,
   "outputs": [
    {
     "data": {
      "text/plain": "選手名\n鈴木 誠也     28000\nビシエド      30000\n糸井 嘉男     40000\n大島 洋平     25000\n坂本 勇人     50000\n西川 龍馬      6800\n青木 宣親     34000\n高橋 周平      6000\n丸 佳浩      45000\n阿部 寿樹      3000\n亀井 善行     11000\n宮﨑 敏郎     16000\n神里 和毅      4800\n會澤 翼      18000\n雄平        10000\n近本 光司      4500\n山田 哲人     50000\nソト        18500\n中村 悠平      9000\n糸原 健斗      6000\n梅野 隆太郎    10000\n岡本 和真     14000\n菊池 涼介     30000\n大山 悠輔      4700\n京田 陽太      6400\nロペス       15000\n大和        10000\n村上 宗隆      4500\nName: 推定年俸(万円), dtype: int64"
     },
     "execution_count": 35,
     "metadata": {},
     "output_type": "execute_result"
    }
   ],
   "source": [
    "df[\"推定年俸(万円)\"]"
   ],
   "metadata": {
    "collapsed": false,
    "pycharm": {
     "name": "#%%\n"
    }
   }
  },
  {
   "cell_type": "code",
   "execution_count": 37,
   "outputs": [
    {
     "data": {
      "text/plain": "選手名\n糸井 嘉男     42\n近本 光司     42\n糸原 健斗     45\n梅野 隆太郎    59\n大山 悠輔     76\nName: 打点, dtype: int64"
     },
     "execution_count": 37,
     "metadata": {},
     "output_type": "execute_result"
    }
   ],
   "source": [
    "df.loc[df[\"チーム\"] == \"阪神\"][\"打点\"]"
   ],
   "metadata": {
    "collapsed": false,
    "pycharm": {
     "name": "#%%\n"
    }
   }
  },
  {
   "cell_type": "code",
   "execution_count": 39,
   "outputs": [
    {
     "data": {
      "text/plain": "344"
     },
     "execution_count": 39,
     "metadata": {},
     "output_type": "execute_result"
    }
   ],
   "source": [
    "df.loc[df[\"チーム\"] == \"ヤクルト\"][\"打点\"].sum()"
   ],
   "metadata": {
    "collapsed": false,
    "pycharm": {
     "name": "#%%\n"
    }
   }
  },
  {
   "cell_type": "markdown",
   "source": [
    "# 練習31"
   ],
   "metadata": {
    "collapsed": false
   }
  },
  {
   "cell_type": "code",
   "execution_count": 40,
   "outputs": [
    {
     "data": {
      "text/plain": "   No.  駅歩   築  階   間取り     面積    家賃\n0    1   7  19  2  2LDK  38.35  14.9\n1    2   3  22  2    1K  22.85   7.4\n2    3   3  22  4    1K  21.96   8.0\n3    4   3  22  6    1K  21.96   8.0\n4    5   3  34  7    1R  18.03   5.0",
      "text/html": "<div>\n<style scoped>\n    .dataframe tbody tr th:only-of-type {\n        vertical-align: middle;\n    }\n\n    .dataframe tbody tr th {\n        vertical-align: top;\n    }\n\n    .dataframe thead th {\n        text-align: right;\n    }\n</style>\n<table border=\"1\" class=\"dataframe\">\n  <thead>\n    <tr style=\"text-align: right;\">\n      <th></th>\n      <th>No.</th>\n      <th>駅歩</th>\n      <th>築</th>\n      <th>階</th>\n      <th>間取り</th>\n      <th>面積</th>\n      <th>家賃</th>\n    </tr>\n  </thead>\n  <tbody>\n    <tr>\n      <th>0</th>\n      <td>1</td>\n      <td>7</td>\n      <td>19</td>\n      <td>2</td>\n      <td>2LDK</td>\n      <td>38.35</td>\n      <td>14.9</td>\n    </tr>\n    <tr>\n      <th>1</th>\n      <td>2</td>\n      <td>3</td>\n      <td>22</td>\n      <td>2</td>\n      <td>1K</td>\n      <td>22.85</td>\n      <td>7.4</td>\n    </tr>\n    <tr>\n      <th>2</th>\n      <td>3</td>\n      <td>3</td>\n      <td>22</td>\n      <td>4</td>\n      <td>1K</td>\n      <td>21.96</td>\n      <td>8.0</td>\n    </tr>\n    <tr>\n      <th>3</th>\n      <td>4</td>\n      <td>3</td>\n      <td>22</td>\n      <td>6</td>\n      <td>1K</td>\n      <td>21.96</td>\n      <td>8.0</td>\n    </tr>\n    <tr>\n      <th>4</th>\n      <td>5</td>\n      <td>3</td>\n      <td>34</td>\n      <td>7</td>\n      <td>1R</td>\n      <td>18.03</td>\n      <td>5.0</td>\n    </tr>\n  </tbody>\n</table>\n</div>"
     },
     "execution_count": 40,
     "metadata": {},
     "output_type": "execute_result"
    }
   ],
   "source": [
    "df2.head()"
   ],
   "metadata": {
    "collapsed": false,
    "pycharm": {
     "name": "#%%\n"
    }
   }
  },
  {
   "cell_type": "code",
   "execution_count": 41,
   "outputs": [
    {
     "data": {
      "text/plain": "    No.  駅歩   築  階   間取り     面積    家賃\n0     1   7  19  2  2LDK  38.35  14.9\n15   16  10  11  2  2LDK  69.98  23.0",
      "text/html": "<div>\n<style scoped>\n    .dataframe tbody tr th:only-of-type {\n        vertical-align: middle;\n    }\n\n    .dataframe tbody tr th {\n        vertical-align: top;\n    }\n\n    .dataframe thead th {\n        text-align: right;\n    }\n</style>\n<table border=\"1\" class=\"dataframe\">\n  <thead>\n    <tr style=\"text-align: right;\">\n      <th></th>\n      <th>No.</th>\n      <th>駅歩</th>\n      <th>築</th>\n      <th>階</th>\n      <th>間取り</th>\n      <th>面積</th>\n      <th>家賃</th>\n    </tr>\n  </thead>\n  <tbody>\n    <tr>\n      <th>0</th>\n      <td>1</td>\n      <td>7</td>\n      <td>19</td>\n      <td>2</td>\n      <td>2LDK</td>\n      <td>38.35</td>\n      <td>14.9</td>\n    </tr>\n    <tr>\n      <th>15</th>\n      <td>16</td>\n      <td>10</td>\n      <td>11</td>\n      <td>2</td>\n      <td>2LDK</td>\n      <td>69.98</td>\n      <td>23.0</td>\n    </tr>\n  </tbody>\n</table>\n</div>"
     },
     "execution_count": 41,
     "metadata": {},
     "output_type": "execute_result"
    }
   ],
   "source": [
    "df2.loc[df2.間取り == \"2LDK\"]"
   ],
   "metadata": {
    "collapsed": false,
    "pycharm": {
     "name": "#%%\n"
    }
   }
  },
  {
   "cell_type": "code",
   "execution_count": 45,
   "outputs": [
    {
     "data": {
      "text/plain": "    No.  駅歩   築  階   間取り    面積   家賃\n46   47  10  54  1  1LDK  43.0  9.5\n47   48  10  54  1  1LDK  43.0  9.5",
      "text/html": "<div>\n<style scoped>\n    .dataframe tbody tr th:only-of-type {\n        vertical-align: middle;\n    }\n\n    .dataframe tbody tr th {\n        vertical-align: top;\n    }\n\n    .dataframe thead th {\n        text-align: right;\n    }\n</style>\n<table border=\"1\" class=\"dataframe\">\n  <thead>\n    <tr style=\"text-align: right;\">\n      <th></th>\n      <th>No.</th>\n      <th>駅歩</th>\n      <th>築</th>\n      <th>階</th>\n      <th>間取り</th>\n      <th>面積</th>\n      <th>家賃</th>\n    </tr>\n  </thead>\n  <tbody>\n    <tr>\n      <th>46</th>\n      <td>47</td>\n      <td>10</td>\n      <td>54</td>\n      <td>1</td>\n      <td>1LDK</td>\n      <td>43.0</td>\n      <td>9.5</td>\n    </tr>\n    <tr>\n      <th>47</th>\n      <td>48</td>\n      <td>10</td>\n      <td>54</td>\n      <td>1</td>\n      <td>1LDK</td>\n      <td>43.0</td>\n      <td>9.5</td>\n    </tr>\n  </tbody>\n</table>\n</div>"
     },
     "execution_count": 45,
     "metadata": {},
     "output_type": "execute_result"
    }
   ],
   "source": [
    "df2.query(\"間取り == '1LDK' and 家賃 <= 10\")"
   ],
   "metadata": {
    "collapsed": false,
    "pycharm": {
     "name": "#%%\n"
    }
   }
  },
  {
   "cell_type": "code",
   "execution_count": 51,
   "outputs": [
    {
     "data": {
      "text/plain": "<Figure size 432x288 with 1 Axes>",
      "image/png": "[encoded data removed]"
     },
     "metadata": {
      "needs_background": "light"
     },
     "output_type": "display_data"
    }
   ],
   "source": [
    "plt.boxplot([\n",
    "    df.loc[df.チーム == \"阪神\", \"ホームラン\"],\n",
    "    df.loc[df.チーム == \"巨人\", \"ホームラン\"],\n",
    "])\n",
    "plt.xticks([1, 2], labels=[\"Tigers\", \"Giants\"])\n",
    "plt.show()"
   ],
   "metadata": {
    "collapsed": false,
    "pycharm": {
     "name": "#%%\n"
    }
   }
  },
  {
   "cell_type": "code",
   "execution_count": 55,
   "outputs": [
    {
     "data": {
      "text/plain": "<Figure size 360x360 with 1 Axes>",
      "image/png": "[encoded data removed]"
     },
     "metadata": {
      "needs_background": "light"
     },
     "output_type": "display_data"
    }
   ],
   "source": [
    "plt.figure(figsize=(5,5))\n",
    "\n",
    "plt.hist(df.打率, bins=8, range=(df.打率.min(), df.打率.max()), color=[1,0,0], alpha=0.5)\n",
    "plt.xlabel(\"avg.\")\n",
    "plt.show()"
   ],
   "metadata": {
    "collapsed": false,
    "pycharm": {
     "name": "#%%\n"
    }
   }
  },
  {
   "cell_type": "code",
   "execution_count": 61,
   "outputs": [
    {
     "data": {
      "text/plain": "<Figure size 432x288 with 1 Axes>",
      "image/png": "[encoded data removed]"
     },
     "metadata": {
      "needs_background": "light"
     },
     "output_type": "display_data"
    }
   ],
   "source": [
    "plt.scatter(s1, df[\"推定年俸(万円)\"])\n",
    "plt.show()"
   ],
   "metadata": {
    "collapsed": false,
    "pycharm": {
     "name": "#%%\n"
    }
   }
  },
  {
   "cell_type": "code",
   "execution_count": null,
   "outputs": [],
   "source": [],
   "metadata": {
    "collapsed": false,
    "pycharm": {
     "name": "#%%\n"
    }
   }
  }
 ],
 "metadata": {
  "kernelspec": {
   "display_name": "Python 3",
   "language": "python",
   "name": "python3"
  },
  "language_info": {
   "codemirror_mode": {
    "name": "ipython",
    "version": 2
   },
   "file_extension": ".py",
   "mimetype": "text/x-python",
   "name": "python",
   "nbconvert_exporter": "python",
   "pygments_lexer": "ipython2",
   "version": "2.7.6"
  }
 },
 "nbformat": 4,
 "nbformat_minor": 0
}