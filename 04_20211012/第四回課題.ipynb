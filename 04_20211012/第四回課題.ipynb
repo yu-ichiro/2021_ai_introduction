{
 "cells": [
  {
   "cell_type": "markdown",
   "source": [
    "練習問題6 (前回と重複)"
   ],
   "metadata": {
    "collapsed": false,
    "pycharm": {
     "name": "#%% md\n"
    }
   }
  },
  {
   "cell_type": "code",
   "execution_count": 1,
   "outputs": [],
   "source": [
    "showa_snow = [\n",
    "    (1, 161),\n",
    "    (2, 121),\n",
    "    (3, 117),\n",
    "    (4, 130),\n",
    "    (5, 126),\n",
    "    (6, 136),\n",
    "    (7, 160),\n",
    "    (8, 162),\n",
    "    (9, 161),\n",
    "    (10, 175),\n",
    "    (11, 181),\n",
    "    (12, 179),\n",
    "]"
   ],
   "metadata": {
    "collapsed": false,
    "pycharm": {
     "name": "#%%\n"
    }
   }
  },
  {
   "cell_type": "code",
   "execution_count": 2,
   "outputs": [
    {
     "name": "stdout",
     "output_type": "stream",
     "text": [
      "11 181\n"
     ]
    }
   ],
   "source": [
    "max_month = -1\n",
    "max_depth = -1\n",
    "for month, depth in showa_snow:\n",
    "    if max_depth < depth:\n",
    "        max_month = month\n",
    "        max_depth = depth\n",
    "print(max_month, max_depth)"
   ],
   "metadata": {
    "collapsed": false,
    "pycharm": {
     "name": "#%%\n"
    }
   }
  },
  {
   "cell_type": "code",
   "execution_count": 3,
   "outputs": [
    {
     "name": "stdout",
     "output_type": "stream",
     "text": [
      "11 181\n"
     ]
    }
   ],
   "source": [
    "print(*max(showa_snow, key=lambda md: md[1]))"
   ],
   "metadata": {
    "collapsed": false,
    "pycharm": {
     "name": "#%%\n"
    }
   }
  },
  {
   "cell_type": "markdown",
   "source": [
    "練習問題7"
   ],
   "metadata": {
    "collapsed": false,
    "pycharm": {
     "name": "#%% md\n"
    }
   }
  },
  {
   "cell_type": "code",
   "execution_count": 4,
   "outputs": [],
   "source": [
    "def rpn(formula: str):\n",
    "    stack = []\n",
    "    op = {\n",
    "        '+': lambda a, b: a+b,\n",
    "        '-': lambda a, b: a-b,\n",
    "        '*': lambda a, b: a*b,\n",
    "        '/': lambda a, b: a/b,\n",
    "    }\n",
    "    for token in formula.split():\n",
    "        if token == \"=\":\n",
    "            return stack[-1]\n",
    "        if token in op:\n",
    "            y, x = stack.pop(), stack.pop()\n",
    "            stack.append(op[token](x, y))\n",
    "        else:\n",
    "            stack.append(int(token))\n",
    "    return ' '.join(map(str, stack))"
   ],
   "metadata": {
    "collapsed": false,
    "pycharm": {
     "name": "#%%\n"
    }
   }
  },
  {
   "cell_type": "code",
   "execution_count": 5,
   "outputs": [
    {
     "name": "stdout",
     "output_type": "stream",
     "text": [
      "32\n"
     ]
    }
   ],
   "source": [
    "print(rpn(\"3 5 + 4 * =\"))"
   ],
   "metadata": {
    "collapsed": false,
    "pycharm": {
     "name": "#%%\n"
    }
   }
  }
 ],
 "metadata": {
  "kernelspec": {
   "display_name": "Python 3",
   "language": "python",
   "name": "python3"
  },
  "language_info": {
   "codemirror_mode": {
    "name": "ipython",
    "version": 2
   },
   "file_extension": ".py",
   "mimetype": "text/x-python",
   "name": "python",
   "nbconvert_exporter": "python",
   "pygments_lexer": "ipython2",
   "version": "2.7.6"
  }
 },
 "nbformat": 4,
 "nbformat_minor": 0
}