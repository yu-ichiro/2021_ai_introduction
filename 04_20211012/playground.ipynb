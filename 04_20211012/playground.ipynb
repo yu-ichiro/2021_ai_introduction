{
 "cells": [
  {
   "cell_type": "code",
   "execution_count": 9,
   "outputs": [
    {
     "name": "stderr",
     "output_type": "stream",
     "text": [
      "/var/folders/kr/h2nmtst52wl9fq2sh352l1z80000gn/T/ipykernel_26008/301078910.py:1: DeprecationWarning: Using or importing the ABCs from 'collections' instead of from 'collections.abc' is deprecated since Python 3.3, and in 3.10 it will stop working\n",
      "  from collections import Callable\n"
     ]
    }
   ],
   "source": [
    "from collections import Callable"
   ],
   "metadata": {
    "collapsed": false,
    "pycharm": {
     "name": "#%%\n"
    }
   }
  },
  {
   "cell_type": "code",
   "execution_count": 14,
   "outputs": [],
   "source": [
    "class Expression:\n",
    "    def __init__(self, a):\n",
    "        self.a = a\n",
    "\n",
    "    def __str__(self):\n",
    "        return self.__repr__()\n",
    "\n",
    "    def __repr__(self):\n",
    "        return self.a\n",
    "\n",
    "    def __eval__(self, **kwargs):\n",
    "        dir(kwargs)\n",
    "        return self.a\n",
    "\n",
    "class Operator:\n",
    "    def __init__(self, mark: str, func: Callable):\n",
    "        self.mark = mark\n",
    "        self.func = func\n",
    "\n",
    "    def __repr__(self):\n",
    "        return self.mark\n",
    "\n",
    "\n",
    "class BinaryExpression(Expression):\n",
    "    def __init__(self, a: Expression, operator: Operator, b: Expression):\n",
    "        super().__init__(a)\n",
    "        self.a = a\n",
    "        self.b = b\n",
    "        self.operator = operator\n",
    "\n",
    "    def __repr__(self):\n",
    "        return f\"{repr(self.a)}{repr(self.operator)}{repr(self.b)}\"\n",
    "\n",
    "    def __eval__(self, **kwargs):\n",
    "        return self.operator.func(\n",
    "            self.a.__eval__(**kwargs),\n",
    "            self.b.__eval__(**kwargs)\n",
    "        )\n",
    "\n",
    "\n",
    "class Variable(Expression):\n",
    "    def __init__(self, a: str):\n",
    "        super().__init__(a)\n",
    "        self.a = a\n",
    "\n",
    "    def __repr__(self):\n",
    "        return self.a\n",
    "\n",
    "    def __eval__(self, **kwargs):\n",
    "        assert self.a in kwargs, f\"{self.a} is needed to evaluate\"\n",
    "        return kwargs[self.a]"
   ],
   "metadata": {
    "collapsed": false,
    "pycharm": {
     "name": "#%%\n"
    }
   }
  },
  {
   "cell_type": "code",
   "execution_count": 21,
   "outputs": [
    {
     "data": {
      "text/plain": "x*y"
     },
     "execution_count": 21,
     "metadata": {},
     "output_type": "execute_result"
    }
   ],
   "source": [
    "mul = Operator('*', lambda a, b: a*b)\n",
    "\n",
    "x = Variable('x')\n",
    "y = Variable('y')\n",
    "\n",
    "s = BinaryExpression(x, mul, y)\n",
    "s"
   ],
   "metadata": {
    "collapsed": false,
    "pycharm": {
     "name": "#%%\n"
    }
   }
  },
  {
   "cell_type": "code",
   "execution_count": 22,
   "outputs": [
    {
     "ename": "TypeError",
     "evalue": "unsupported operand type(s) for *: 'Variable' and 'int'",
     "output_type": "error",
     "traceback": [
      "\u001B[0;31m---------------------------------------------------------------------------\u001B[0m",
      "\u001B[0;31mTypeError\u001B[0m                                 Traceback (most recent call last)",
      "\u001B[0;32m/var/folders/kr/h2nmtst52wl9fq2sh352l1z80000gn/T/ipykernel_26008/3203906241.py\u001B[0m in \u001B[0;36m<module>\u001B[0;34m\u001B[0m\n\u001B[0;32m----> 1\u001B[0;31m \u001B[0ms\u001B[0m\u001B[0;34m.\u001B[0m\u001B[0m__eval__\u001B[0m\u001B[0;34m(\u001B[0m\u001B[0mx\u001B[0m\u001B[0;34m=\u001B[0m\u001B[0my\u001B[0m\u001B[0;34m,\u001B[0m \u001B[0my\u001B[0m\u001B[0;34m=\u001B[0m\u001B[0;36m2\u001B[0m\u001B[0;34m)\u001B[0m\u001B[0;34m\u001B[0m\u001B[0;34m\u001B[0m\u001B[0m\n\u001B[0m",
      "\u001B[0;32m/var/folders/kr/h2nmtst52wl9fq2sh352l1z80000gn/T/ipykernel_26008/2186419543.py\u001B[0m in \u001B[0;36m__eval__\u001B[0;34m(self, **kwargs)\u001B[0m\n\u001B[1;32m     33\u001B[0m \u001B[0;34m\u001B[0m\u001B[0m\n\u001B[1;32m     34\u001B[0m     \u001B[0;32mdef\u001B[0m \u001B[0m__eval__\u001B[0m\u001B[0;34m(\u001B[0m\u001B[0mself\u001B[0m\u001B[0;34m,\u001B[0m \u001B[0;34m**\u001B[0m\u001B[0mkwargs\u001B[0m\u001B[0;34m)\u001B[0m\u001B[0;34m:\u001B[0m\u001B[0;34m\u001B[0m\u001B[0;34m\u001B[0m\u001B[0m\n\u001B[0;32m---> 35\u001B[0;31m         return self.operator.func(\n\u001B[0m\u001B[1;32m     36\u001B[0m             \u001B[0mself\u001B[0m\u001B[0;34m.\u001B[0m\u001B[0ma\u001B[0m\u001B[0;34m.\u001B[0m\u001B[0m__eval__\u001B[0m\u001B[0;34m(\u001B[0m\u001B[0;34m**\u001B[0m\u001B[0mkwargs\u001B[0m\u001B[0;34m)\u001B[0m\u001B[0;34m,\u001B[0m\u001B[0;34m\u001B[0m\u001B[0;34m\u001B[0m\u001B[0m\n\u001B[1;32m     37\u001B[0m             \u001B[0mself\u001B[0m\u001B[0;34m.\u001B[0m\u001B[0mb\u001B[0m\u001B[0;34m.\u001B[0m\u001B[0m__eval__\u001B[0m\u001B[0;34m(\u001B[0m\u001B[0;34m**\u001B[0m\u001B[0mkwargs\u001B[0m\u001B[0;34m)\u001B[0m\u001B[0;34m\u001B[0m\u001B[0;34m\u001B[0m\u001B[0m\n",
      "\u001B[0;32m/var/folders/kr/h2nmtst52wl9fq2sh352l1z80000gn/T/ipykernel_26008/3691642228.py\u001B[0m in \u001B[0;36m<lambda>\u001B[0;34m(a, b)\u001B[0m\n\u001B[0;32m----> 1\u001B[0;31m \u001B[0mmul\u001B[0m \u001B[0;34m=\u001B[0m \u001B[0mOperator\u001B[0m\u001B[0;34m(\u001B[0m\u001B[0;34m'*'\u001B[0m\u001B[0;34m,\u001B[0m \u001B[0;32mlambda\u001B[0m \u001B[0ma\u001B[0m\u001B[0;34m,\u001B[0m \u001B[0mb\u001B[0m\u001B[0;34m:\u001B[0m \u001B[0ma\u001B[0m\u001B[0;34m*\u001B[0m\u001B[0mb\u001B[0m\u001B[0;34m)\u001B[0m\u001B[0;34m\u001B[0m\u001B[0;34m\u001B[0m\u001B[0m\n\u001B[0m\u001B[1;32m      2\u001B[0m \u001B[0;34m\u001B[0m\u001B[0m\n\u001B[1;32m      3\u001B[0m \u001B[0mx\u001B[0m \u001B[0;34m=\u001B[0m \u001B[0mVariable\u001B[0m\u001B[0;34m(\u001B[0m\u001B[0;34m'x'\u001B[0m\u001B[0;34m)\u001B[0m\u001B[0;34m\u001B[0m\u001B[0;34m\u001B[0m\u001B[0m\n\u001B[1;32m      4\u001B[0m \u001B[0my\u001B[0m \u001B[0;34m=\u001B[0m \u001B[0mVariable\u001B[0m\u001B[0;34m(\u001B[0m\u001B[0;34m'y'\u001B[0m\u001B[0;34m)\u001B[0m\u001B[0;34m\u001B[0m\u001B[0;34m\u001B[0m\u001B[0m\n\u001B[1;32m      5\u001B[0m \u001B[0;34m\u001B[0m\u001B[0m\n",
      "\u001B[0;31mTypeError\u001B[0m: unsupported operand type(s) for *: 'Variable' and 'int'"
     ]
    }
   ],
   "source": [
    "\n",
    "s.__eval__(x=y, y=2)"
   ],
   "metadata": {
    "collapsed": false,
    "pycharm": {
     "name": "#%%\n"
    }
   }
  },
  {
   "cell_type": "code",
   "execution_count": null,
   "outputs": [],
   "source": [],
   "metadata": {
    "collapsed": false,
    "pycharm": {
     "name": "#%%\n"
    }
   }
  }
 ],
 "metadata": {
  "kernelspec": {
   "display_name": "Python 3",
   "language": "python",
   "name": "python3"
  },
  "language_info": {
   "codemirror_mode": {
    "name": "ipython",
    "version": 2
   },
   "file_extension": ".py",
   "mimetype": "text/x-python",
   "name": "python",
   "nbconvert_exporter": "python",
   "pygments_lexer": "ipython2",
   "version": "2.7.6"
  }
 },
 "nbformat": 4,
 "nbformat_minor": 0
}