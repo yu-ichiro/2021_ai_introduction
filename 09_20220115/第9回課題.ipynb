{
 "cells": [
  {
   "cell_type": "markdown",
   "metadata": {
    "collapsed": true,
    "pycharm": {
     "name": "#%% md\n"
    }
   },
   "source": [
    "# 第9回課題\n",
    "\n",
    "* 最終課題と同時に提出させていただいています\n",
    "* 練習26~28は第8回課題と同じものです"
   ]
  },
  {
   "cell_type": "code",
   "execution_count": 1,
   "outputs": [],
   "source": [
    "from functools import lru_cache"
   ],
   "metadata": {
    "collapsed": false,
    "pycharm": {
     "name": "#%%\n"
    }
   }
  },
  {
   "cell_type": "markdown",
   "source": [
    "# 練習26 combination\n"
   ],
   "metadata": {
    "collapsed": false
   }
  },
  {
   "cell_type": "code",
   "execution_count": 2,
   "outputs": [
    {
     "name": "stdout",
     "output_type": "stream",
     "text": [
      "15\n",
      "120\n"
     ]
    }
   ],
   "source": [
    "def comb(n, k, memo=None):\n",
    "    if not memo:\n",
    "        memo = {}\n",
    "    if k == 0 or k == n:\n",
    "        memo[(n, k)] = 1\n",
    "    if (n, k) in memo:\n",
    "        return memo[(n, k)]\n",
    "    memo[(n, k)] = comb(n-1, k-1) + comb(n-1, k)\n",
    "    return memo[(n, k)]\n",
    "\n",
    "print(comb(6, 2))\n",
    "print(comb(10, 7))"
   ],
   "metadata": {
    "collapsed": false,
    "pycharm": {
     "name": "#%%\n"
    }
   }
  },
  {
   "cell_type": "markdown",
   "source": [
    "# 練習27 Legendre\n"
   ],
   "metadata": {
    "collapsed": false
   }
  },
  {
   "cell_type": "code",
   "execution_count": 3,
   "outputs": [
    {
     "name": "stdout",
     "output_type": "stream",
     "text": [
      "249\n"
     ]
    }
   ],
   "source": [
    "def Legendre(n, p, memo=None):\n",
    "    if not memo:\n",
    "        memo = {}\n",
    "    if n // p == 1:\n",
    "        memo[n] = 1\n",
    "    if n in memo:\n",
    "        return memo[n]\n",
    "    memo[n] = Legendre(n // p, p) + n // p\n",
    "    return memo[n]\n",
    "\n",
    "print(Legendre(1000, 5))"
   ],
   "metadata": {
    "collapsed": false,
    "pycharm": {
     "name": "#%%\n"
    }
   }
  },
  {
   "cell_type": "markdown",
   "source": [
    "# 練習28 カントール集合\n"
   ],
   "metadata": {
    "collapsed": false
   }
  },
  {
   "cell_type": "code",
   "execution_count": 4,
   "outputs": [
    {
     "data": {
      "text/plain": "<Figure size 432x288 with 1 Axes>",
      "image/png": "[encoded data removed]"
     },
     "metadata": {
      "needs_background": "light"
     },
     "output_type": "display_data"
    }
   ],
   "source": [
    "import matplotlib.pyplot as plt\n",
    "\n",
    "\n",
    "def cantor_main(line, i, m):\n",
    "    if m == 1:\n",
    "        line[i] = 1\n",
    "    else:\n",
    "        cantor_main(line, i, m//3)\n",
    "        cantor_main(line, i + m//3 * 2, m//3)\n",
    "\n",
    "\n",
    "def cantor(n):\n",
    "    line = [0]*(3**n)\n",
    "    cantor_main(line, 0, 3**n)\n",
    "    return line\n",
    "\n",
    "plt.imshow([cantor(3)], cmap=\"gray\")\n",
    "plt.yticks([])\n",
    "plt.show()"
   ],
   "metadata": {
    "collapsed": false,
    "pycharm": {
     "name": "#%%\n"
    }
   }
  },
  {
   "cell_type": "markdown",
   "source": [
    "# 練習29"
   ],
   "metadata": {
    "collapsed": false
   }
  },
  {
   "cell_type": "code",
   "execution_count": 5,
   "outputs": [],
   "source": [
    "def jump(n, hp=0, memo=None):\n",
    "    if hp:\n",
    "        return hp - jump(n, 0, memo)\n",
    "    if memo is None:\n",
    "        memo = {\n",
    "            0: 0,\n",
    "            1: 1\n",
    "        }\n",
    "    if n in memo:\n",
    "        return memo[n]\n",
    "    d1 = 2 if n%3==0 else 1\n",
    "    d2 = 2 if n%3==2 else 1\n",
    "    memo[n] = min(jump(n-1, memo=memo)+d1, jump(n-2, memo=memo)+d2)\n",
    "    return memo[n]"
   ],
   "metadata": {
    "collapsed": false,
    "pycharm": {
     "name": "#%%\n"
    }
   }
  },
  {
   "cell_type": "code",
   "execution_count": 6,
   "outputs": [
    {
     "data": {
      "text/plain": "80"
     },
     "execution_count": 6,
     "metadata": {},
     "output_type": "execute_result"
    }
   ],
   "source": [
    "jump(30, 100)"
   ],
   "metadata": {
    "collapsed": false,
    "pycharm": {
     "name": "#%%\n"
    }
   }
  },
  {
   "cell_type": "code",
   "execution_count": 7,
   "outputs": [],
   "source": [
    "def jump2(n, hp):\n",
    "    assert n >= 0, \"n must be a non-negative\"\n",
    "    @lru_cache\n",
    "    def _jump(_n):\n",
    "        if n < 2:\n",
    "            return n\n",
    "        else:\n",
    "            d1 = 2 if n%3==0 else 1\n",
    "            d2 = 2 if n%3==2 else 1\n",
    "            return min(jump(n-1)+d1, jump(n-2)+d2)\n",
    "    return hp - _jump(n)"
   ],
   "metadata": {
    "collapsed": false,
    "pycharm": {
     "name": "#%%\n"
    }
   }
  },
  {
   "cell_type": "code",
   "execution_count": 8,
   "outputs": [
    {
     "data": {
      "text/plain": "80"
     },
     "execution_count": 8,
     "metadata": {},
     "output_type": "execute_result"
    }
   ],
   "source": [
    "jump2(30, 100)"
   ],
   "metadata": {
    "collapsed": false,
    "pycharm": {
     "name": "#%%\n"
    }
   }
  },
  {
   "cell_type": "code",
   "execution_count": null,
   "outputs": [],
   "source": [],
   "metadata": {
    "collapsed": false,
    "pycharm": {
     "name": "#%%\n"
    }
   }
  }
 ],
 "metadata": {
  "kernelspec": {
   "display_name": "Python 3",
   "language": "python",
   "name": "python3"
  },
  "language_info": {
   "codemirror_mode": {
    "name": "ipython",
    "version": 2
   },
   "file_extension": ".py",
   "mimetype": "text/x-python",
   "name": "python",
   "nbconvert_exporter": "python",
   "pygments_lexer": "ipython2",
   "version": "2.7.6"
  }
 },
 "nbformat": 4,
 "nbformat_minor": 0
}