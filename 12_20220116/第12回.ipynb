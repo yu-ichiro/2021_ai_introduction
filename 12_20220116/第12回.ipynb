{
 "cells": [
  {
   "cell_type": "markdown",
   "source": [
    "# 第12回"
   ],
   "metadata": {
    "collapsed": false
   }
  },
  {
   "cell_type": "code",
   "execution_count": 1,
   "metadata": {
    "collapsed": true
   },
   "outputs": [],
   "source": [
    "import pandas as pd\n",
    "import matplotlib.pyplot as plt"
   ]
  },
  {
   "cell_type": "code",
   "execution_count": 2,
   "outputs": [
    {
     "data": {
      "text/plain": "        CRIM    ZN  INDUS  CHAS    NOX     RM   AGE     DIS  RAD    TAX  \\\nID                                                                        \n328  0.24103   0.0   7.38   0.0  0.493  6.083  43.7  5.4159    5  287.0   \n458  8.20058   0.0  18.10   0.0  0.713  5.936  80.3  2.7792   24  666.0   \n6    0.02985   0.0   2.18   0.0  0.458  6.430  58.7  6.0622    3  222.0   \n329  0.06617   0.0   3.24   0.0  0.460  5.868  25.8  5.2146    4  430.0   \n61   0.14932  25.0   5.13   0.0  0.453  5.741  66.2  7.2254    8  284.0   \n..       ...   ...    ...   ...    ...    ...   ...     ...  ...    ...   \n231  0.53700   0.0   6.20   0.0  0.504  5.981  68.1  3.6715    8  307.0   \n244  0.12757  30.0   4.93   0.0  0.428  6.393   7.8  7.0355    6  300.0   \n214  0.14052   0.0  10.59   0.0  0.489  6.375  32.3  3.9454    4  277.0   \n248  0.19657  22.0   5.86   0.0  0.431  6.226  79.2  8.0555    7  330.0   \n337  0.03427   0.0   5.19   0.0  0.515  5.869  46.3  5.2311    5  224.0   \n\n     PTRATIO      B  LSTAT    MEDV  \nID                                  \n328     19.6  12.79   22.2  396.90  \n458     20.2  16.94   13.5    3.50  \n6       18.7   5.21   28.7  394.12  \n329     16.9   9.97   19.3  382.44  \n61      19.7  13.15   18.7  395.11  \n..       ...    ...    ...     ...  \n231     17.4  11.65   24.3  378.35  \n244     16.6   5.19   23.7  374.71  \n214     18.6   9.38   28.1  385.81  \n248     19.1  10.15   20.5  376.14  \n337     20.2   9.80   19.5  396.90  \n\n[250 rows x 14 columns]",
      "text/html": "<div>\n<style scoped>\n    .dataframe tbody tr th:only-of-type {\n        vertical-align: middle;\n    }\n\n    .dataframe tbody tr th {\n        vertical-align: top;\n    }\n\n    .dataframe thead th {\n        text-align: right;\n    }\n</style>\n<table border=\"1\" class=\"dataframe\">\n  <thead>\n    <tr style=\"text-align: right;\">\n      <th></th>\n      <th>CRIM</th>\n      <th>ZN</th>\n      <th>INDUS</th>\n      <th>CHAS</th>\n      <th>NOX</th>\n      <th>RM</th>\n      <th>AGE</th>\n      <th>DIS</th>\n      <th>RAD</th>\n      <th>TAX</th>\n      <th>PTRATIO</th>\n      <th>B</th>\n      <th>LSTAT</th>\n      <th>MEDV</th>\n    </tr>\n    <tr>\n      <th>ID</th>\n      <th></th>\n      <th></th>\n      <th></th>\n      <th></th>\n      <th></th>\n      <th></th>\n      <th></th>\n      <th></th>\n      <th></th>\n      <th></th>\n      <th></th>\n      <th></th>\n      <th></th>\n      <th></th>\n    </tr>\n  </thead>\n  <tbody>\n    <tr>\n      <th>328</th>\n      <td>0.24103</td>\n      <td>0.0</td>\n      <td>7.38</td>\n      <td>0.0</td>\n      <td>0.493</td>\n      <td>6.083</td>\n      <td>43.7</td>\n      <td>5.4159</td>\n      <td>5</td>\n      <td>287.0</td>\n      <td>19.6</td>\n      <td>12.79</td>\n      <td>22.2</td>\n      <td>396.90</td>\n    </tr>\n    <tr>\n      <th>458</th>\n      <td>8.20058</td>\n      <td>0.0</td>\n      <td>18.10</td>\n      <td>0.0</td>\n      <td>0.713</td>\n      <td>5.936</td>\n      <td>80.3</td>\n      <td>2.7792</td>\n      <td>24</td>\n      <td>666.0</td>\n      <td>20.2</td>\n      <td>16.94</td>\n      <td>13.5</td>\n      <td>3.50</td>\n    </tr>\n    <tr>\n      <th>6</th>\n      <td>0.02985</td>\n      <td>0.0</td>\n      <td>2.18</td>\n      <td>0.0</td>\n      <td>0.458</td>\n      <td>6.430</td>\n      <td>58.7</td>\n      <td>6.0622</td>\n      <td>3</td>\n      <td>222.0</td>\n      <td>18.7</td>\n      <td>5.21</td>\n      <td>28.7</td>\n      <td>394.12</td>\n    </tr>\n    <tr>\n      <th>329</th>\n      <td>0.06617</td>\n      <td>0.0</td>\n      <td>3.24</td>\n      <td>0.0</td>\n      <td>0.460</td>\n      <td>5.868</td>\n      <td>25.8</td>\n      <td>5.2146</td>\n      <td>4</td>\n      <td>430.0</td>\n      <td>16.9</td>\n      <td>9.97</td>\n      <td>19.3</td>\n      <td>382.44</td>\n    </tr>\n    <tr>\n      <th>61</th>\n      <td>0.14932</td>\n      <td>25.0</td>\n      <td>5.13</td>\n      <td>0.0</td>\n      <td>0.453</td>\n      <td>5.741</td>\n      <td>66.2</td>\n      <td>7.2254</td>\n      <td>8</td>\n      <td>284.0</td>\n      <td>19.7</td>\n      <td>13.15</td>\n      <td>18.7</td>\n      <td>395.11</td>\n    </tr>\n    <tr>\n      <th>...</th>\n      <td>...</td>\n      <td>...</td>\n      <td>...</td>\n      <td>...</td>\n      <td>...</td>\n      <td>...</td>\n      <td>...</td>\n      <td>...</td>\n      <td>...</td>\n      <td>...</td>\n      <td>...</td>\n      <td>...</td>\n      <td>...</td>\n      <td>...</td>\n    </tr>\n    <tr>\n      <th>231</th>\n      <td>0.53700</td>\n      <td>0.0</td>\n      <td>6.20</td>\n      <td>0.0</td>\n      <td>0.504</td>\n      <td>5.981</td>\n      <td>68.1</td>\n      <td>3.6715</td>\n      <td>8</td>\n      <td>307.0</td>\n      <td>17.4</td>\n      <td>11.65</td>\n      <td>24.3</td>\n      <td>378.35</td>\n    </tr>\n    <tr>\n      <th>244</th>\n      <td>0.12757</td>\n      <td>30.0</td>\n      <td>4.93</td>\n      <td>0.0</td>\n      <td>0.428</td>\n      <td>6.393</td>\n      <td>7.8</td>\n      <td>7.0355</td>\n      <td>6</td>\n      <td>300.0</td>\n      <td>16.6</td>\n      <td>5.19</td>\n      <td>23.7</td>\n      <td>374.71</td>\n    </tr>\n    <tr>\n      <th>214</th>\n      <td>0.14052</td>\n      <td>0.0</td>\n      <td>10.59</td>\n      <td>0.0</td>\n      <td>0.489</td>\n      <td>6.375</td>\n      <td>32.3</td>\n      <td>3.9454</td>\n      <td>4</td>\n      <td>277.0</td>\n      <td>18.6</td>\n      <td>9.38</td>\n      <td>28.1</td>\n      <td>385.81</td>\n    </tr>\n    <tr>\n      <th>248</th>\n      <td>0.19657</td>\n      <td>22.0</td>\n      <td>5.86</td>\n      <td>0.0</td>\n      <td>0.431</td>\n      <td>6.226</td>\n      <td>79.2</td>\n      <td>8.0555</td>\n      <td>7</td>\n      <td>330.0</td>\n      <td>19.1</td>\n      <td>10.15</td>\n      <td>20.5</td>\n      <td>376.14</td>\n    </tr>\n    <tr>\n      <th>337</th>\n      <td>0.03427</td>\n      <td>0.0</td>\n      <td>5.19</td>\n      <td>0.0</td>\n      <td>0.515</td>\n      <td>5.869</td>\n      <td>46.3</td>\n      <td>5.2311</td>\n      <td>5</td>\n      <td>224.0</td>\n      <td>20.2</td>\n      <td>9.80</td>\n      <td>19.5</td>\n      <td>396.90</td>\n    </tr>\n  </tbody>\n</table>\n<p>250 rows × 14 columns</p>\n</div>"
     },
     "execution_count": 2,
     "metadata": {},
     "output_type": "execute_result"
    }
   ],
   "source": [
    "df = pd.read_csv(\"./boston/train.csv\", index_col=0)\n",
    "df"
   ],
   "metadata": {
    "collapsed": false,
    "pycharm": {
     "name": "#%%\n"
    }
   }
  },
  {
   "cell_type": "code",
   "execution_count": 4,
   "outputs": [],
   "source": [
    "Y = df[\"MEDV\"]\n",
    "X = df.drop([\"MEDV\", \"LSTAT\"], axis=1)"
   ],
   "metadata": {
    "collapsed": false,
    "pycharm": {
     "name": "#%%\n"
    }
   }
  },
  {
   "cell_type": "code",
   "execution_count": 42,
   "outputs": [],
   "source": [
    "from sklearn.model_selection import train_test_split"
   ],
   "metadata": {
    "collapsed": false,
    "pycharm": {
     "name": "#%%\n"
    }
   }
  },
  {
   "cell_type": "code",
   "execution_count": 5,
   "outputs": [],
   "source": [
    "from sklearn.linear_model import LinearRegression"
   ],
   "metadata": {
    "collapsed": false,
    "pycharm": {
     "name": "#%%\n"
    }
   }
  },
  {
   "cell_type": "code",
   "execution_count": 41,
   "outputs": [],
   "source": [
    "def test_model(model_cls, x, y, splitter=train_test_split):\n",
    "    x_train, x_test, y_train, y_test = splitter(x, y)\n",
    "    model = model_cls()\n",
    "    model.fit(x_train, y_train)\n",
    "    y_bar_test = model.predict(x_test)\n",
    "    plt.figure(figsize=(5, 5))\n",
    "    plt.scatter(y_bar_test, y_test)\n",
    "    plt.xlabel(\"prediction\")\n",
    "    plt.ylabel(\"actual\")\n",
    "    plt.show()\n",
    "    print(f\"Score: {model.score(x_test, y_test)}\")\n"
   ],
   "metadata": {
    "collapsed": false,
    "pycharm": {
     "name": "#%%\n"
    }
   }
  },
  {
   "cell_type": "code",
   "execution_count": 50,
   "outputs": [
    {
     "data": {
      "text/plain": "<Figure size 360x360 with 1 Axes>",
      "image/png": "[encoded data removed]"
     },
     "metadata": {
      "needs_background": "light"
     },
     "output_type": "display_data"
    },
    {
     "name": "stdout",
     "output_type": "stream",
     "text": [
      "Score: 0.5176307177557224\n"
     ]
    }
   ],
   "source": [
    "test_model(LinearRegression, X, Y)"
   ],
   "metadata": {
    "collapsed": false,
    "pycharm": {
     "name": "#%%\n"
    }
   }
  },
  {
   "cell_type": "code",
   "execution_count": 39,
   "outputs": [],
   "source": [
    "from sklearn.linear_model import Lasso"
   ],
   "metadata": {
    "collapsed": false,
    "pycharm": {
     "name": "#%%\n"
    }
   }
  },
  {
   "cell_type": "code",
   "execution_count": 51,
   "outputs": [
    {
     "data": {
      "text/plain": "<Figure size 360x360 with 1 Axes>",
      "image/png": "[encoded data removed]"
     },
     "metadata": {
      "needs_background": "light"
     },
     "output_type": "display_data"
    },
    {
     "name": "stdout",
     "output_type": "stream",
     "text": [
      "Score: 0.7698563925292551\n"
     ]
    }
   ],
   "source": [
    "test_model(Lasso, X, Y)"
   ],
   "metadata": {
    "collapsed": false,
    "pycharm": {
     "name": "#%%\n"
    }
   }
  },
  {
   "cell_type": "code",
   "execution_count": 52,
   "outputs": [],
   "source": [
    "from sklearn.linear_model import Ridge"
   ],
   "metadata": {
    "collapsed": false,
    "pycharm": {
     "name": "#%%\n"
    }
   }
  },
  {
   "cell_type": "code",
   "execution_count": 54,
   "outputs": [
    {
     "data": {
      "text/plain": "<Figure size 360x360 with 1 Axes>",
      "image/png": "[encoded data removed]"
     },
     "metadata": {
      "needs_background": "light"
     },
     "output_type": "display_data"
    },
    {
     "name": "stdout",
     "output_type": "stream",
     "text": [
      "Score: 0.6500357455442427\n"
     ]
    }
   ],
   "source": [
    "test_model(Ridge, X, Y)"
   ],
   "metadata": {
    "collapsed": false,
    "pycharm": {
     "name": "#%%\n"
    }
   }
  },
  {
   "cell_type": "code",
   "execution_count": 55,
   "outputs": [],
   "source": [
    "from sklearn.neighbors import KNeighborsRegressor"
   ],
   "metadata": {
    "collapsed": false,
    "pycharm": {
     "name": "#%%\n"
    }
   }
  },
  {
   "cell_type": "code",
   "execution_count": 59,
   "outputs": [
    {
     "data": {
      "text/plain": "<Figure size 360x360 with 1 Axes>",
      "image/png": "[encoded data removed]"
     },
     "metadata": {
      "needs_background": "light"
     },
     "output_type": "display_data"
    },
    {
     "name": "stdout",
     "output_type": "stream",
     "text": [
      "Score: 0.8770850399629179\n"
     ]
    }
   ],
   "source": [
    "test_model(lambda: KNeighborsRegressor(3), X, Y)"
   ],
   "metadata": {
    "collapsed": false,
    "pycharm": {
     "name": "#%%\n"
    }
   }
  },
  {
   "cell_type": "code",
   "execution_count": 61,
   "outputs": [],
   "source": [
    "from sklearn.svm import SVR"
   ],
   "metadata": {
    "collapsed": false,
    "pycharm": {
     "name": "#%%\n"
    }
   }
  },
  {
   "cell_type": "code",
   "execution_count": 80,
   "outputs": [
    {
     "data": {
      "text/plain": "<Figure size 360x360 with 1 Axes>",
      "image/png": "[encoded data removed]"
     },
     "metadata": {
      "needs_background": "light"
     },
     "output_type": "display_data"
    },
    {
     "name": "stdout",
     "output_type": "stream",
     "text": [
      "Score: 0.6214861881153406\n"
     ]
    }
   ],
   "source": [
    "test_model(lambda: SVR(kernel=\"rbf\", C=100, gamma=0.1), X / X.max(), Y / Y.max())"
   ],
   "metadata": {
    "collapsed": false,
    "pycharm": {
     "name": "#%%\n"
    }
   }
  },
  {
   "cell_type": "code",
   "execution_count": null,
   "outputs": [],
   "source": [],
   "metadata": {
    "collapsed": false,
    "pycharm": {
     "name": "#%%\n"
    }
   }
  }
 ],
 "metadata": {
  "kernelspec": {
   "display_name": "Python 3",
   "language": "python",
   "name": "python3"
  },
  "language_info": {
   "codemirror_mode": {
    "name": "ipython",
    "version": 2
   },
   "file_extension": ".py",
   "mimetype": "text/x-python",
   "name": "python",
   "nbconvert_exporter": "python",
   "pygments_lexer": "ipython2",
   "version": "2.7.6"
  }
 },
 "nbformat": 4,
 "nbformat_minor": 0
}