{
 "cells": [
  {
   "cell_type": "markdown",
   "source": [
    "# 第12回課題\n",
    "\n",
    "* 最終課題と同時に提出させていただいています\n"
   ],
   "metadata": {
    "collapsed": false
   }
  },
  {
   "cell_type": "code",
   "execution_count": 1,
   "metadata": {
    "collapsed": true
   },
   "outputs": [],
   "source": [
    "import numpy as np\n",
    "import pandas as pd\n",
    "import matplotlib.pyplot as plt"
   ]
  },
  {
   "cell_type": "code",
   "execution_count": 2,
   "outputs": [
    {
     "data": {
      "text/plain": "     symboling normalized-losses         make fuel-type aspiration  \\\n0            3                 ?  alfa-romero       gas        std   \n1            3                 ?  alfa-romero       gas        std   \n2            1                 ?  alfa-romero       gas        std   \n3            2               164         audi       gas        std   \n4            2               164         audi       gas        std   \n..         ...               ...          ...       ...        ...   \n190         -1                95        volvo       gas        std   \n191         -1                95        volvo       gas      turbo   \n192         -1                95        volvo       gas        std   \n193         -1                95        volvo    diesel      turbo   \n194         -1                95        volvo       gas      turbo   \n\n    num-of-doors   body-style drive-wheels engine-location engine-type  ...  \\\n0            two  convertible          rwd           front        dohc  ...   \n1            two  convertible          rwd           front        dohc  ...   \n2            two    hatchback          rwd           front        ohcv  ...   \n3           four        sedan          fwd           front         ohc  ...   \n4           four        sedan          4wd           front         ohc  ...   \n..           ...          ...          ...             ...         ...  ...   \n190         four        sedan          rwd           front         ohc  ...   \n191         four        sedan          rwd           front         ohc  ...   \n192         four        sedan          rwd           front        ohcv  ...   \n193         four        sedan          rwd           front         ohc  ...   \n194         four        sedan          rwd           front         ohc  ...   \n\n    curb-weight engine-size  bore  stroke  compression-ratio  horsepower  \\\n0          2548         130  3.47    2.68                9.0         111   \n1          2548         130  3.47    2.68                9.0         111   \n2          2823         152  2.68    3.47                9.0         154   \n3          2337         109  3.19    3.40               10.0         102   \n4          2824         136  3.19    3.40                8.0         115   \n..          ...         ...   ...     ...                ...         ...   \n190        2952         141  3.78    3.15                9.5         114   \n191        3049         141  3.78    3.15                8.7         160   \n192        3012         173  3.58    2.87                8.8         134   \n193        3217         145  3.01    3.40               23.0         106   \n194        3062         141  3.78    3.15                9.5         114   \n\n     peak-rpm  city-mpg  highway-mpg  price  \n0        5000        21           27  13495  \n1        5000        21           27  16500  \n2        5000        19           26  16500  \n3        5500        24           30  13950  \n4        5500        18           22  17450  \n..        ...       ...          ...    ...  \n190      5400        23           28  16845  \n191      5300        19           25  19045  \n192      5500        18           23  21485  \n193      4800        26           27  22470  \n194      5400        19           25  22625  \n\n[195 rows x 26 columns]",
      "text/html": "<div>\n<style scoped>\n    .dataframe tbody tr th:only-of-type {\n        vertical-align: middle;\n    }\n\n    .dataframe tbody tr th {\n        vertical-align: top;\n    }\n\n    .dataframe thead th {\n        text-align: right;\n    }\n</style>\n<table border=\"1\" class=\"dataframe\">\n  <thead>\n    <tr style=\"text-align: right;\">\n      <th></th>\n      <th>symboling</th>\n      <th>normalized-losses</th>\n      <th>make</th>\n      <th>fuel-type</th>\n      <th>aspiration</th>\n      <th>num-of-doors</th>\n      <th>body-style</th>\n      <th>drive-wheels</th>\n      <th>engine-location</th>\n      <th>engine-type</th>\n      <th>...</th>\n      <th>curb-weight</th>\n      <th>engine-size</th>\n      <th>bore</th>\n      <th>stroke</th>\n      <th>compression-ratio</th>\n      <th>horsepower</th>\n      <th>peak-rpm</th>\n      <th>city-mpg</th>\n      <th>highway-mpg</th>\n      <th>price</th>\n    </tr>\n  </thead>\n  <tbody>\n    <tr>\n      <th>0</th>\n      <td>3</td>\n      <td>?</td>\n      <td>alfa-romero</td>\n      <td>gas</td>\n      <td>std</td>\n      <td>two</td>\n      <td>convertible</td>\n      <td>rwd</td>\n      <td>front</td>\n      <td>dohc</td>\n      <td>...</td>\n      <td>2548</td>\n      <td>130</td>\n      <td>3.47</td>\n      <td>2.68</td>\n      <td>9.0</td>\n      <td>111</td>\n      <td>5000</td>\n      <td>21</td>\n      <td>27</td>\n      <td>13495</td>\n    </tr>\n    <tr>\n      <th>1</th>\n      <td>3</td>\n      <td>?</td>\n      <td>alfa-romero</td>\n      <td>gas</td>\n      <td>std</td>\n      <td>two</td>\n      <td>convertible</td>\n      <td>rwd</td>\n      <td>front</td>\n      <td>dohc</td>\n      <td>...</td>\n      <td>2548</td>\n      <td>130</td>\n      <td>3.47</td>\n      <td>2.68</td>\n      <td>9.0</td>\n      <td>111</td>\n      <td>5000</td>\n      <td>21</td>\n      <td>27</td>\n      <td>16500</td>\n    </tr>\n    <tr>\n      <th>2</th>\n      <td>1</td>\n      <td>?</td>\n      <td>alfa-romero</td>\n      <td>gas</td>\n      <td>std</td>\n      <td>two</td>\n      <td>hatchback</td>\n      <td>rwd</td>\n      <td>front</td>\n      <td>ohcv</td>\n      <td>...</td>\n      <td>2823</td>\n      <td>152</td>\n      <td>2.68</td>\n      <td>3.47</td>\n      <td>9.0</td>\n      <td>154</td>\n      <td>5000</td>\n      <td>19</td>\n      <td>26</td>\n      <td>16500</td>\n    </tr>\n    <tr>\n      <th>3</th>\n      <td>2</td>\n      <td>164</td>\n      <td>audi</td>\n      <td>gas</td>\n      <td>std</td>\n      <td>four</td>\n      <td>sedan</td>\n      <td>fwd</td>\n      <td>front</td>\n      <td>ohc</td>\n      <td>...</td>\n      <td>2337</td>\n      <td>109</td>\n      <td>3.19</td>\n      <td>3.40</td>\n      <td>10.0</td>\n      <td>102</td>\n      <td>5500</td>\n      <td>24</td>\n      <td>30</td>\n      <td>13950</td>\n    </tr>\n    <tr>\n      <th>4</th>\n      <td>2</td>\n      <td>164</td>\n      <td>audi</td>\n      <td>gas</td>\n      <td>std</td>\n      <td>four</td>\n      <td>sedan</td>\n      <td>4wd</td>\n      <td>front</td>\n      <td>ohc</td>\n      <td>...</td>\n      <td>2824</td>\n      <td>136</td>\n      <td>3.19</td>\n      <td>3.40</td>\n      <td>8.0</td>\n      <td>115</td>\n      <td>5500</td>\n      <td>18</td>\n      <td>22</td>\n      <td>17450</td>\n    </tr>\n    <tr>\n      <th>...</th>\n      <td>...</td>\n      <td>...</td>\n      <td>...</td>\n      <td>...</td>\n      <td>...</td>\n      <td>...</td>\n      <td>...</td>\n      <td>...</td>\n      <td>...</td>\n      <td>...</td>\n      <td>...</td>\n      <td>...</td>\n      <td>...</td>\n      <td>...</td>\n      <td>...</td>\n      <td>...</td>\n      <td>...</td>\n      <td>...</td>\n      <td>...</td>\n      <td>...</td>\n      <td>...</td>\n    </tr>\n    <tr>\n      <th>190</th>\n      <td>-1</td>\n      <td>95</td>\n      <td>volvo</td>\n      <td>gas</td>\n      <td>std</td>\n      <td>four</td>\n      <td>sedan</td>\n      <td>rwd</td>\n      <td>front</td>\n      <td>ohc</td>\n      <td>...</td>\n      <td>2952</td>\n      <td>141</td>\n      <td>3.78</td>\n      <td>3.15</td>\n      <td>9.5</td>\n      <td>114</td>\n      <td>5400</td>\n      <td>23</td>\n      <td>28</td>\n      <td>16845</td>\n    </tr>\n    <tr>\n      <th>191</th>\n      <td>-1</td>\n      <td>95</td>\n      <td>volvo</td>\n      <td>gas</td>\n      <td>turbo</td>\n      <td>four</td>\n      <td>sedan</td>\n      <td>rwd</td>\n      <td>front</td>\n      <td>ohc</td>\n      <td>...</td>\n      <td>3049</td>\n      <td>141</td>\n      <td>3.78</td>\n      <td>3.15</td>\n      <td>8.7</td>\n      <td>160</td>\n      <td>5300</td>\n      <td>19</td>\n      <td>25</td>\n      <td>19045</td>\n    </tr>\n    <tr>\n      <th>192</th>\n      <td>-1</td>\n      <td>95</td>\n      <td>volvo</td>\n      <td>gas</td>\n      <td>std</td>\n      <td>four</td>\n      <td>sedan</td>\n      <td>rwd</td>\n      <td>front</td>\n      <td>ohcv</td>\n      <td>...</td>\n      <td>3012</td>\n      <td>173</td>\n      <td>3.58</td>\n      <td>2.87</td>\n      <td>8.8</td>\n      <td>134</td>\n      <td>5500</td>\n      <td>18</td>\n      <td>23</td>\n      <td>21485</td>\n    </tr>\n    <tr>\n      <th>193</th>\n      <td>-1</td>\n      <td>95</td>\n      <td>volvo</td>\n      <td>diesel</td>\n      <td>turbo</td>\n      <td>four</td>\n      <td>sedan</td>\n      <td>rwd</td>\n      <td>front</td>\n      <td>ohc</td>\n      <td>...</td>\n      <td>3217</td>\n      <td>145</td>\n      <td>3.01</td>\n      <td>3.40</td>\n      <td>23.0</td>\n      <td>106</td>\n      <td>4800</td>\n      <td>26</td>\n      <td>27</td>\n      <td>22470</td>\n    </tr>\n    <tr>\n      <th>194</th>\n      <td>-1</td>\n      <td>95</td>\n      <td>volvo</td>\n      <td>gas</td>\n      <td>turbo</td>\n      <td>four</td>\n      <td>sedan</td>\n      <td>rwd</td>\n      <td>front</td>\n      <td>ohc</td>\n      <td>...</td>\n      <td>3062</td>\n      <td>141</td>\n      <td>3.78</td>\n      <td>3.15</td>\n      <td>9.5</td>\n      <td>114</td>\n      <td>5400</td>\n      <td>19</td>\n      <td>25</td>\n      <td>22625</td>\n    </tr>\n  </tbody>\n</table>\n<p>195 rows × 26 columns</p>\n</div>"
     },
     "execution_count": 2,
     "metadata": {},
     "output_type": "execute_result"
    }
   ],
   "source": [
    "df = pd.read_csv(\"./imports-85.csv\")\n",
    "df"
   ],
   "metadata": {
    "collapsed": false,
    "pycharm": {
     "name": "#%%\n"
    }
   }
  },
  {
   "cell_type": "code",
   "execution_count": 3,
   "outputs": [],
   "source": [
    "Y = df[\"price\"]\n",
    "X = df.iloc[:, 12:25]"
   ],
   "metadata": {
    "collapsed": false,
    "pycharm": {
     "name": "#%%\n"
    }
   }
  },
  {
   "cell_type": "code",
   "execution_count": 4,
   "outputs": [
    {
     "data": {
      "text/plain": "     wheel-base  length  width  height  curb-weight  engine-size  bore  \\\n0          88.6   168.8   64.1    48.8         2548          130  3.47   \n1          88.6   168.8   64.1    48.8         2548          130  3.47   \n2          94.5   171.2   65.5    52.4         2823          152  2.68   \n3          99.8   176.6   66.2    54.3         2337          109  3.19   \n4          99.4   176.6   66.4    54.3         2824          136  3.19   \n..          ...     ...    ...     ...          ...          ...   ...   \n190       109.1   188.8   68.9    55.5         2952          141  3.78   \n191       109.1   188.8   68.8    55.5         3049          141  3.78   \n192       109.1   188.8   68.9    55.5         3012          173  3.58   \n193       109.1   188.8   68.9    55.5         3217          145  3.01   \n194       109.1   188.8   68.9    55.5         3062          141  3.78   \n\n     stroke  compression-ratio  horsepower  peak-rpm  city-mpg  highway-mpg  \n0      2.68                9.0         111      5000        21           27  \n1      2.68                9.0         111      5000        21           27  \n2      3.47                9.0         154      5000        19           26  \n3      3.40               10.0         102      5500        24           30  \n4      3.40                8.0         115      5500        18           22  \n..      ...                ...         ...       ...       ...          ...  \n190    3.15                9.5         114      5400        23           28  \n191    3.15                8.7         160      5300        19           25  \n192    2.87                8.8         134      5500        18           23  \n193    3.40               23.0         106      4800        26           27  \n194    3.15                9.5         114      5400        19           25  \n\n[195 rows x 13 columns]",
      "text/html": "<div>\n<style scoped>\n    .dataframe tbody tr th:only-of-type {\n        vertical-align: middle;\n    }\n\n    .dataframe tbody tr th {\n        vertical-align: top;\n    }\n\n    .dataframe thead th {\n        text-align: right;\n    }\n</style>\n<table border=\"1\" class=\"dataframe\">\n  <thead>\n    <tr style=\"text-align: right;\">\n      <th></th>\n      <th>wheel-base</th>\n      <th>length</th>\n      <th>width</th>\n      <th>height</th>\n      <th>curb-weight</th>\n      <th>engine-size</th>\n      <th>bore</th>\n      <th>stroke</th>\n      <th>compression-ratio</th>\n      <th>horsepower</th>\n      <th>peak-rpm</th>\n      <th>city-mpg</th>\n      <th>highway-mpg</th>\n    </tr>\n  </thead>\n  <tbody>\n    <tr>\n      <th>0</th>\n      <td>88.6</td>\n      <td>168.8</td>\n      <td>64.1</td>\n      <td>48.8</td>\n      <td>2548</td>\n      <td>130</td>\n      <td>3.47</td>\n      <td>2.68</td>\n      <td>9.0</td>\n      <td>111</td>\n      <td>5000</td>\n      <td>21</td>\n      <td>27</td>\n    </tr>\n    <tr>\n      <th>1</th>\n      <td>88.6</td>\n      <td>168.8</td>\n      <td>64.1</td>\n      <td>48.8</td>\n      <td>2548</td>\n      <td>130</td>\n      <td>3.47</td>\n      <td>2.68</td>\n      <td>9.0</td>\n      <td>111</td>\n      <td>5000</td>\n      <td>21</td>\n      <td>27</td>\n    </tr>\n    <tr>\n      <th>2</th>\n      <td>94.5</td>\n      <td>171.2</td>\n      <td>65.5</td>\n      <td>52.4</td>\n      <td>2823</td>\n      <td>152</td>\n      <td>2.68</td>\n      <td>3.47</td>\n      <td>9.0</td>\n      <td>154</td>\n      <td>5000</td>\n      <td>19</td>\n      <td>26</td>\n    </tr>\n    <tr>\n      <th>3</th>\n      <td>99.8</td>\n      <td>176.6</td>\n      <td>66.2</td>\n      <td>54.3</td>\n      <td>2337</td>\n      <td>109</td>\n      <td>3.19</td>\n      <td>3.40</td>\n      <td>10.0</td>\n      <td>102</td>\n      <td>5500</td>\n      <td>24</td>\n      <td>30</td>\n    </tr>\n    <tr>\n      <th>4</th>\n      <td>99.4</td>\n      <td>176.6</td>\n      <td>66.4</td>\n      <td>54.3</td>\n      <td>2824</td>\n      <td>136</td>\n      <td>3.19</td>\n      <td>3.40</td>\n      <td>8.0</td>\n      <td>115</td>\n      <td>5500</td>\n      <td>18</td>\n      <td>22</td>\n    </tr>\n    <tr>\n      <th>...</th>\n      <td>...</td>\n      <td>...</td>\n      <td>...</td>\n      <td>...</td>\n      <td>...</td>\n      <td>...</td>\n      <td>...</td>\n      <td>...</td>\n      <td>...</td>\n      <td>...</td>\n      <td>...</td>\n      <td>...</td>\n      <td>...</td>\n    </tr>\n    <tr>\n      <th>190</th>\n      <td>109.1</td>\n      <td>188.8</td>\n      <td>68.9</td>\n      <td>55.5</td>\n      <td>2952</td>\n      <td>141</td>\n      <td>3.78</td>\n      <td>3.15</td>\n      <td>9.5</td>\n      <td>114</td>\n      <td>5400</td>\n      <td>23</td>\n      <td>28</td>\n    </tr>\n    <tr>\n      <th>191</th>\n      <td>109.1</td>\n      <td>188.8</td>\n      <td>68.8</td>\n      <td>55.5</td>\n      <td>3049</td>\n      <td>141</td>\n      <td>3.78</td>\n      <td>3.15</td>\n      <td>8.7</td>\n      <td>160</td>\n      <td>5300</td>\n      <td>19</td>\n      <td>25</td>\n    </tr>\n    <tr>\n      <th>192</th>\n      <td>109.1</td>\n      <td>188.8</td>\n      <td>68.9</td>\n      <td>55.5</td>\n      <td>3012</td>\n      <td>173</td>\n      <td>3.58</td>\n      <td>2.87</td>\n      <td>8.8</td>\n      <td>134</td>\n      <td>5500</td>\n      <td>18</td>\n      <td>23</td>\n    </tr>\n    <tr>\n      <th>193</th>\n      <td>109.1</td>\n      <td>188.8</td>\n      <td>68.9</td>\n      <td>55.5</td>\n      <td>3217</td>\n      <td>145</td>\n      <td>3.01</td>\n      <td>3.40</td>\n      <td>23.0</td>\n      <td>106</td>\n      <td>4800</td>\n      <td>26</td>\n      <td>27</td>\n    </tr>\n    <tr>\n      <th>194</th>\n      <td>109.1</td>\n      <td>188.8</td>\n      <td>68.9</td>\n      <td>55.5</td>\n      <td>3062</td>\n      <td>141</td>\n      <td>3.78</td>\n      <td>3.15</td>\n      <td>9.5</td>\n      <td>114</td>\n      <td>5400</td>\n      <td>19</td>\n      <td>25</td>\n    </tr>\n  </tbody>\n</table>\n<p>195 rows × 13 columns</p>\n</div>"
     },
     "execution_count": 4,
     "metadata": {},
     "output_type": "execute_result"
    }
   ],
   "source": [
    "X"
   ],
   "metadata": {
    "collapsed": false,
    "pycharm": {
     "name": "#%%\n"
    }
   }
  },
  {
   "cell_type": "code",
   "execution_count": 5,
   "outputs": [],
   "source": [
    "import seaborn as sns"
   ],
   "metadata": {
    "collapsed": false,
    "pycharm": {
     "name": "#%%\n"
    }
   }
  },
  {
   "cell_type": "code",
   "execution_count": 6,
   "outputs": [
    {
     "data": {
      "text/plain": "<AxesSubplot:>"
     },
     "execution_count": 6,
     "metadata": {},
     "output_type": "execute_result"
    },
    {
     "data": {
      "text/plain": "<Figure size 432x288 with 2 Axes>",
      "image/png": "[encoded data removed]"
     },
     "metadata": {
      "needs_background": "light"
     },
     "output_type": "display_data"
    }
   ],
   "source": [
    "sns.heatmap(X.corr())"
   ],
   "metadata": {
    "collapsed": false,
    "pycharm": {
     "name": "#%%\n"
    }
   }
  },
  {
   "cell_type": "code",
   "execution_count": 7,
   "outputs": [],
   "source": [
    "X = X.drop([\"wheel-base\", \"width\", \"curb-weight\", \"highway-mpg\"], axis=1)"
   ],
   "metadata": {
    "collapsed": false,
    "pycharm": {
     "name": "#%%\n"
    }
   }
  },
  {
   "cell_type": "code",
   "execution_count": 8,
   "outputs": [],
   "source": [
    "from sklearn.linear_model import LinearRegression, Lasso, Ridge\n",
    "from sklearn.neighbors import KNeighborsRegressor\n",
    "from sklearn.svm import SVR"
   ],
   "metadata": {
    "collapsed": false,
    "pycharm": {
     "name": "#%%\n"
    }
   }
  },
  {
   "cell_type": "code",
   "execution_count": 9,
   "outputs": [],
   "source": [
    "models = [\n",
    "    (\"LinearRegression\", LinearRegression, {}, {}),\n",
    "    (\"Lasso\", Lasso, {}, {}),\n",
    "    (\"Ridge\", Ridge, {}, {}),\n",
    "    (\"KNeighborsRegressor\", KNeighborsRegressor, {\"n_neighbors\": 5}, {}),\n",
    "    (\"KNeighborsRegressor\", KNeighborsRegressor, {\"n_neighbors\": 3}, {}),\n",
    "    (\"SVR(rbf)\", lambda **kwargs: SVR(kernel=\"rbf\", **kwargs), {\"C\": 100, \"gamma\": 0.1}, {\"normalize\": True}),\n",
    "    (\"SVR(rbf)\", lambda **kwargs: SVR(kernel=\"rbf\", **kwargs), {\"C\": 200, \"gamma\": 0.1}, {\"normalize\": True}),\n",
    "    (\"SVR(rbf)\", lambda **kwargs: SVR(kernel=\"rbf\", **kwargs), {\"C\": 100, \"gamma\": 0.2}, {\"normalize\": True}),\n",
    "    (\"SVR(rbf)\", lambda **kwargs: SVR(kernel=\"rbf\", **kwargs), {\"C\": 200, \"gamma\": 0.2}, {\"normalize\": True}),\n",
    "]"
   ],
   "metadata": {
    "collapsed": false,
    "pycharm": {
     "name": "#%%\n"
    }
   }
  },
  {
   "cell_type": "code",
   "execution_count": 10,
   "outputs": [],
   "source": [
    "from sklearn.model_selection import train_test_split"
   ],
   "metadata": {
    "collapsed": false,
    "pycharm": {
     "name": "#%%\n"
    }
   }
  },
  {
   "cell_type": "code",
   "execution_count": 11,
   "outputs": [],
   "source": [
    "def evaluate_model(model_cls, hyper_params, x, y, iteration=100, normalize=False):\n",
    "    scores = []\n",
    "    for _ in range(iteration):\n",
    "        _model = model_cls(**hyper_params)\n",
    "        x_train, x_test, y_train, y_test = train_test_split(x, y)\n",
    "        if normalize:\n",
    "            x_train, x_test = map(lambda _x: _x / x_train.max(), (x_train, x_test))\n",
    "            y_train, y_test = map(lambda _y: _y / y_train.max(), (y_train, y_test))\n",
    "        _model.fit(x_train, y_train)\n",
    "        scores.append(_model.score(x_test, y_test))\n",
    "    return np.average(scores)"
   ],
   "metadata": {
    "collapsed": false,
    "pycharm": {
     "name": "#%%\n"
    }
   }
  },
  {
   "cell_type": "code",
   "execution_count": 12,
   "outputs": [
    {
     "name": "stdout",
     "output_type": "stream",
     "text": [
      "LinearRegression({}): 0.7944426395651112\n",
      "Lasso({}): 0.8028237170166405\n",
      "Ridge({}): 0.7854572594184798\n",
      "KNeighborsRegressor({'n_neighbors': 5}): 0.5361873725852487\n",
      "KNeighborsRegressor({'n_neighbors': 3}): 0.7669505784754982\n",
      "SVR(rbf)({'C': 100, 'gamma': 0.1}): 0.7662858896153767\n",
      "SVR(rbf)({'C': 200, 'gamma': 0.1}): 0.7362029932111579\n",
      "SVR(rbf)({'C': 100, 'gamma': 0.2}): 0.7540662069865097\n",
      "SVR(rbf)({'C': 200, 'gamma': 0.2}): 0.7574012904966578\n"
     ]
    }
   ],
   "source": [
    "for name, cls, params, evaluation_params in models:\n",
    "    score = evaluate_model(cls, params, X, Y, **evaluation_params)\n",
    "    print(f\"{name}({params}): {score}\")"
   ],
   "metadata": {
    "collapsed": false,
    "pycharm": {
     "name": "#%%\n"
    }
   }
  },
  {
   "cell_type": "code",
   "execution_count": 13,
   "outputs": [
    {
     "data": {
      "text/plain": "LinearRegression()"
     },
     "execution_count": 13,
     "metadata": {},
     "output_type": "execute_result"
    }
   ],
   "source": [
    "model = LinearRegression()\n",
    "X_train, X_test, Y_train, Y_test = train_test_split(X, Y)\n",
    "model.fit(X_train, Y_train)"
   ],
   "metadata": {
    "collapsed": false,
    "pycharm": {
     "name": "#%%\n"
    }
   }
  },
  {
   "cell_type": "code",
   "execution_count": 14,
   "outputs": [
    {
     "name": "stdout",
     "output_type": "stream",
     "text": [
      "回帰式の係数: [  -12.81364017   438.4804783    134.93569871   492.5889945\n",
      " -2128.95275039   306.23806053    44.11144979     2.18401942\n",
      "   -28.47161588]\n",
      "回帰式の定数項: -38439.816614579184\n"
     ]
    }
   ],
   "source": [
    "print(f\"回帰式の係数: {model.coef_}\")\n",
    "print(f\"回帰式の定数項: {model.intercept_}\")"
   ],
   "metadata": {
    "collapsed": false,
    "pycharm": {
     "name": "#%%\n"
    }
   }
  },
  {
   "cell_type": "code",
   "execution_count": 15,
   "outputs": [
    {
     "name": "stdout",
     "output_type": "stream",
     "text": [
      "学習用データでのスコア: 0.8625298533185919\n",
      "テスト用データでのスコア: 0.7770459659751928\n"
     ]
    }
   ],
   "source": [
    "print(f\"学習用データでのスコア: {model.score(X_train, Y_train)}\")\n",
    "print(f\"テスト用データでのスコア: {model.score(X_test, Y_test)}\")"
   ],
   "metadata": {
    "collapsed": false,
    "pycharm": {
     "name": "#%%\n"
    }
   }
  },
  {
   "cell_type": "code",
   "execution_count": 16,
   "outputs": [
    {
     "data": {
      "text/plain": "<Figure size 432x288 with 1 Axes>",
      "image/png": "[encoded data removed]"
     },
     "metadata": {
      "needs_background": "light"
     },
     "output_type": "display_data"
    }
   ],
   "source": [
    "Y_bar = model.predict(X)\n",
    "\n",
    "plt.scatter(Y_bar, Y)\n",
    "plt.xlabel(\"prediction\")\n",
    "plt.ylabel(\"actual\")\n",
    "plt.show()"
   ],
   "metadata": {
    "collapsed": false,
    "pycharm": {
     "name": "#%%\n"
    }
   }
  }
 ],
 "metadata": {
  "kernelspec": {
   "display_name": "Python 3",
   "language": "python",
   "name": "python3"
  },
  "language_info": {
   "codemirror_mode": {
    "name": "ipython",
    "version": 2
   },
   "file_extension": ".py",
   "mimetype": "text/x-python",
   "name": "python",
   "nbconvert_exporter": "python",
   "pygments_lexer": "ipython2",
   "version": "2.7.6"
  }
 },
 "nbformat": 4,
 "nbformat_minor": 0
}