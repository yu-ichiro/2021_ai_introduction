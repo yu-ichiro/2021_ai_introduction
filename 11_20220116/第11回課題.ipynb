{
 "cells": [
  {
   "cell_type": "markdown",
   "source": [
    "# 第11回課題\n",
    "\n",
    "* 最終課題と同時に提出させていただいています"
   ],
   "metadata": {
    "collapsed": false
   }
  },
  {
   "cell_type": "code",
   "execution_count": 1,
   "metadata": {
    "collapsed": true
   },
   "outputs": [],
   "source": [
    "import numpy as np\n",
    "import pandas as pd\n",
    "import matplotlib.pyplot as plt\n",
    "from sklearn.linear_model import LinearRegression"
   ]
  },
  {
   "cell_type": "code",
   "execution_count": 2,
   "outputs": [],
   "source": [
    "df = pd.read_csv(\"https://raw.githubusercontent.com/Gessys/math/main/data/estate.csv\")"
   ],
   "metadata": {
    "collapsed": false,
    "pycharm": {
     "name": "#%%\n"
    }
   }
  },
  {
   "cell_type": "markdown",
   "source": [
    "# 練習33"
   ],
   "metadata": {
    "collapsed": false
   }
  },
  {
   "cell_type": "code",
   "execution_count": 3,
   "outputs": [],
   "source": [
    "X = df[[\"面積\"]]\n",
    "Y = df[[\"家賃\"]]"
   ],
   "metadata": {
    "collapsed": false,
    "pycharm": {
     "name": "#%%\n"
    }
   }
  },
  {
   "cell_type": "code",
   "execution_count": 4,
   "outputs": [
    {
     "data": {
      "text/plain": "LinearRegression()"
     },
     "execution_count": 4,
     "metadata": {},
     "output_type": "execute_result"
    }
   ],
   "source": [
    "model = LinearRegression()\n",
    "model.fit(X, Y)"
   ],
   "metadata": {
    "collapsed": false,
    "pycharm": {
     "name": "#%%\n"
    }
   }
  },
  {
   "cell_type": "code",
   "execution_count": 5,
   "outputs": [
    {
     "data": {
      "text/plain": "<Figure size 432x288 with 1 Axes>",
      "image/png": "[encoded data removed]"
     },
     "metadata": {
      "needs_background": "light"
     },
     "output_type": "display_data"
    }
   ],
   "source": [
    "plt.scatter(\n",
    "    X,\n",
    "    Y,\n",
    ")\n",
    "x = pd.DataFrame(np.arange(10, 70), columns=[\"面積\"])\n",
    "plt.plot(x, model.predict(x), color=\"red\", linestyle=\"dotted\")\n",
    "\n",
    "plt.xlabel(\"area\")\n",
    "plt.ylabel(\"rent\")\n",
    "plt.show()"
   ],
   "metadata": {
    "collapsed": false,
    "pycharm": {
     "name": "#%%\n"
    }
   }
  },
  {
   "cell_type": "markdown",
   "source": [
    "# 練習34"
   ],
   "metadata": {
    "collapsed": false
   }
  },
  {
   "cell_type": "code",
   "execution_count": 6,
   "outputs": [],
   "source": [
    "from sklearn.preprocessing import StandardScaler"
   ],
   "metadata": {
    "collapsed": false,
    "pycharm": {
     "name": "#%%\n"
    }
   }
  },
  {
   "cell_type": "code",
   "execution_count": 7,
   "outputs": [],
   "source": [
    "X = df[[\"駅歩\", \"築\", \"面積\"]]\n",
    "Y = df[[\"家賃\"]]"
   ],
   "metadata": {
    "collapsed": false,
    "pycharm": {
     "name": "#%%\n"
    }
   }
  },
  {
   "cell_type": "code",
   "execution_count": 8,
   "outputs": [
    {
     "data": {
      "text/plain": "LinearRegression()"
     },
     "execution_count": 8,
     "metadata": {},
     "output_type": "execute_result"
    }
   ],
   "source": [
    "model = LinearRegression()\n",
    "model.fit(X, Y)"
   ],
   "metadata": {
    "collapsed": false,
    "pycharm": {
     "name": "#%%\n"
    }
   }
  },
  {
   "cell_type": "code",
   "execution_count": 9,
   "outputs": [
    {
     "name": "stdout",
     "output_type": "stream",
     "text": [
      "[[-0.0343359  -0.08611244  0.27623702]]\n",
      "[3.04207433]\n",
      "0.9081522016901077\n"
     ]
    }
   ],
   "source": [
    "print(model.coef_)\n",
    "print(model.intercept_)\n",
    "print(model.score(X, Y))"
   ],
   "metadata": {
    "collapsed": false,
    "pycharm": {
     "name": "#%%\n"
    }
   }
  },
  {
   "cell_type": "code",
   "execution_count": 10,
   "outputs": [
    {
     "data": {
      "text/plain": "StandardScaler()"
     },
     "execution_count": 10,
     "metadata": {},
     "output_type": "execute_result"
    }
   ],
   "source": [
    "sc = StandardScaler()\n",
    "sc.fit(X)"
   ],
   "metadata": {
    "collapsed": false,
    "pycharm": {
     "name": "#%%\n"
    }
   }
  },
  {
   "cell_type": "code",
   "execution_count": 11,
   "outputs": [
    {
     "data": {
      "text/plain": "LinearRegression()"
     },
     "execution_count": 11,
     "metadata": {},
     "output_type": "execute_result"
    }
   ],
   "source": [
    "model = LinearRegression()\n",
    "model.fit(sc.transform(X), Y)"
   ],
   "metadata": {
    "collapsed": false,
    "pycharm": {
     "name": "#%%\n"
    }
   }
  },
  {
   "cell_type": "code",
   "execution_count": 12,
   "outputs": [
    {
     "name": "stdout",
     "output_type": "stream",
     "text": [
      "[[-0.13904303 -0.98789397  3.07782151]]\n",
      "[8.98]\n",
      "0.9081522016901077\n"
     ]
    }
   ],
   "source": [
    "print(model.coef_)\n",
    "print(model.intercept_)\n",
    "print(model.score(sc.transform(X), Y))"
   ],
   "metadata": {
    "collapsed": false,
    "pycharm": {
     "name": "#%%\n"
    }
   }
  },
  {
   "cell_type": "markdown",
   "source": [
    "# 練習35"
   ],
   "metadata": {
    "collapsed": false
   }
  },
  {
   "cell_type": "code",
   "execution_count": 13,
   "outputs": [
    {
     "data": {
      "text/plain": "                    GP   MIN  PTS  FGM  FGA   FG%  3P Made  3PA   3P%  FTM  \\\nName                                                                         \nAlvin Robertson     79  21.3  9.2  3.8  7.6  49.8      0.1  0.1  36.4  1.6   \nJose Slaughter      63   8.2  3.6  1.4  3.8  37.4      0.1  0.7  22.0  0.6   \nJoey Graham         80  19.8  6.7  2.5  5.2  47.8      0.4  1.1  33.3  1.4   \nJeremy Lamb         23   6.4  3.1  1.0  3.0  35.3      0.4  1.3  30.0  0.6   \nSylvester Gray      55  22.2  8.0  3.0  7.2  42.0      0.0  0.1  25.0  1.9   \n...                 ..   ...  ...  ...  ...   ...      ...  ...   ...  ...   \nBobby Brown         68  13.7  5.3  2.1  5.3  39.2      0.7  1.9  34.6  0.5   \nFrank Kaminsky      81  21.1  7.5  2.7  6.5  41.0      0.8  2.5  33.7  1.3   \nCorliss Williamson  53  11.5  5.6  2.4  5.1  46.6      0.0  0.1   0.0  0.9   \nJeff Wilkins        56  18.9  4.7  2.1  4.6  45.0      0.0  0.0   0.0  0.5   \nPatrick Patterson   52  16.7  6.3  2.9  5.1  55.8      0.0  0.0   0.0  0.6   \n\n                    FTA    FT%  OREB  DREB  REB  AST  STL  BLK  TOV  \\\nName                                                                  \nAlvin Robertson     2.1   73.4   1.5   1.9  3.4  3.5  1.6  0.3  2.1   \nJose Slaughter      0.9   64.4   0.5   0.5  1.1  0.8  0.6  0.1  0.7   \nJoey Graham         1.7   81.2   0.7   2.3  3.1  0.8  0.5  0.2  1.1   \nJeremy Lamb         0.6  100.0   0.2   0.6  0.8  0.2  0.1  0.1  0.3   \nSylvester Gray      2.8   67.3   2.1   3.1  5.2  2.1  0.7  0.5  1.9   \n...                 ...    ...   ...   ...  ...  ...  ...  ...  ...   \nBobby Brown         0.6   79.1   0.2   0.6  0.8  1.7  0.3  0.0  0.9   \nFrank Kaminsky      1.8   73.0   0.9   3.3  4.1  1.2  0.5  0.5  0.7   \nCorliss Williamson  1.6   56.0   1.1   1.1  2.2  0.4  0.2  0.2  1.4   \nJeff Wilkins        0.7   67.5   1.1   3.8  4.9  0.7  0.6  0.8  1.1   \nPatrick Patterson   0.8   71.4   1.7   2.2  3.8  0.8  0.3  0.7  0.6   \n\n                    TARGET_5Yrs  \nName                             \nAlvin Robertson               1  \nJose Slaughter                0  \nJoey Graham                   1  \nJeremy Lamb                   1  \nSylvester Gray                0  \n...                         ...  \nBobby Brown                   0  \nFrank Kaminsky                0  \nCorliss Williamson            1  \nJeff Wilkins                  1  \nPatrick Patterson             1  \n\n[1072 rows x 20 columns]",
      "text/html": "<div>\n<style scoped>\n    .dataframe tbody tr th:only-of-type {\n        vertical-align: middle;\n    }\n\n    .dataframe tbody tr th {\n        vertical-align: top;\n    }\n\n    .dataframe thead th {\n        text-align: right;\n    }\n</style>\n<table border=\"1\" class=\"dataframe\">\n  <thead>\n    <tr style=\"text-align: right;\">\n      <th></th>\n      <th>GP</th>\n      <th>MIN</th>\n      <th>PTS</th>\n      <th>FGM</th>\n      <th>FGA</th>\n      <th>FG%</th>\n      <th>3P Made</th>\n      <th>3PA</th>\n      <th>3P%</th>\n      <th>FTM</th>\n      <th>FTA</th>\n      <th>FT%</th>\n      <th>OREB</th>\n      <th>DREB</th>\n      <th>REB</th>\n      <th>AST</th>\n      <th>STL</th>\n      <th>BLK</th>\n      <th>TOV</th>\n      <th>TARGET_5Yrs</th>\n    </tr>\n    <tr>\n      <th>Name</th>\n      <th></th>\n      <th></th>\n      <th></th>\n      <th></th>\n      <th></th>\n      <th></th>\n      <th></th>\n      <th></th>\n      <th></th>\n      <th></th>\n      <th></th>\n      <th></th>\n      <th></th>\n      <th></th>\n      <th></th>\n      <th></th>\n      <th></th>\n      <th></th>\n      <th></th>\n      <th></th>\n    </tr>\n  </thead>\n  <tbody>\n    <tr>\n      <th>Alvin Robertson</th>\n      <td>79</td>\n      <td>21.3</td>\n      <td>9.2</td>\n      <td>3.8</td>\n      <td>7.6</td>\n      <td>49.8</td>\n      <td>0.1</td>\n      <td>0.1</td>\n      <td>36.4</td>\n      <td>1.6</td>\n      <td>2.1</td>\n      <td>73.4</td>\n      <td>1.5</td>\n      <td>1.9</td>\n      <td>3.4</td>\n      <td>3.5</td>\n      <td>1.6</td>\n      <td>0.3</td>\n      <td>2.1</td>\n      <td>1</td>\n    </tr>\n    <tr>\n      <th>Jose Slaughter</th>\n      <td>63</td>\n      <td>8.2</td>\n      <td>3.6</td>\n      <td>1.4</td>\n      <td>3.8</td>\n      <td>37.4</td>\n      <td>0.1</td>\n      <td>0.7</td>\n      <td>22.0</td>\n      <td>0.6</td>\n      <td>0.9</td>\n      <td>64.4</td>\n      <td>0.5</td>\n      <td>0.5</td>\n      <td>1.1</td>\n      <td>0.8</td>\n      <td>0.6</td>\n      <td>0.1</td>\n      <td>0.7</td>\n      <td>0</td>\n    </tr>\n    <tr>\n      <th>Joey Graham</th>\n      <td>80</td>\n      <td>19.8</td>\n      <td>6.7</td>\n      <td>2.5</td>\n      <td>5.2</td>\n      <td>47.8</td>\n      <td>0.4</td>\n      <td>1.1</td>\n      <td>33.3</td>\n      <td>1.4</td>\n      <td>1.7</td>\n      <td>81.2</td>\n      <td>0.7</td>\n      <td>2.3</td>\n      <td>3.1</td>\n      <td>0.8</td>\n      <td>0.5</td>\n      <td>0.2</td>\n      <td>1.1</td>\n      <td>1</td>\n    </tr>\n    <tr>\n      <th>Jeremy Lamb</th>\n      <td>23</td>\n      <td>6.4</td>\n      <td>3.1</td>\n      <td>1.0</td>\n      <td>3.0</td>\n      <td>35.3</td>\n      <td>0.4</td>\n      <td>1.3</td>\n      <td>30.0</td>\n      <td>0.6</td>\n      <td>0.6</td>\n      <td>100.0</td>\n      <td>0.2</td>\n      <td>0.6</td>\n      <td>0.8</td>\n      <td>0.2</td>\n      <td>0.1</td>\n      <td>0.1</td>\n      <td>0.3</td>\n      <td>1</td>\n    </tr>\n    <tr>\n      <th>Sylvester Gray</th>\n      <td>55</td>\n      <td>22.2</td>\n      <td>8.0</td>\n      <td>3.0</td>\n      <td>7.2</td>\n      <td>42.0</td>\n      <td>0.0</td>\n      <td>0.1</td>\n      <td>25.0</td>\n      <td>1.9</td>\n      <td>2.8</td>\n      <td>67.3</td>\n      <td>2.1</td>\n      <td>3.1</td>\n      <td>5.2</td>\n      <td>2.1</td>\n      <td>0.7</td>\n      <td>0.5</td>\n      <td>1.9</td>\n      <td>0</td>\n    </tr>\n    <tr>\n      <th>...</th>\n      <td>...</td>\n      <td>...</td>\n      <td>...</td>\n      <td>...</td>\n      <td>...</td>\n      <td>...</td>\n      <td>...</td>\n      <td>...</td>\n      <td>...</td>\n      <td>...</td>\n      <td>...</td>\n      <td>...</td>\n      <td>...</td>\n      <td>...</td>\n      <td>...</td>\n      <td>...</td>\n      <td>...</td>\n      <td>...</td>\n      <td>...</td>\n      <td>...</td>\n    </tr>\n    <tr>\n      <th>Bobby Brown</th>\n      <td>68</td>\n      <td>13.7</td>\n      <td>5.3</td>\n      <td>2.1</td>\n      <td>5.3</td>\n      <td>39.2</td>\n      <td>0.7</td>\n      <td>1.9</td>\n      <td>34.6</td>\n      <td>0.5</td>\n      <td>0.6</td>\n      <td>79.1</td>\n      <td>0.2</td>\n      <td>0.6</td>\n      <td>0.8</td>\n      <td>1.7</td>\n      <td>0.3</td>\n      <td>0.0</td>\n      <td>0.9</td>\n      <td>0</td>\n    </tr>\n    <tr>\n      <th>Frank Kaminsky</th>\n      <td>81</td>\n      <td>21.1</td>\n      <td>7.5</td>\n      <td>2.7</td>\n      <td>6.5</td>\n      <td>41.0</td>\n      <td>0.8</td>\n      <td>2.5</td>\n      <td>33.7</td>\n      <td>1.3</td>\n      <td>1.8</td>\n      <td>73.0</td>\n      <td>0.9</td>\n      <td>3.3</td>\n      <td>4.1</td>\n      <td>1.2</td>\n      <td>0.5</td>\n      <td>0.5</td>\n      <td>0.7</td>\n      <td>0</td>\n    </tr>\n    <tr>\n      <th>Corliss Williamson</th>\n      <td>53</td>\n      <td>11.5</td>\n      <td>5.6</td>\n      <td>2.4</td>\n      <td>5.1</td>\n      <td>46.6</td>\n      <td>0.0</td>\n      <td>0.1</td>\n      <td>0.0</td>\n      <td>0.9</td>\n      <td>1.6</td>\n      <td>56.0</td>\n      <td>1.1</td>\n      <td>1.1</td>\n      <td>2.2</td>\n      <td>0.4</td>\n      <td>0.2</td>\n      <td>0.2</td>\n      <td>1.4</td>\n      <td>1</td>\n    </tr>\n    <tr>\n      <th>Jeff Wilkins</th>\n      <td>56</td>\n      <td>18.9</td>\n      <td>4.7</td>\n      <td>2.1</td>\n      <td>4.6</td>\n      <td>45.0</td>\n      <td>0.0</td>\n      <td>0.0</td>\n      <td>0.0</td>\n      <td>0.5</td>\n      <td>0.7</td>\n      <td>67.5</td>\n      <td>1.1</td>\n      <td>3.8</td>\n      <td>4.9</td>\n      <td>0.7</td>\n      <td>0.6</td>\n      <td>0.8</td>\n      <td>1.1</td>\n      <td>1</td>\n    </tr>\n    <tr>\n      <th>Patrick Patterson</th>\n      <td>52</td>\n      <td>16.7</td>\n      <td>6.3</td>\n      <td>2.9</td>\n      <td>5.1</td>\n      <td>55.8</td>\n      <td>0.0</td>\n      <td>0.0</td>\n      <td>0.0</td>\n      <td>0.6</td>\n      <td>0.8</td>\n      <td>71.4</td>\n      <td>1.7</td>\n      <td>2.2</td>\n      <td>3.8</td>\n      <td>0.8</td>\n      <td>0.3</td>\n      <td>0.7</td>\n      <td>0.6</td>\n      <td>1</td>\n    </tr>\n  </tbody>\n</table>\n<p>1072 rows × 20 columns</p>\n</div>"
     },
     "execution_count": 13,
     "metadata": {},
     "output_type": "execute_result"
    }
   ],
   "source": [
    "df = pd.read_csv(\"NBA.csv\", index_col=0)\n",
    "df"
   ],
   "metadata": {
    "collapsed": false,
    "pycharm": {
     "name": "#%%\n"
    }
   }
  },
  {
   "cell_type": "code",
   "execution_count": 14,
   "outputs": [],
   "source": [
    "from sklearn.linear_model import LogisticRegression"
   ],
   "metadata": {
    "collapsed": false,
    "pycharm": {
     "name": "#%%\n"
    }
   }
  },
  {
   "cell_type": "code",
   "execution_count": 15,
   "outputs": [],
   "source": [
    "Y = df[\"TARGET_5Yrs\"]\n",
    "X = df.drop(\"TARGET_5Yrs\", axis=1)"
   ],
   "metadata": {
    "collapsed": false,
    "pycharm": {
     "name": "#%%\n"
    }
   }
  },
  {
   "cell_type": "code",
   "execution_count": 16,
   "outputs": [
    {
     "data": {
      "text/plain": "LogisticRegression(max_iter=10000)"
     },
     "execution_count": 16,
     "metadata": {},
     "output_type": "execute_result"
    }
   ],
   "source": [
    "model = LogisticRegression(max_iter=10000)\n",
    "model.fit(X, Y)"
   ],
   "metadata": {
    "collapsed": false,
    "pycharm": {
     "name": "#%%\n"
    }
   }
  },
  {
   "cell_type": "code",
   "execution_count": 17,
   "outputs": [
    {
     "name": "stdout",
     "output_type": "stream",
     "text": [
      "回帰係数: [[ 0.03843254 -0.04101862  0.18785479 -0.58620535  0.17379079  0.02223829\n",
      "   1.16253913 -0.54196337  0.00667007  0.060193   -0.0768157   0.01554569\n",
      "   0.79972771 -0.23168895  0.10396767  0.27208654 -0.19158499  0.3433438\n",
      "  -0.29532665]]\n",
      "切片: [-4.40093009]\n",
      "正答率: 0.7229477611940298\n"
     ]
    }
   ],
   "source": [
    "print(f\"回帰係数: {model.coef_}\")\n",
    "print(f\"切片: {model.intercept_}\")\n",
    "print(f\"正答率: {model.score(X, Y)}\")"
   ],
   "metadata": {
    "collapsed": false,
    "pycharm": {
     "name": "#%%\n"
    }
   }
  }
 ],
 "metadata": {
  "kernelspec": {
   "display_name": "Python 3",
   "language": "python",
   "name": "python3"
  },
  "language_info": {
   "codemirror_mode": {
    "name": "ipython",
    "version": 2
   },
   "file_extension": ".py",
   "mimetype": "text/x-python",
   "name": "python",
   "nbconvert_exporter": "python",
   "pygments_lexer": "ipython2",
   "version": "2.7.6"
  }
 },
 "nbformat": 4,
 "nbformat_minor": 0
}