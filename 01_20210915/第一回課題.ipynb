{
 "cells": [
  {
   "cell_type": "code",
   "execution_count": 1,
   "outputs": [
    {
     "name": "stdout",
     "output_type": "stream",
     "text": [
      "3025\n"
     ]
    }
   ],
   "source": [
    "def cubic_sum(n):\n",
    "    return (n ** 2 * (n + 1) ** 2)//4\n",
    "\n",
    "a = int(input(\"n = \"))\n",
    "print(cubic_sum(a))"
   ],
   "metadata": {
    "collapsed": false,
    "pycharm": {
     "name": "#%%\n"
    }
   }
  },
  {
   "cell_type": "code",
   "execution_count": 2,
   "outputs": [
    {
     "name": "stdout",
     "output_type": "stream",
     "text": [
      "25.652173913043477\n"
     ]
    }
   ],
   "source": [
    "def missenard(t, h):\n",
    "    return t - (t - 10)/2.3 * (0.8 - h/100)\n",
    "\n",
    "temperature = int(input(\"気温:\"))\n",
    "humidity = int(input(\"湿度:\"))\n",
    "print(missenard(temperature, humidity))"
   ],
   "metadata": {
    "collapsed": false,
    "pycharm": {
     "name": "#%%\n"
    }
   }
  },
  {
   "cell_type": "code",
   "execution_count": 3,
   "outputs": [
    {
     "name": "stdout",
     "output_type": "stream",
     "text": [
      "20.041170289823956\n"
     ]
    }
   ],
   "source": [
    "def bmi(w, h):\n",
    "    return w / h**2\n",
    "\n",
    "weight = float(input(\"体重(kg):\"))\n",
    "height = float(input(\"身長(m):\"))\n",
    "print(bmi(weight, height))"
   ],
   "metadata": {
    "collapsed": false,
    "pycharm": {
     "name": "#%%\n"
    }
   }
  }
 ],
 "metadata": {
  "kernelspec": {
   "display_name": "Python 3",
   "language": "python",
   "name": "python3"
  },
  "language_info": {
   "codemirror_mode": {
    "name": "ipython",
    "version": 2
   },
   "file_extension": ".py",
   "mimetype": "text/x-python",
   "name": "python",
   "nbconvert_exporter": "python",
   "pygments_lexer": "ipython2",
   "version": "2.7.6"
  }
 },
 "nbformat": 4,
 "nbformat_minor": 0
}