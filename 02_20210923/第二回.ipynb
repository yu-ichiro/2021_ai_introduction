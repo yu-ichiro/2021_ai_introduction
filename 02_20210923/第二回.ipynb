{
 "cells": [
  {
   "cell_type": "code",
   "execution_count": 33,
   "metadata": {
    "collapsed": true
   },
   "outputs": [
    {
     "name": "stdout",
     "output_type": "stream",
     "text": [
      "吉\n"
     ]
    }
   ],
   "source": [
    "import random\n",
    "\n",
    "fortune_tell = random.choices(\n",
    "    [\"大吉\", \"中吉\", \"吉\", \"小吉\", \"凶\", \"大凶\"],\n",
    "    [0.1, 0.1, 0.3, 0.1, 0.3, 0.1],\n",
    "    k=1\n",
    ")[0]\n",
    "print(fortune_tell)"
   ]
  }
 ],
 "metadata": {
  "kernelspec": {
   "display_name": "Python 3",
   "language": "python",
   "name": "python3"
  },
  "language_info": {
   "codemirror_mode": {
    "name": "ipython",
    "version": 2
   },
   "file_extension": ".py",
   "mimetype": "text/x-python",
   "name": "python",
   "nbconvert_exporter": "python",
   "pygments_lexer": "ipython2",
   "version": "2.7.6"
  }
 },
 "nbformat": 4,
 "nbformat_minor": 0
}